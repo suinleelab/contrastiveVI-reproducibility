{
 "cells": [
  {
   "cell_type": "code",
   "execution_count": 1,
   "id": "528c862e-7025-4959-b27c-74af680260f2",
   "metadata": {},
   "outputs": [],
   "source": [
    "import os\n",
    "\n",
    "import scanpy as sc\n",
    "\n",
    "from scripts import constants"
   ]
  },
  {
   "cell_type": "code",
   "execution_count": 2,
   "id": "13adebbc-997a-4dc5-a91d-01f06b0225eb",
   "metadata": {},
   "outputs": [],
   "source": [
    "dataset = \"norman_2019\""
   ]
  },
  {
   "cell_type": "code",
   "execution_count": 3,
   "id": "2d8cfed5-a166-46d9-895b-57aa6b4a9285",
   "metadata": {},
   "outputs": [],
   "source": [
    "adata = sc.read(\n",
    "    os.path.join(\n",
    "        constants.DEFAULT_DATA_PATH,\n",
    "        dataset,\n",
    "        \"preprocessed\",\n",
    "        \"adata_top_2000_genes_tc.h5ad\",\n",
    "    ),\n",
    ")"
   ]
  },
  {
   "cell_type": "code",
   "execution_count": 8,
   "id": "dbb7c85b-5eb2-40f5-9c19-a7f503996373",
   "metadata": {},
   "outputs": [],
   "source": [
    "split_key = constants.DATASET_SPLIT_LOOKUP[dataset][\"split_key\"]\n",
    "background_value = constants.DATASET_SPLIT_LOOKUP[dataset][\"background_value\"]\n",
    "label_key = constants.DATASET_SPLIT_LOOKUP[dataset][\"label_key\"]"
   ]
  },
  {
   "cell_type": "code",
   "execution_count": 5,
   "id": "bdb6b966-cba2-4f8d-96b7-4331ce3f263f",
   "metadata": {},
   "outputs": [],
   "source": [
    "target_adata = adata[adata.obs[split_key] != background_value]\n",
    "background_adata = adata[adata.obs[split_key] == background_value]"
   ]
  },
  {
   "cell_type": "code",
   "execution_count": 6,
   "id": "231d6c4a-39d9-4a50-95a2-f837fcf2ec12",
   "metadata": {},
   "outputs": [
    {
     "name": "stdout",
     "output_type": "stream",
     "text": [
      "Num target samples: 24913\n",
      "Num background samples: 8907\n"
     ]
    }
   ],
   "source": [
    "print(f\"Num target samples: {target_adata.n_obs}\")\n",
    "print(f\"Num background samples: {background_adata.n_obs}\")"
   ]
  },
  {
   "cell_type": "code",
   "execution_count": null,
   "id": "1ad11069-63c6-4825-8838-02537f641f3f",
   "metadata": {},
   "outputs": [],
   "source": []
  }
 ],
 "metadata": {
  "kernelspec": {
   "display_name": "Python 3 (ipykernel)",
   "language": "python",
   "name": "python3"
  },
  "language_info": {
   "codemirror_mode": {
    "name": "ipython",
    "version": 3
   },
   "file_extension": ".py",
   "mimetype": "text/x-python",
   "name": "python",
   "nbconvert_exporter": "python",
   "pygments_lexer": "ipython3",
   "version": "3.9.7"
  }
 },
 "nbformat": 4,
 "nbformat_minor": 5
}
