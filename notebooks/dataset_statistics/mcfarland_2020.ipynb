{
 "cells": [
  {
   "cell_type": "code",
   "execution_count": 1,
   "id": "528c862e-7025-4959-b27c-74af680260f2",
   "metadata": {},
   "outputs": [],
   "source": [
    "import os\n",
    "\n",
    "import scanpy as sc\n",
    "\n",
    "from scripts import constants"
   ]
  },
  {
   "cell_type": "code",
   "execution_count": 2,
   "id": "13adebbc-997a-4dc5-a91d-01f06b0225eb",
   "metadata": {},
   "outputs": [],
   "source": [
    "dataset = \"mcfarland_2020\""
   ]
  },
  {
   "cell_type": "code",
   "execution_count": 3,
   "id": "2d8cfed5-a166-46d9-895b-57aa6b4a9285",
   "metadata": {},
   "outputs": [
    {
     "name": "stderr",
     "output_type": "stream",
     "text": [
      "Observation names are not unique. To make them unique, call `.obs_names_make_unique`.\n"
     ]
    }
   ],
   "source": [
    "adata = sc.read(\n",
    "    os.path.join(\n",
    "        constants.DEFAULT_DATA_PATH,\n",
    "        dataset,\n",
    "        \"preprocessed\",\n",
    "        \"adata_top_2000_genes_tc.h5ad\",\n",
    "    ),\n",
    ")"
   ]
  },
  {
   "cell_type": "code",
   "execution_count": 4,
   "id": "dbb7c85b-5eb2-40f5-9c19-a7f503996373",
   "metadata": {},
   "outputs": [],
   "source": [
    "split_key = constants.DATASET_SPLIT_LOOKUP[dataset][\"split_key\"]\n",
    "background_value = constants.DATASET_SPLIT_LOOKUP[dataset][\"background_value\"]\n",
    "label_key = constants.DATASET_SPLIT_LOOKUP[dataset][\"label_key\"]"
   ]
  },
  {
   "cell_type": "code",
   "execution_count": 5,
   "id": "bdb6b966-cba2-4f8d-96b7-4331ce3f263f",
   "metadata": {},
   "outputs": [],
   "source": [
    "target_adata = adata[adata.obs[split_key] != background_value]\n",
    "background_adata = adata[adata.obs[split_key] == background_value]"
   ]
  },
  {
   "cell_type": "code",
   "execution_count": 6,
   "id": "231d6c4a-39d9-4a50-95a2-f837fcf2ec12",
   "metadata": {},
   "outputs": [
    {
     "name": "stdout",
     "output_type": "stream",
     "text": [
      "Num target samples: 3097\n",
      "Num background samples: 2831\n"
     ]
    }
   ],
   "source": [
    "print(f\"Num target samples: {target_adata.n_obs}\")\n",
    "print(f\"Num background samples: {background_adata.n_obs}\")"
   ]
  },
  {
   "cell_type": "code",
   "execution_count": 7,
   "id": "1ad11069-63c6-4825-8838-02537f641f3f",
   "metadata": {},
   "outputs": [],
   "source": [
    "background_by_cell_line = (\n",
    "    background_adata.obs\n",
    "    .groupby(\"cell_line\", as_index=False)\n",
    "    .count()\n",
    "    .sort_values(by=\"cell_line\")\n",
    "    [[\"cell_line\", split_key]]\n",
    "    .rename(columns={split_key: \"background_count\"})\n",
    ")"
   ]
  },
  {
   "cell_type": "code",
   "execution_count": 8,
   "id": "76b3526c-350a-48d7-928d-425a4e99cd4f",
   "metadata": {},
   "outputs": [],
   "source": [
    "target_by_cell_line = (\n",
    "    target_adata.obs\n",
    "    .groupby(\"cell_line\", as_index=False)\n",
    "    .count()\n",
    "    .sort_values(by=\"cell_line\")\n",
    "    [[\"cell_line\", split_key]]\n",
    "    .rename(columns={split_key: \"target_count\"})\n",
    ")"
   ]
  },
  {
   "cell_type": "code",
   "execution_count": 9,
   "id": "9fb00320-5ce9-48e4-81ce-df2ac9258899",
   "metadata": {},
   "outputs": [],
   "source": [
    "cell_line_count = background_by_cell_line.merge(target_by_cell_line, on=\"cell_line\")"
   ]
  },
  {
   "cell_type": "code",
   "execution_count": 10,
   "id": "6da49767-a596-46eb-965d-6dc59deede90",
   "metadata": {},
   "outputs": [
    {
     "name": "stdout",
     "output_type": "stream",
     "text": [
      "BICR6_UPPER_AERODIGESTIVE_TRACT & 82 & 111 \\\\\n",
      "BICR31_UPPER_AERODIGESTIVE_TRACT & 245 & 277 \\\\\n",
      "BT474_BREAST & 53 & 71 \\\\\n",
      "BT549_BREAST & 100 & 131 \\\\\n",
      "CAOV3_OVARY & 97 & 140 \\\\\n",
      "CCFSTTG1_CENTRAL_NERVOUS_SYSTEM & 103 & 77 \\\\\n",
      "COLO680N_OESOPHAGUS & 129 & 129 \\\\\n",
      "COV434_OVARY & 60 & 75 \\\\\n",
      "DKMG_CENTRAL_NERVOUS_SYSTEM & 103 & 93 \\\\\n",
      "IALM_LUNG & 105 & 141 \\\\\n",
      "LNCAPCLONEFGC_PROSTATE & 139 & 113 \\\\\n",
      "LS1034_LARGE_INTESTINE & 72 & 118 \\\\\n",
      "NCIH226_LUNG & 165 & 94 \\\\\n",
      "NCIH2347_LUNG & 111 & 159 \\\\\n",
      "RCC10RGB_KIDNEY & 172 & 114 \\\\\n",
      "RCM1_LARGE_INTESTINE & 109 & 133 \\\\\n",
      "RERFLCAD1_LUNG & 99 & 123 \\\\\n",
      "SH10TC_STOMACH & 123 & 122 \\\\\n",
      "SKMEL2_SKIN & 150 & 141 \\\\\n",
      "SKMEL3_SKIN & 145 & 183 \\\\\n",
      "SNU1079_BILIARY_TRACT & 101 & 105 \\\\\n",
      "SQ1_LUNG & 113 & 150 \\\\\n",
      "TEN_ENDOMETRIUM & 155 & 177 \\\\\n",
      "UMUC1_URINARY_TRACT & 100 & 120 \\\\\n"
     ]
    }
   ],
   "source": [
    "for _, row in cell_line_count.iterrows():\n",
    "    cell_line = row[\"cell_line\"]\n",
    "    background_count = row[\"background_count\"]\n",
    "    target_count = row[\"target_count\"]\n",
    "    print(\n",
    "        f\"{cell_line} & {background_count} & {target_count} \"\n",
    "        r\"\\\\\"\n",
    "    )"
   ]
  },
  {
   "cell_type": "code",
   "execution_count": null,
   "id": "92b2c5ff-9966-4ee0-ab22-068ac2116f3d",
   "metadata": {},
   "outputs": [],
   "source": []
  }
 ],
 "metadata": {
  "kernelspec": {
   "display_name": "Python 3 (ipykernel)",
   "language": "python",
   "name": "python3"
  },
  "language_info": {
   "codemirror_mode": {
    "name": "ipython",
    "version": 3
   },
   "file_extension": ".py",
   "mimetype": "text/x-python",
   "name": "python",
   "nbconvert_exporter": "python",
   "pygments_lexer": "ipython3",
   "version": "3.9.7"
  }
 },
 "nbformat": 4,
 "nbformat_minor": 5
}
