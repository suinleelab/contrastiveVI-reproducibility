{
 "cells": [
  {
   "cell_type": "code",
   "execution_count": 1,
   "id": "1a30ee90-9e35-4987-9254-3b75e774d6e1",
   "metadata": {},
   "outputs": [
    {
     "name": "stderr",
     "output_type": "stream",
     "text": [
      "Global seed set to 0\n",
      "During startup - Warning messages:\n",
      "1: package ‘methods’ was built under R version 3.6.1 \n",
      "2: package ‘datasets’ was built under R version 3.6.1 \n",
      "3: package ‘utils’ was built under R version 3.6.1 \n",
      "4: package ‘grDevices’ was built under R version 3.6.1 \n",
      "5: package ‘graphics’ was built under R version 3.6.1 \n",
      "6: package ‘stats’ was built under R version 3.6.1 \n"
     ]
    }
   ],
   "source": [
    "import os\n",
    "import torch\n",
    "\n",
    "import scanpy as sc\n",
    "import numpy as np\n",
    "import pandas as pd\n",
    "import gseapy as gp\n",
    "\n",
    "from tqdm import tqdm\n",
    "from sklearn.cluster import KMeans\n",
    "from contrastive_vi.model.contrastive_vi import ContrastiveVIModel\n",
    "from scripts import constants\n",
    "from scvi._settings import settings"
   ]
  },
  {
   "cell_type": "markdown",
   "id": "15c4ce5d-ba18-45c3-93df-07b395b3740b",
   "metadata": {},
   "source": [
    "## Load data and set up environment"
   ]
  },
  {
   "cell_type": "code",
   "execution_count": 2,
   "id": "69e38f98-0a04-43cf-a485-6c33386e2ac8",
   "metadata": {},
   "outputs": [
    {
     "name": "stderr",
     "output_type": "stream",
     "text": [
      "Global seed set to 0\n"
     ]
    }
   ],
   "source": [
    "settings.seed = 0\n",
    "device = \"cpu\"\n",
    "dataset = \"haber_2017\""
   ]
  },
  {
   "cell_type": "code",
   "execution_count": 3,
   "id": "1298aa8a-1bb7-4888-89f5-abe6a15a461b",
   "metadata": {},
   "outputs": [],
   "source": [
    "split_key = constants.DATASET_SPLIT_LOOKUP[dataset][\"split_key\"]\n",
    "background_value = constants.DATASET_SPLIT_LOOKUP[dataset][\"background_value\"]\n",
    "seeds = constants.DEFAULT_SEEDS\n",
    "latent_size = 10"
   ]
  },
  {
   "cell_type": "code",
   "execution_count": 4,
   "id": "56bbb7e9-13e5-4399-8032-330c0467e3c2",
   "metadata": {},
   "outputs": [
    {
     "name": "stdout",
     "output_type": "stream",
     "text": [
      "\u001b[34mINFO    \u001b[0m No batch_key inputted, assuming all cells are same batch                            \n",
      "\u001b[34mINFO    \u001b[0m No label_key inputted, assuming all cells have same label                           \n",
      "\u001b[34mINFO    \u001b[0m Using data from adata.layers\u001b[1m[\u001b[0m\u001b[32m\"count\"\u001b[0m\u001b[1m]\u001b[0m                                               \n",
      "\u001b[34mINFO    \u001b[0m Successfully registered anndata object containing \u001b[1;36m7721\u001b[0m cells, \u001b[1;36m2000\u001b[0m vars, \u001b[1;36m1\u001b[0m batches, \n",
      "         \u001b[1;36m1\u001b[0m labels, and \u001b[1;36m0\u001b[0m proteins. Also registered \u001b[1;36m0\u001b[0m extra categorical covariates and \u001b[1;36m0\u001b[0m extra\n",
      "         continuous covariates.                                                              \n",
      "\u001b[34mINFO    \u001b[0m Please do not further modify adata until model is trained.                          \n"
     ]
    }
   ],
   "source": [
    "adata = sc.read_h5ad(\n",
    "    os.path.join(\n",
    "        constants.DEFAULT_DATA_PATH,\n",
    "        f\"{dataset}/preprocessed/adata_top_2000_genes_tc.h5ad\",\n",
    "    )\n",
    ")\n",
    "ContrastiveVIModel.setup_anndata(adata, layer=\"count\")"
   ]
  },
  {
   "cell_type": "code",
   "execution_count": 5,
   "id": "2c819b82-1b72-44f9-ab3b-5fac7d0b0a54",
   "metadata": {},
   "outputs": [],
   "source": [
    "target_indices = np.where(adata.obs[split_key] != background_value)[0]\n",
    "target_adata = adata[target_indices]"
   ]
  },
  {
   "cell_type": "code",
   "execution_count": 6,
   "id": "6179e3e0-0aa3-438a-a001-8c0ef27c5636",
   "metadata": {},
   "outputs": [
    {
     "name": "stderr",
     "output_type": "stream",
     "text": [
      "100%|█████████████████████████████████████████████████████████████████████████████████████████████| 5/5 [00:59<00:00, 11.91s/it]\n"
     ]
    }
   ],
   "source": [
    "model_list = []\n",
    "latent_rep_list = []\n",
    "for seed in tqdm(seeds):\n",
    "    result_dir = os.path.join(\n",
    "        constants.DEFAULT_RESULTS_PATH,\n",
    "        f\"{dataset}/contrastiveVI/latent_{latent_size}\",\n",
    "        f\"{seed}\",\n",
    "    )\n",
    "    model_list.append(\n",
    "        torch.load(\n",
    "            os.path.join(result_dir, \"model.ckpt\"),\n",
    "            map_location=device,\n",
    "        ),\n",
    "    )\n",
    "    latent_rep_list.append(\n",
    "        np.load(os.path.join(result_dir, \"latent_representations.npy\")),\n",
    "    )"
   ]
  },
  {
   "cell_type": "markdown",
   "id": "d378e85d-958e-478b-9dbe-b1af9779144f",
   "metadata": {},
   "source": [
    "## contrastiveVI differential expression analysis\n",
    "Compare cells infected with Salmonella vs. cells infected with H. poly."
   ]
  },
  {
   "cell_type": "code",
   "execution_count": 7,
   "id": "bb545723-bd81-4d42-97c6-18ae60623a8f",
   "metadata": {
    "tags": []
   },
   "outputs": [
    {
     "name": "stdout",
     "output_type": "stream",
     "text": [
      "DE...: 100%|█████████████████████████████████████████████████████████████████████████████████████| 1/1 [04:02<00:00, 242.76s/it]\n",
      "DE...: 100%|█████████████████████████████████████████████████████████████████████████████████████| 1/1 [03:59<00:00, 239.64s/it]\n",
      "DE...: 100%|█████████████████████████████████████████████████████████████████████████████████████| 1/1 [04:01<00:00, 241.64s/it]\n",
      "DE...: 100%|█████████████████████████████████████████████████████████████████████████████████████| 1/1 [04:02<00:00, 242.65s/it]\n",
      "DE...: 100%|█████████████████████████████████████████████████████████████████████████████████████| 1/1 [04:03<00:00, 243.82s/it]\n"
     ]
    }
   ],
   "source": [
    "de_result_list = []\n",
    "for seed_index, seed in enumerate(seeds):\n",
    "    model = model_list[seed_index]\n",
    "    latent_rep = latent_rep_list[seed_index]\n",
    "    latent_clusters = KMeans(n_clusters=2, random_state=123).fit(latent_rep).labels_\n",
    "    cluster_label = f\"cluster_{seed}\"\n",
    "    \n",
    "    tmp_target_adata = target_adata.copy()\n",
    "    tmp_target_adata.obs[cluster_label] = latent_clusters.astype(str)\n",
    "    \n",
    "    de_result = model.differential_expression(\n",
    "        adata=tmp_target_adata,\n",
    "        groupby=cluster_label,\n",
    "        group1=\"0\",\n",
    "        group2=\"1\",\n",
    "        idx1=None,\n",
    "        idx2=None,\n",
    "        mode=\"change\",\n",
    "        delta=0.25,\n",
    "        batch_size=128,\n",
    "        all_stats=True,\n",
    "        batch_correction=False,\n",
    "        batchid1=None,\n",
    "        batchid2=None,\n",
    "        fdr_target=0.05,\n",
    "        silent=False,\n",
    "    )\n",
    "    \n",
    "    de_result.reset_index()\n",
    "    de_result[\"gene_symbol\"] = de_result.index\n",
    "    de_result[\"seed\"] = seed\n",
    "    de_result_list.append(de_result)"
   ]
  },
  {
   "cell_type": "code",
   "execution_count": 8,
   "id": "048e181b-01c0-4b5a-863f-c27496a8c381",
   "metadata": {},
   "outputs": [],
   "source": [
    "de_result = pd.concat(de_result_list)"
   ]
  },
  {
   "cell_type": "code",
   "execution_count": 9,
   "id": "d4e37fcd-b309-4803-93d3-0b9799ec3ccd",
   "metadata": {},
   "outputs": [],
   "source": [
    "de_result_mean = (\n",
    "    de_result.groupby(\"gene_symbol\", as_index=False)\n",
    "    .mean()\n",
    "    .sort_values(by=\"proba_de\", ascending=False)\n",
    ")"
   ]
  },
  {
   "cell_type": "markdown",
   "id": "ac3c9ea4-3350-4f5e-8056-1ff7f6c04d56",
   "metadata": {},
   "source": [
    "## Pathway enrichment analysis with top differentially expressed genes"
   ]
  },
  {
   "cell_type": "code",
   "execution_count": 10,
   "id": "36bfe2ef-a6b5-4389-89c4-7a25317c9666",
   "metadata": {},
   "outputs": [],
   "source": [
    "top_genes = de_result_mean[de_result_mean[\"proba_de\"] > 0.95][\"gene_symbol\"].tolist()\n",
    "\n",
    "enr = gp.enrichr(\n",
    "    gene_list=top_genes,\n",
    "    gene_sets=\"KEGG_2019_Mouse\",\n",
    "    organism=\"mouse\",\n",
    "    cutoff=0.05,\n",
    ")\n",
    "\n",
    "enr_results = enr.results\n",
    "enr_results = enr_results[enr_results[\"Adjusted P-value\"] < 0.05]"
   ]
  },
  {
   "cell_type": "code",
   "execution_count": 11,
   "id": "b93eea44-42ce-4b52-b77f-9884648c172b",
   "metadata": {},
   "outputs": [
    {
     "data": {
      "text/html": [
       "<div>\n",
       "<style scoped>\n",
       "    .dataframe tbody tr th:only-of-type {\n",
       "        vertical-align: middle;\n",
       "    }\n",
       "\n",
       "    .dataframe tbody tr th {\n",
       "        vertical-align: top;\n",
       "    }\n",
       "\n",
       "    .dataframe thead th {\n",
       "        text-align: right;\n",
       "    }\n",
       "</style>\n",
       "<table border=\"1\" class=\"dataframe\">\n",
       "  <thead>\n",
       "    <tr style=\"text-align: right;\">\n",
       "      <th></th>\n",
       "      <th>Gene_set</th>\n",
       "      <th>Term</th>\n",
       "      <th>Adjusted P-value</th>\n",
       "      <th>Overlap</th>\n",
       "      <th>Genes</th>\n",
       "    </tr>\n",
       "  </thead>\n",
       "  <tbody>\n",
       "    <tr>\n",
       "      <th>0</th>\n",
       "      <td>KEGG_2019_Mouse</td>\n",
       "      <td>Fat digestion and absorption</td>\n",
       "      <td>0.023545</td>\n",
       "      <td>5/40</td>\n",
       "      <td>FABP1;FABP2;PLA2G3;APOA1;APOA4</td>\n",
       "    </tr>\n",
       "    <tr>\n",
       "      <th>1</th>\n",
       "      <td>KEGG_2019_Mouse</td>\n",
       "      <td>Vitamin digestion and absorption</td>\n",
       "      <td>0.023545</td>\n",
       "      <td>4/24</td>\n",
       "      <td>CUBN;RBP2;APOA1;APOA4</td>\n",
       "    </tr>\n",
       "    <tr>\n",
       "      <th>2</th>\n",
       "      <td>KEGG_2019_Mouse</td>\n",
       "      <td>Cholesterol metabolism</td>\n",
       "      <td>0.029304</td>\n",
       "      <td>5/49</td>\n",
       "      <td>APOH;APOC2;APOA1;APOC3;APOA4</td>\n",
       "    </tr>\n",
       "  </tbody>\n",
       "</table>\n",
       "</div>"
      ],
      "text/plain": [
       "          Gene_set                              Term  Adjusted P-value  \\\n",
       "0  KEGG_2019_Mouse      Fat digestion and absorption          0.023545   \n",
       "1  KEGG_2019_Mouse  Vitamin digestion and absorption          0.023545   \n",
       "2  KEGG_2019_Mouse            Cholesterol metabolism          0.029304   \n",
       "\n",
       "  Overlap                           Genes  \n",
       "0    5/40  FABP1;FABP2;PLA2G3;APOA1;APOA4  \n",
       "1    4/24           CUBN;RBP2;APOA1;APOA4  \n",
       "2    5/49    APOH;APOC2;APOA1;APOC3;APOA4  "
      ]
     },
     "execution_count": 11,
     "metadata": {},
     "output_type": "execute_result"
    }
   ],
   "source": [
    "cols = [\"Gene_set\", \"Term\", \"Adjusted P-value\", \"Overlap\", \"Genes\"]\n",
    "enr_results[cols]"
   ]
  },
  {
   "cell_type": "code",
   "execution_count": 12,
   "id": "dd3af64c-fda2-4ad8-8253-567c826c04df",
   "metadata": {},
   "outputs": [
    {
     "data": {
      "text/plain": [
       "['Fat digestion and absorption',\n",
       " 'Vitamin digestion and absorption',\n",
       " 'Cholesterol metabolism']"
      ]
     },
     "execution_count": 12,
     "metadata": {},
     "output_type": "execute_result"
    }
   ],
   "source": [
    "enr_results[\"Term\"].tolist()"
   ]
  },
  {
   "cell_type": "code",
   "execution_count": 13,
   "id": "9075dca4-8b81-4daa-b6e4-65d153a8fc96",
   "metadata": {},
   "outputs": [
    {
     "data": {
      "text/plain": [
       "280"
      ]
     },
     "execution_count": 13,
     "metadata": {},
     "output_type": "execute_result"
    }
   ],
   "source": [
    "len(top_genes)"
   ]
  },
  {
   "cell_type": "markdown",
   "id": "cfed1297-d623-4e00-911f-ad474177b831",
   "metadata": {},
   "source": [
    "## Check differential expression results against original paper results"
   ]
  },
  {
   "cell_type": "code",
   "execution_count": 14,
   "id": "fb91861e-f5f0-4119-a885-53a8da9ed8fb",
   "metadata": {},
   "outputs": [],
   "source": [
    "original_salmonella_results = pd.read_excel(\n",
    "    os.path.join(\n",
    "        constants.DEFAULT_DATA_PATH,\n",
    "        dataset,\n",
    "        \"41586_2017_BFnature24489_MOESM10_ESM.xlsx\",\n",
    "    ),\n",
    "    sheet_name=\"Salmonella\",\n",
    "    header=1,\n",
    ")\n",
    "\n",
    "original_salmonella_degs = original_salmonella_results[\n",
    "    original_salmonella_results[\"Gene category\"] == \"global.filtered\"\n",
    "][\"Gene\"].tolist()\n",
    "original_salmonella_degs = [\n",
    "    gene.upper() for gene in original_salmonella_degs\n",
    "    if type(gene) is str  # Filter out weird rows with date info.\n",
    "]\n",
    "original_salmonella_degs = set(original_salmonella_degs)"
   ]
  },
  {
   "cell_type": "code",
   "execution_count": 15,
   "id": "74dc75dd-29cd-46df-92fd-b4be72c8ac16",
   "metadata": {},
   "outputs": [],
   "source": [
    "original_hpoly_results = pd.read_excel(\n",
    "    os.path.join(\n",
    "        constants.DEFAULT_DATA_PATH,\n",
    "        dataset,\n",
    "        \"41586_2017_BFnature24489_MOESM10_ESM.xlsx\",\n",
    "    ),\n",
    "    sheet_name=\"H.poly (Day 10)\",\n",
    "    header=1,\n",
    ")\n",
    "\n",
    "original_hpoly_degs = original_hpoly_results[\n",
    "    original_hpoly_results[\"Gene category\"] == \"global.filtered\"\n",
    "][\"Gene\"].tolist()\n",
    "original_hpoly_degs = [\n",
    "    gene.upper() for gene in original_hpoly_degs \n",
    "    if type(gene) is str  # Filter out weird rows with date info.\n",
    "]\n",
    "original_hpoly_degs = set(original_hpoly_degs)"
   ]
  },
  {
   "cell_type": "code",
   "execution_count": 16,
   "id": "05bd6ef6-7612-4fe7-9837-1fa82e31af0c",
   "metadata": {},
   "outputs": [],
   "source": [
    "original_unique_degs = (\n",
    "    original_salmonella_degs.union(original_hpoly_degs)\n",
    "    - original_salmonella_degs.intersection(original_hpoly_degs)\n",
    ")"
   ]
  },
  {
   "cell_type": "code",
   "execution_count": 17,
   "id": "3694359e-759c-4ed5-9115-4e1fa1569d72",
   "metadata": {},
   "outputs": [],
   "source": [
    "original_salmonella_degs = pd.DataFrame(\n",
    "    {\"gene_symbol\": list(original_salmonella_degs), \"salmonella_deg\": True}\n",
    ")\n",
    "original_hpoly_degs = pd.DataFrame(\n",
    "    {\"gene_symbol\": list(original_hpoly_degs), \"hpoly_deg\": True}\n",
    ")\n",
    "original_unique_degs = pd.DataFrame(\n",
    "    {\"gene_symbol\": list(original_unique_degs), \"unique_deg\": True}\n",
    ")"
   ]
  },
  {
   "cell_type": "code",
   "execution_count": 18,
   "id": "05cbe7b7-a2b1-4cbb-bcde-18e67a88bd43",
   "metadata": {},
   "outputs": [],
   "source": [
    "de_result_mean = (\n",
    "    de_result_mean\n",
    "    .merge(original_salmonella_degs, on=\"gene_symbol\", how=\"left\")\n",
    "    .merge(original_hpoly_degs, on=\"gene_symbol\", how=\"left\")\n",
    "    .merge(original_unique_degs, on=\"gene_symbol\", how=\"left\")\n",
    ")\n",
    "de_result_mean[[\"salmonella_deg\", \"hpoly_deg\", \"unique_deg\"]] = (\n",
    "    de_result_mean[[\"salmonella_deg\", \"hpoly_deg\", \"unique_deg\"]].fillna(False)\n",
    ")"
   ]
  },
  {
   "cell_type": "code",
   "execution_count": 19,
   "id": "81e61f50-788c-43d4-a0be-0a379e32b05f",
   "metadata": {},
   "outputs": [
    {
     "data": {
      "text/plain": [
       "0.9165261375661374"
      ]
     },
     "execution_count": 19,
     "metadata": {},
     "output_type": "execute_result"
    }
   ],
   "source": [
    "de_result_mean[de_result_mean[\"unique_deg\"]][\"proba_de\"].mean()"
   ]
  },
  {
   "cell_type": "code",
   "execution_count": 20,
   "id": "a3df8569-b333-4246-b3f1-efea0f3b3b20",
   "metadata": {},
   "outputs": [
    {
     "data": {
      "text/plain": [
       "0.9315457979017118"
      ]
     },
     "execution_count": 20,
     "metadata": {},
     "output_type": "execute_result"
    }
   ],
   "source": [
    "de_result_mean[~de_result_mean[\"unique_deg\"]][\"proba_de\"].mean()"
   ]
  },
  {
   "cell_type": "markdown",
   "id": "75156b89-262f-4fb2-8ac5-2c108a891d7a",
   "metadata": {},
   "source": [
    "## Check genes associated with enrich pathways against original paper results"
   ]
  },
  {
   "cell_type": "code",
   "execution_count": 21,
   "id": "193a3d25-bf90-4c34-9805-4bdff118d5af",
   "metadata": {},
   "outputs": [],
   "source": [
    "enriched_pathway_genes = [\n",
    "    set(row[\"Genes\"].split(\";\")) for _, row in enr_results.iterrows()\n",
    "]\n",
    "enriched_pathway_genes = set.union(*enriched_pathway_genes)\n",
    "enriched_pathway_genes = pd.DataFrame({\"gene_symbol\": list(enriched_pathway_genes)})"
   ]
  },
  {
   "cell_type": "code",
   "execution_count": 22,
   "id": "be4f6155-7d88-4912-90b9-e2235749d2d7",
   "metadata": {},
   "outputs": [],
   "source": [
    "enriched_pathway_genes = (\n",
    "    enriched_pathway_genes\n",
    "    .merge(original_salmonella_degs, on=\"gene_symbol\", how=\"left\")\n",
    "    .merge(original_hpoly_degs, on=\"gene_symbol\", how=\"left\")\n",
    "    .merge(original_unique_degs, on=\"gene_symbol\", how=\"left\")\n",
    ")\n",
    "enriched_pathway_genes[[\"salmonella_deg\", \"hpoly_deg\", \"unique_deg\"]] = (\n",
    "    enriched_pathway_genes[[\"salmonella_deg\", \"hpoly_deg\", \"unique_deg\"]].fillna(False)\n",
    ")"
   ]
  },
  {
   "cell_type": "code",
   "execution_count": 23,
   "id": "130f1566-add3-4fa2-89d0-b914c16a6021",
   "metadata": {},
   "outputs": [
    {
     "data": {
      "text/html": [
       "<div>\n",
       "<style scoped>\n",
       "    .dataframe tbody tr th:only-of-type {\n",
       "        vertical-align: middle;\n",
       "    }\n",
       "\n",
       "    .dataframe tbody tr th {\n",
       "        vertical-align: top;\n",
       "    }\n",
       "\n",
       "    .dataframe thead th {\n",
       "        text-align: right;\n",
       "    }\n",
       "</style>\n",
       "<table border=\"1\" class=\"dataframe\">\n",
       "  <thead>\n",
       "    <tr style=\"text-align: right;\">\n",
       "      <th></th>\n",
       "      <th>gene_symbol</th>\n",
       "      <th>salmonella_deg</th>\n",
       "      <th>hpoly_deg</th>\n",
       "      <th>unique_deg</th>\n",
       "    </tr>\n",
       "  </thead>\n",
       "  <tbody>\n",
       "    <tr>\n",
       "      <th>0</th>\n",
       "      <td>PLA2G3</td>\n",
       "      <td>False</td>\n",
       "      <td>False</td>\n",
       "      <td>False</td>\n",
       "    </tr>\n",
       "    <tr>\n",
       "      <th>1</th>\n",
       "      <td>FABP2</td>\n",
       "      <td>True</td>\n",
       "      <td>True</td>\n",
       "      <td>False</td>\n",
       "    </tr>\n",
       "    <tr>\n",
       "      <th>2</th>\n",
       "      <td>APOC3</td>\n",
       "      <td>True</td>\n",
       "      <td>True</td>\n",
       "      <td>False</td>\n",
       "    </tr>\n",
       "    <tr>\n",
       "      <th>4</th>\n",
       "      <td>APOH</td>\n",
       "      <td>False</td>\n",
       "      <td>False</td>\n",
       "      <td>False</td>\n",
       "    </tr>\n",
       "    <tr>\n",
       "      <th>3</th>\n",
       "      <td>APOA4</td>\n",
       "      <td>True</td>\n",
       "      <td>False</td>\n",
       "      <td>True</td>\n",
       "    </tr>\n",
       "    <tr>\n",
       "      <th>5</th>\n",
       "      <td>APOC2</td>\n",
       "      <td>True</td>\n",
       "      <td>False</td>\n",
       "      <td>True</td>\n",
       "    </tr>\n",
       "    <tr>\n",
       "      <th>6</th>\n",
       "      <td>APOA1</td>\n",
       "      <td>True</td>\n",
       "      <td>False</td>\n",
       "      <td>True</td>\n",
       "    </tr>\n",
       "    <tr>\n",
       "      <th>7</th>\n",
       "      <td>FABP1</td>\n",
       "      <td>True</td>\n",
       "      <td>False</td>\n",
       "      <td>True</td>\n",
       "    </tr>\n",
       "    <tr>\n",
       "      <th>8</th>\n",
       "      <td>CUBN</td>\n",
       "      <td>False</td>\n",
       "      <td>True</td>\n",
       "      <td>True</td>\n",
       "    </tr>\n",
       "    <tr>\n",
       "      <th>9</th>\n",
       "      <td>RBP2</td>\n",
       "      <td>True</td>\n",
       "      <td>False</td>\n",
       "      <td>True</td>\n",
       "    </tr>\n",
       "  </tbody>\n",
       "</table>\n",
       "</div>"
      ],
      "text/plain": [
       "  gene_symbol  salmonella_deg  hpoly_deg  unique_deg\n",
       "0      PLA2G3           False      False       False\n",
       "1       FABP2            True       True       False\n",
       "2       APOC3            True       True       False\n",
       "4        APOH           False      False       False\n",
       "3       APOA4            True      False        True\n",
       "5       APOC2            True      False        True\n",
       "6       APOA1            True      False        True\n",
       "7       FABP1            True      False        True\n",
       "8        CUBN           False       True        True\n",
       "9        RBP2            True      False        True"
      ]
     },
     "execution_count": 23,
     "metadata": {},
     "output_type": "execute_result"
    }
   ],
   "source": [
    "enriched_pathway_genes.sort_values(\"unique_deg\")"
   ]
  },
  {
   "cell_type": "markdown",
   "id": "29063b6b-4246-441c-964a-e9618faab569",
   "metadata": {},
   "source": [
    "### For genes not labeled as uniquely differentially expressed in the original paper, check whether related related genes are uniquely differentially expressed."
   ]
  },
  {
   "cell_type": "code",
   "execution_count": 24,
   "id": "311386e9-4757-4210-ad37-2378cf57654e",
   "metadata": {},
   "outputs": [
    {
     "name": "stdout",
     "output_type": "stream",
     "text": [
      "['APOC2']\n"
     ]
    }
   ],
   "source": [
    "# APOC3\n",
    "print([gene for gene in original_unique_degs[\"gene_symbol\"] if \"APOC\" in gene])"
   ]
  },
  {
   "cell_type": "code",
   "execution_count": 25,
   "id": "8bcbf7de-ba09-4644-9ccc-747749b3d9d0",
   "metadata": {},
   "outputs": [
    {
     "name": "stdout",
     "output_type": "stream",
     "text": [
      "['PLA2G12B', 'PLA2G4C', 'PLA2G5']\n"
     ]
    }
   ],
   "source": [
    "# PLA2G3\n",
    "print([gene for gene in original_unique_degs[\"gene_symbol\"] if \"PLA2\" in gene])"
   ]
  },
  {
   "cell_type": "code",
   "execution_count": 26,
   "id": "c0813033-404a-44e7-9ca5-8e7573b6e393",
   "metadata": {},
   "outputs": [
    {
     "name": "stdout",
     "output_type": "stream",
     "text": [
      "['FABP1', 'FABP6']\n"
     ]
    }
   ],
   "source": [
    "# FABP2\n",
    "print([gene for gene in original_unique_degs[\"gene_symbol\"] if \"FAB\" in gene])"
   ]
  },
  {
   "cell_type": "code",
   "execution_count": 27,
   "id": "33775e53-0e94-4656-9266-cbdb42cdebfe",
   "metadata": {
    "tags": []
   },
   "outputs": [
    {
     "name": "stdout",
     "output_type": "stream",
     "text": [
      "['APOL10A', 'APOL7A', 'APOC2', 'APOA1', 'APOA4']\n"
     ]
    }
   ],
   "source": [
    "# APOH\n",
    "print([gene for gene in original_unique_degs[\"gene_symbol\"] if \"APO\" in gene])"
   ]
  },
  {
   "cell_type": "markdown",
   "id": "ead60d78-337c-4aab-b62d-c82fda10329f",
   "metadata": {},
   "source": [
    "APOH is an apolipoprotein like APOC2, APOA1, etc. We can conclude that all the genes identified in the statistically significant enriched pathways are related to the uniquely differentially expressed genes identified in the original paper (Haber et al. 2017). It has been shown that apolipoproteins and, in general, lipid and lipoprotein metabolism are rleated to infection and inflammation (https://pubmed.ncbi.nlm.nih.gov/15102878/). Pathogen infection is also related to cholesterol metobalism (https://www.ncbi.nlm.nih.gov/pmc/articles/PMC4219984/) as identified by the pathway enrichment analysis. "
   ]
  },
  {
   "cell_type": "code",
   "execution_count": null,
   "id": "8ff16911-672f-479b-85a0-b9d680bd43a4",
   "metadata": {},
   "outputs": [],
   "source": []
  }
 ],
 "metadata": {
  "kernelspec": {
   "display_name": "Python 3 (ipykernel)",
   "language": "python",
   "name": "python3"
  },
  "language_info": {
   "codemirror_mode": {
    "name": "ipython",
    "version": 3
   },
   "file_extension": ".py",
   "mimetype": "text/x-python",
   "name": "python",
   "nbconvert_exporter": "python",
   "pygments_lexer": "ipython3",
   "version": "3.9.7"
  }
 },
 "nbformat": 4,
 "nbformat_minor": 5
}
