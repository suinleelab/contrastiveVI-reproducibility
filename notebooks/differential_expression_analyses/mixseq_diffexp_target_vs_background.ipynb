{
 "cells": [
  {
   "cell_type": "code",
   "execution_count": 1,
   "id": "95409e76-7d17-4e55-818a-31b03a418c4f",
   "metadata": {},
   "outputs": [
    {
     "name": "stderr",
     "output_type": "stream",
     "text": [
      "Global seed set to 0\n",
      "During startup - Warning messages:\n",
      "1: package ‘methods’ was built under R version 3.6.1 \n",
      "2: package ‘datasets’ was built under R version 3.6.1 \n",
      "3: package ‘utils’ was built under R version 3.6.1 \n",
      "4: package ‘grDevices’ was built under R version 3.6.1 \n",
      "5: package ‘graphics’ was built under R version 3.6.1 \n",
      "6: package ‘stats’ was built under R version 3.6.1 \n"
     ]
    }
   ],
   "source": [
    "import os\n",
    "import torch\n",
    "\n",
    "import scanpy as sc\n",
    "import numpy as np\n",
    "import pandas as pd\n",
    "import gseapy as gp\n",
    "\n",
    "from tqdm import tqdm\n",
    "from sklearn.cluster import KMeans\n",
    "from contrastive_vi.model.contrastive_vi import ContrastiveVIModel\n",
    "from scripts import constants\n",
    "from scvi._settings import settings"
   ]
  },
  {
   "cell_type": "code",
   "execution_count": 2,
   "id": "69e38f98-0a04-43cf-a485-6c33386e2ac8",
   "metadata": {},
   "outputs": [
    {
     "name": "stderr",
     "output_type": "stream",
     "text": [
      "Global seed set to 0\n"
     ]
    }
   ],
   "source": [
    "settings.seed = 0\n",
    "device = \"cuda:1\"\n",
    "dataset = \"mcfarland_2020\""
   ]
  },
  {
   "cell_type": "code",
   "execution_count": 3,
   "id": "e2158667-4506-489f-9eb1-c0416418f468",
   "metadata": {},
   "outputs": [],
   "source": [
    "pathway_enr_fdr = 0.05\n",
    "expression_delta = 0.15"
   ]
  },
  {
   "cell_type": "code",
   "execution_count": 4,
   "id": "1298aa8a-1bb7-4888-89f5-abe6a15a461b",
   "metadata": {},
   "outputs": [],
   "source": [
    "split_key = constants.DATASET_SPLIT_LOOKUP[dataset][\"split_key\"]\n",
    "background_value = constants.DATASET_SPLIT_LOOKUP[dataset][\"background_value\"]\n",
    "label_key = constants.DATASET_SPLIT_LOOKUP[dataset][\"label_key\"]\n",
    "seeds = constants.DEFAULT_SEEDS\n",
    "latent_size = 10"
   ]
  },
  {
   "cell_type": "code",
   "execution_count": 5,
   "id": "56bbb7e9-13e5-4399-8032-330c0467e3c2",
   "metadata": {},
   "outputs": [
    {
     "name": "stderr",
     "output_type": "stream",
     "text": [
      "Observation names are not unique. To make them unique, call `.obs_names_make_unique`.\n"
     ]
    },
    {
     "name": "stdout",
     "output_type": "stream",
     "text": [
      "\u001b[34mINFO    \u001b[0m No batch_key inputted, assuming all cells are same batch                            \n",
      "\u001b[34mINFO    \u001b[0m No label_key inputted, assuming all cells have same label                           \n",
      "\u001b[34mINFO    \u001b[0m Using data from adata.layers\u001b[1m[\u001b[0m\u001b[32m\"count\"\u001b[0m\u001b[1m]\u001b[0m                                               \n",
      "\u001b[34mINFO    \u001b[0m Successfully registered anndata object containing \u001b[1;36m5928\u001b[0m cells, \u001b[1;36m2000\u001b[0m vars, \u001b[1;36m1\u001b[0m batches, \n",
      "         \u001b[1;36m1\u001b[0m labels, and \u001b[1;36m0\u001b[0m proteins. Also registered \u001b[1;36m0\u001b[0m extra categorical covariates and \u001b[1;36m0\u001b[0m extra\n",
      "         continuous covariates.                                                              \n",
      "\u001b[34mINFO    \u001b[0m Please do not further modify adata until model is trained.                          \n"
     ]
    }
   ],
   "source": [
    "adata = sc.read_h5ad(\n",
    "    os.path.join(\n",
    "        constants.DEFAULT_DATA_PATH,\n",
    "        f\"{dataset}/preprocessed/adata_top_2000_genes_tc.h5ad\",\n",
    "    )\n",
    ")\n",
    "ContrastiveVIModel.setup_anndata(adata, layer=\"count\")"
   ]
  },
  {
   "cell_type": "code",
   "execution_count": 6,
   "id": "2c819b82-1b72-44f9-ab3b-5fac7d0b0a54",
   "metadata": {},
   "outputs": [],
   "source": [
    "target_indices = np.where(adata.obs[split_key] != background_value)[0]\n",
    "background_indices = np.where(adata.obs[split_key] == background_value)[0]"
   ]
  },
  {
   "cell_type": "code",
   "execution_count": 7,
   "id": "e5db5963-993b-426a-98fa-6d1fd1f1d09a",
   "metadata": {},
   "outputs": [],
   "source": [
    "genes = pd.read_table(\n",
    "    os.path.join(\n",
    "        constants.DEFAULT_DATA_PATH,\n",
    "        dataset,\n",
    "        \"idasanutlin\",\n",
    "        \"Idasanutlin_24hr_expt1\",\n",
    "        \"genes.tsv\",\n",
    "    ),\n",
    "    header=None,\n",
    ")\n",
    "genes = genes.rename(columns={0: \"ensembl_id\", 1: \"gene_symbol\"})\n",
    "genes = genes[genes[\"ensembl_id\"].isin(adata.var.index)]"
   ]
  },
  {
   "cell_type": "code",
   "execution_count": 8,
   "id": "6179e3e0-0aa3-438a-a001-8c0ef27c5636",
   "metadata": {},
   "outputs": [
    {
     "name": "stderr",
     "output_type": "stream",
     "text": [
      "100%|█████████████████████████████████████████████████████████████████████████████████████████████| 5/5 [00:08<00:00,  1.69s/it]\n"
     ]
    }
   ],
   "source": [
    "model_list = []\n",
    "for seed in tqdm(seeds):\n",
    "    result_dir = os.path.join(\n",
    "        constants.DEFAULT_RESULTS_PATH,\n",
    "        f\"{dataset}/contrastiveVI/latent_{latent_size}\",\n",
    "        f\"{seed}\",\n",
    "    )\n",
    "    model_list.append(\n",
    "        torch.load(\n",
    "            os.path.join(result_dir, \"model.ckpt\"),\n",
    "            map_location=device,\n",
    "        ),\n",
    "    )"
   ]
  },
  {
   "cell_type": "code",
   "execution_count": 9,
   "id": "bb545723-bd81-4d42-97c6-18ae60623a8f",
   "metadata": {},
   "outputs": [
    {
     "name": "stdout",
     "output_type": "stream",
     "text": [
      "DE...: 100%|██████████████████████████████████████████████████████████████████████████████████████| 1/1 [00:33<00:00, 33.29s/it]\n"
     ]
    },
    {
     "name": "stderr",
     "output_type": "stream",
     "text": [
      "/tmp/ipykernel_21940/1947209614.py:40: SettingWithCopyWarning: \n",
      "A value is trying to be set on a copy of a slice from a DataFrame.\n",
      "Try using .loc[row_indexer,col_indexer] = value instead\n",
      "\n",
      "See the caveats in the documentation: https://pandas.pydata.org/pandas-docs/stable/user_guide/indexing.html#returning-a-view-versus-a-copy\n",
      "  enr_result[\"seed\"] = seed\n"
     ]
    },
    {
     "name": "stdout",
     "output_type": "stream",
     "text": [
      "DE...: 100%|██████████████████████████████████████████████████████████████████████████████████████| 1/1 [00:33<00:00, 33.21s/it]\n"
     ]
    },
    {
     "name": "stderr",
     "output_type": "stream",
     "text": [
      "/tmp/ipykernel_21940/1947209614.py:40: SettingWithCopyWarning: \n",
      "A value is trying to be set on a copy of a slice from a DataFrame.\n",
      "Try using .loc[row_indexer,col_indexer] = value instead\n",
      "\n",
      "See the caveats in the documentation: https://pandas.pydata.org/pandas-docs/stable/user_guide/indexing.html#returning-a-view-versus-a-copy\n",
      "  enr_result[\"seed\"] = seed\n"
     ]
    },
    {
     "name": "stdout",
     "output_type": "stream",
     "text": [
      "DE...: 100%|██████████████████████████████████████████████████████████████████████████████████████| 1/1 [00:32<00:00, 32.71s/it]\n"
     ]
    },
    {
     "name": "stderr",
     "output_type": "stream",
     "text": [
      "/tmp/ipykernel_21940/1947209614.py:40: SettingWithCopyWarning: \n",
      "A value is trying to be set on a copy of a slice from a DataFrame.\n",
      "Try using .loc[row_indexer,col_indexer] = value instead\n",
      "\n",
      "See the caveats in the documentation: https://pandas.pydata.org/pandas-docs/stable/user_guide/indexing.html#returning-a-view-versus-a-copy\n",
      "  enr_result[\"seed\"] = seed\n"
     ]
    },
    {
     "name": "stdout",
     "output_type": "stream",
     "text": [
      "DE...: 100%|██████████████████████████████████████████████████████████████████████████████████████| 1/1 [00:32<00:00, 32.78s/it]\n"
     ]
    },
    {
     "name": "stderr",
     "output_type": "stream",
     "text": [
      "/tmp/ipykernel_21940/1947209614.py:40: SettingWithCopyWarning: \n",
      "A value is trying to be set on a copy of a slice from a DataFrame.\n",
      "Try using .loc[row_indexer,col_indexer] = value instead\n",
      "\n",
      "See the caveats in the documentation: https://pandas.pydata.org/pandas-docs/stable/user_guide/indexing.html#returning-a-view-versus-a-copy\n",
      "  enr_result[\"seed\"] = seed\n"
     ]
    },
    {
     "name": "stdout",
     "output_type": "stream",
     "text": [
      "DE...: 100%|██████████████████████████████████████████████████████████████████████████████████████| 1/1 [00:33<00:00, 33.10s/it]\n"
     ]
    },
    {
     "name": "stderr",
     "output_type": "stream",
     "text": [
      "/tmp/ipykernel_21940/1947209614.py:40: SettingWithCopyWarning: \n",
      "A value is trying to be set on a copy of a slice from a DataFrame.\n",
      "Try using .loc[row_indexer,col_indexer] = value instead\n",
      "\n",
      "See the caveats in the documentation: https://pandas.pydata.org/pandas-docs/stable/user_guide/indexing.html#returning-a-view-versus-a-copy\n",
      "  enr_result[\"seed\"] = seed\n"
     ]
    }
   ],
   "source": [
    "de_result_list = []\n",
    "enr_result_list = []\n",
    "\n",
    "for seed_index, seed in enumerate(seeds):\n",
    "    model = model_list[seed_index]\n",
    "    \n",
    "    de_result = model.differential_expression(\n",
    "        adata=adata,\n",
    "        groupby=None,\n",
    "        group1=None,\n",
    "        group2=None,\n",
    "        idx1=background_indices,\n",
    "        idx2=target_indices,\n",
    "        mode=\"change\",\n",
    "        delta=expression_delta,\n",
    "        batch_size=128,\n",
    "        all_stats=True,\n",
    "        batch_correction=False,\n",
    "        batchid1=None,\n",
    "        batchid2=None,\n",
    "        fdr_target=0.05,\n",
    "        silent=False,\n",
    "    )\n",
    "\n",
    "    de_result.reset_index()\n",
    "    de_result[\"ensembl_id\"] = de_result.index\n",
    "    de_result = de_result.merge(genes, on=\"ensembl_id\")\n",
    "    de_result[\"seed\"] = seed\n",
    "    de_result_list.append(de_result)\n",
    "\n",
    "    top_genes = de_result[de_result[\"proba_de\"] > 0.95][\"gene_symbol\"].tolist()\n",
    "    enr = gp.enrichr(\n",
    "        gene_list=top_genes,\n",
    "        gene_sets=\"KEGG_2016\",\n",
    "        organism=\"human\",\n",
    "        cutoff=pathway_enr_fdr,\n",
    "    )\n",
    "    enr_result = enr.results\n",
    "    enr_result = enr_result[enr_result[\"Adjusted P-value\"] < pathway_enr_fdr]\n",
    "    enr_result[\"seed\"] = seed\n",
    "    enr_result_list.append(enr_result)"
   ]
  },
  {
   "cell_type": "code",
   "execution_count": 10,
   "id": "c8ba5c82-5793-4a44-a6da-cbbbd1d32446",
   "metadata": {},
   "outputs": [],
   "source": [
    "enr_df = pd.concat(enr_result_list)\n",
    "cols = [\"Gene_set\", \"Term\", \"Adjusted P-value\", \"Overlap\", \"Genes\"]\n",
    "cols += [\"seed\"]\n",
    "enr_df = enr_df[cols]"
   ]
  },
  {
   "cell_type": "code",
   "execution_count": 11,
   "id": "e243d07a-dfd5-408b-95c5-682cd862262a",
   "metadata": {},
   "outputs": [
    {
     "data": {
      "text/html": [
       "<div>\n",
       "<style scoped>\n",
       "    .dataframe tbody tr th:only-of-type {\n",
       "        vertical-align: middle;\n",
       "    }\n",
       "\n",
       "    .dataframe tbody tr th {\n",
       "        vertical-align: top;\n",
       "    }\n",
       "\n",
       "    .dataframe thead th {\n",
       "        text-align: right;\n",
       "    }\n",
       "</style>\n",
       "<table border=\"1\" class=\"dataframe\">\n",
       "  <thead>\n",
       "    <tr style=\"text-align: right;\">\n",
       "      <th></th>\n",
       "      <th>Gene_set</th>\n",
       "      <th>Term</th>\n",
       "      <th>Adjusted P-value</th>\n",
       "      <th>Overlap</th>\n",
       "      <th>Genes</th>\n",
       "      <th>seed</th>\n",
       "    </tr>\n",
       "  </thead>\n",
       "  <tbody>\n",
       "    <tr>\n",
       "      <th>0</th>\n",
       "      <td>KEGG_2016</td>\n",
       "      <td>Rheumatoid arthritis Homo sapiens hsa05323</td>\n",
       "      <td>0.000482</td>\n",
       "      <td>18/90</td>\n",
       "      <td>CXCL6;IL11;HLA-DRB5;MMP1;TGFB3;CCL20;MMP3;CXCL...</td>\n",
       "      <td>123</td>\n",
       "    </tr>\n",
       "    <tr>\n",
       "      <th>1</th>\n",
       "      <td>KEGG_2016</td>\n",
       "      <td>Amoebiasis Homo sapiens hsa05146</td>\n",
       "      <td>0.001148</td>\n",
       "      <td>18/100</td>\n",
       "      <td>SERPINB3;SERPINB4;ARG2;SERPINB1;LAMB3;TGFB3;IL...</td>\n",
       "      <td>123</td>\n",
       "    </tr>\n",
       "    <tr>\n",
       "      <th>2</th>\n",
       "      <td>KEGG_2016</td>\n",
       "      <td>Cytokine-cytokine receptor interaction Homo sa...</td>\n",
       "      <td>0.002755</td>\n",
       "      <td>32/265</td>\n",
       "      <td>CXCL6;CSF3;IL26;IL24;TNFRSF11B;CXCL1;CXCL13;CX...</td>\n",
       "      <td>123</td>\n",
       "    </tr>\n",
       "    <tr>\n",
       "      <th>3</th>\n",
       "      <td>KEGG_2016</td>\n",
       "      <td>Protein digestion and absorption Homo sapiens ...</td>\n",
       "      <td>0.007718</td>\n",
       "      <td>15/90</td>\n",
       "      <td>CELA3A;PRSS1;COL15A1;COL27A1;COL1A1;COL3A1;SLC...</td>\n",
       "      <td>123</td>\n",
       "    </tr>\n",
       "    <tr>\n",
       "      <th>4</th>\n",
       "      <td>KEGG_2016</td>\n",
       "      <td>Transcriptional misregulation in cancer Homo s...</td>\n",
       "      <td>0.008656</td>\n",
       "      <td>23/180</td>\n",
       "      <td>NGFR;CDKN1A;SLC45A3;CDKN2C;HPGD;IL1R2;IGFBP3;Z...</td>\n",
       "      <td>123</td>\n",
       "    </tr>\n",
       "    <tr>\n",
       "      <th>...</th>\n",
       "      <td>...</td>\n",
       "      <td>...</td>\n",
       "      <td>...</td>\n",
       "      <td>...</td>\n",
       "      <td>...</td>\n",
       "      <td>...</td>\n",
       "    </tr>\n",
       "    <tr>\n",
       "      <th>12</th>\n",
       "      <td>KEGG_2016</td>\n",
       "      <td>Chemokine signaling pathway Homo sapiens hsa04062</td>\n",
       "      <td>0.026522</td>\n",
       "      <td>13/187</td>\n",
       "      <td>CCL20;CXCL1;CXCL13;CXCL14;GNG11;CXCL5;CXCL16;C...</td>\n",
       "      <td>999</td>\n",
       "    </tr>\n",
       "    <tr>\n",
       "      <th>13</th>\n",
       "      <td>KEGG_2016</td>\n",
       "      <td>Mineral absorption Homo sapiens hsa04978</td>\n",
       "      <td>0.031851</td>\n",
       "      <td>6/51</td>\n",
       "      <td>SLC34A2;MT1A;MT1M;MT1G;MT1H;MT1E</td>\n",
       "      <td>999</td>\n",
       "    </tr>\n",
       "    <tr>\n",
       "      <th>14</th>\n",
       "      <td>KEGG_2016</td>\n",
       "      <td>p53 signaling pathway Homo sapiens hsa04115</td>\n",
       "      <td>0.031851</td>\n",
       "      <td>7/69</td>\n",
       "      <td>CCNB1;CCND2;IGFBP3;SERPINE1;CDK1;SFN;GTSE1</td>\n",
       "      <td>999</td>\n",
       "    </tr>\n",
       "    <tr>\n",
       "      <th>15</th>\n",
       "      <td>KEGG_2016</td>\n",
       "      <td>Gap junction Homo sapiens hsa04540</td>\n",
       "      <td>0.031851</td>\n",
       "      <td>8/88</td>\n",
       "      <td>GUCY1A3;PDGFRB;GJA1;TUBA1A;PLCB4;ITPR1;CDK1;TU...</td>\n",
       "      <td>999</td>\n",
       "    </tr>\n",
       "    <tr>\n",
       "      <th>16</th>\n",
       "      <td>KEGG_2016</td>\n",
       "      <td>Focal adhesion Homo sapiens hsa04510</td>\n",
       "      <td>0.039729</td>\n",
       "      <td>13/202</td>\n",
       "      <td>PDGFRB;LAMB3;HGF;FN1;TNC;LAMC2;COL1A1;COL1A2;C...</td>\n",
       "      <td>999</td>\n",
       "    </tr>\n",
       "  </tbody>\n",
       "</table>\n",
       "<p>66 rows × 6 columns</p>\n",
       "</div>"
      ],
      "text/plain": [
       "     Gene_set                                               Term  \\\n",
       "0   KEGG_2016         Rheumatoid arthritis Homo sapiens hsa05323   \n",
       "1   KEGG_2016                   Amoebiasis Homo sapiens hsa05146   \n",
       "2   KEGG_2016  Cytokine-cytokine receptor interaction Homo sa...   \n",
       "3   KEGG_2016  Protein digestion and absorption Homo sapiens ...   \n",
       "4   KEGG_2016  Transcriptional misregulation in cancer Homo s...   \n",
       "..        ...                                                ...   \n",
       "12  KEGG_2016  Chemokine signaling pathway Homo sapiens hsa04062   \n",
       "13  KEGG_2016           Mineral absorption Homo sapiens hsa04978   \n",
       "14  KEGG_2016        p53 signaling pathway Homo sapiens hsa04115   \n",
       "15  KEGG_2016                 Gap junction Homo sapiens hsa04540   \n",
       "16  KEGG_2016               Focal adhesion Homo sapiens hsa04510   \n",
       "\n",
       "    Adjusted P-value Overlap  \\\n",
       "0           0.000482   18/90   \n",
       "1           0.001148  18/100   \n",
       "2           0.002755  32/265   \n",
       "3           0.007718   15/90   \n",
       "4           0.008656  23/180   \n",
       "..               ...     ...   \n",
       "12          0.026522  13/187   \n",
       "13          0.031851    6/51   \n",
       "14          0.031851    7/69   \n",
       "15          0.031851    8/88   \n",
       "16          0.039729  13/202   \n",
       "\n",
       "                                                Genes  seed  \n",
       "0   CXCL6;IL11;HLA-DRB5;MMP1;TGFB3;CCL20;MMP3;CXCL...   123  \n",
       "1   SERPINB3;SERPINB4;ARG2;SERPINB1;LAMB3;TGFB3;IL...   123  \n",
       "2   CXCL6;CSF3;IL26;IL24;TNFRSF11B;CXCL1;CXCL13;CX...   123  \n",
       "3   CELA3A;PRSS1;COL15A1;COL27A1;COL1A1;COL3A1;SLC...   123  \n",
       "4   NGFR;CDKN1A;SLC45A3;CDKN2C;HPGD;IL1R2;IGFBP3;Z...   123  \n",
       "..                                                ...   ...  \n",
       "12  CCL20;CXCL1;CXCL13;CXCL14;GNG11;CXCL5;CXCL16;C...   999  \n",
       "13                   SLC34A2;MT1A;MT1M;MT1G;MT1H;MT1E   999  \n",
       "14         CCNB1;CCND2;IGFBP3;SERPINE1;CDK1;SFN;GTSE1   999  \n",
       "15  GUCY1A3;PDGFRB;GJA1;TUBA1A;PLCB4;ITPR1;CDK1;TU...   999  \n",
       "16  PDGFRB;LAMB3;HGF;FN1;TNC;LAMC2;COL1A1;COL1A2;C...   999  \n",
       "\n",
       "[66 rows x 6 columns]"
      ]
     },
     "execution_count": 11,
     "metadata": {},
     "output_type": "execute_result"
    }
   ],
   "source": [
    "enr_df"
   ]
  },
  {
   "cell_type": "markdown",
   "id": "f0e0e2ee-b4ab-4e22-8537-2bb7cc8b4314",
   "metadata": {},
   "source": [
    "## Aggregate analysis"
   ]
  },
  {
   "cell_type": "code",
   "execution_count": 12,
   "id": "398dd395-4de0-4448-aff3-9e712da95008",
   "metadata": {},
   "outputs": [],
   "source": [
    "de_result = pd.concat(de_result_list)\n",
    "de_result_mean = (\n",
    "    de_result.groupby(\"gene_symbol\", as_index=False)\n",
    "    .mean()\n",
    "    .sort_values(by=\"proba_de\", ascending=False)\n",
    ")"
   ]
  },
  {
   "cell_type": "code",
   "execution_count": 13,
   "id": "c74c8f3e-25bb-4fc1-998d-e8e4ee19d52a",
   "metadata": {},
   "outputs": [
    {
     "data": {
      "text/plain": [
       "count    2000.000000\n",
       "mean        0.947154\n",
       "std         0.014321\n",
       "min         0.851120\n",
       "25%         0.941840\n",
       "50%         0.950160\n",
       "75%         0.956400\n",
       "max         0.971360\n",
       "Name: proba_de, dtype: float64"
      ]
     },
     "execution_count": 13,
     "metadata": {},
     "output_type": "execute_result"
    }
   ],
   "source": [
    "de_result_mean[\"proba_de\"].describe()"
   ]
  },
  {
   "cell_type": "code",
   "execution_count": 14,
   "id": "66dfea87-2021-4dff-a375-a8d70ce81d07",
   "metadata": {},
   "outputs": [],
   "source": [
    "top_genes = de_result_mean[de_result_mean[\"proba_de\"] > 0.95][\"gene_symbol\"].tolist()\n",
    "\n",
    "enr = gp.enrichr(\n",
    "    gene_list=top_genes,\n",
    "    gene_sets=\"KEGG_2016\",\n",
    "    organism=\"human\",\n",
    "    cutoff=0.05,\n",
    ")\n",
    "enr_results = enr.results\n",
    "enr_results = enr_results[enr_results[\"Adjusted P-value\"] < 0.05]"
   ]
  },
  {
   "cell_type": "code",
   "execution_count": 15,
   "id": "d0cb2a29-3555-401a-a105-505ef14ed63b",
   "metadata": {},
   "outputs": [
    {
     "data": {
      "text/html": [
       "<div>\n",
       "<style scoped>\n",
       "    .dataframe tbody tr th:only-of-type {\n",
       "        vertical-align: middle;\n",
       "    }\n",
       "\n",
       "    .dataframe tbody tr th {\n",
       "        vertical-align: top;\n",
       "    }\n",
       "\n",
       "    .dataframe thead th {\n",
       "        text-align: right;\n",
       "    }\n",
       "</style>\n",
       "<table border=\"1\" class=\"dataframe\">\n",
       "  <thead>\n",
       "    <tr style=\"text-align: right;\">\n",
       "      <th></th>\n",
       "      <th>Gene_set</th>\n",
       "      <th>Term</th>\n",
       "      <th>Overlap</th>\n",
       "      <th>P-value</th>\n",
       "      <th>Adjusted P-value</th>\n",
       "      <th>Old P-value</th>\n",
       "      <th>Old Adjusted P-value</th>\n",
       "      <th>Odds Ratio</th>\n",
       "      <th>Combined Score</th>\n",
       "      <th>Genes</th>\n",
       "    </tr>\n",
       "  </thead>\n",
       "  <tbody>\n",
       "    <tr>\n",
       "      <th>0</th>\n",
       "      <td>KEGG_2016</td>\n",
       "      <td>Rheumatoid arthritis Homo sapiens hsa05323</td>\n",
       "      <td>18/90</td>\n",
       "      <td>5.691453e-07</td>\n",
       "      <td>0.000129</td>\n",
       "      <td>0</td>\n",
       "      <td>0</td>\n",
       "      <td>4.702736</td>\n",
       "      <td>67.621257</td>\n",
       "      <td>CXCL6;IL11;HLA-DRB5;MMP1;TGFB3;CCL20;MMP3;CXCL...</td>\n",
       "    </tr>\n",
       "    <tr>\n",
       "      <th>1</th>\n",
       "      <td>KEGG_2016</td>\n",
       "      <td>Amoebiasis Homo sapiens hsa05146</td>\n",
       "      <td>18/100</td>\n",
       "      <td>2.839565e-06</td>\n",
       "      <td>0.000321</td>\n",
       "      <td>0</td>\n",
       "      <td>0</td>\n",
       "      <td>4.127048</td>\n",
       "      <td>52.710074</td>\n",
       "      <td>SERPINB3;SERPINB4;ARG2;SERPINB1;LAMB3;TGFB3;IL...</td>\n",
       "    </tr>\n",
       "    <tr>\n",
       "      <th>2</th>\n",
       "      <td>KEGG_2016</td>\n",
       "      <td>Cytokine-cytokine receptor interaction Homo sa...</td>\n",
       "      <td>30/265</td>\n",
       "      <td>3.988912e-05</td>\n",
       "      <td>0.002196</td>\n",
       "      <td>0</td>\n",
       "      <td>0</td>\n",
       "      <td>2.409462</td>\n",
       "      <td>24.406421</td>\n",
       "      <td>CXCL6;IL26;IL24;TNFRSF11B;CXCL1;CXCL13;CXCL3;C...</td>\n",
       "    </tr>\n",
       "    <tr>\n",
       "      <th>3</th>\n",
       "      <td>KEGG_2016</td>\n",
       "      <td>Protein digestion and absorption Homo sapiens ...</td>\n",
       "      <td>15/90</td>\n",
       "      <td>4.827853e-05</td>\n",
       "      <td>0.002196</td>\n",
       "      <td>0</td>\n",
       "      <td>0</td>\n",
       "      <td>3.750397</td>\n",
       "      <td>37.273408</td>\n",
       "      <td>COL17A1;PRSS1;COL15A1;COL11A1;COL1A1;COL3A1;SL...</td>\n",
       "    </tr>\n",
       "    <tr>\n",
       "      <th>4</th>\n",
       "      <td>KEGG_2016</td>\n",
       "      <td>Transcriptional misregulation in cancer Homo s...</td>\n",
       "      <td>23/180</td>\n",
       "      <td>4.858856e-05</td>\n",
       "      <td>0.002196</td>\n",
       "      <td>0</td>\n",
       "      <td>0</td>\n",
       "      <td>2.757070</td>\n",
       "      <td>27.383558</td>\n",
       "      <td>NGFR;CDKN1A;CDKN2C;JUP;HPGD;IL1R2;IGFBP3;ZBTB1...</td>\n",
       "    </tr>\n",
       "    <tr>\n",
       "      <th>5</th>\n",
       "      <td>KEGG_2016</td>\n",
       "      <td>ECM-receptor interaction Homo sapiens hsa04512</td>\n",
       "      <td>14/82</td>\n",
       "      <td>6.512975e-05</td>\n",
       "      <td>0.002453</td>\n",
       "      <td>0</td>\n",
       "      <td>0</td>\n",
       "      <td>3.858305</td>\n",
       "      <td>37.190697</td>\n",
       "      <td>LAMB3;ITGA2;LAMA4;TNC;FN1;LAMC2;THBS2;THBS1;CO...</td>\n",
       "    </tr>\n",
       "    <tr>\n",
       "      <th>6</th>\n",
       "      <td>KEGG_2016</td>\n",
       "      <td>TNF signaling pathway Homo sapiens hsa04668</td>\n",
       "      <td>15/110</td>\n",
       "      <td>4.784629e-04</td>\n",
       "      <td>0.015448</td>\n",
       "      <td>0</td>\n",
       "      <td>0</td>\n",
       "      <td>2.957707</td>\n",
       "      <td>22.611467</td>\n",
       "      <td>EDN1;CCL20;MMP3;CXCL1;CXCL3;PTGS2;MMP9;CXCL5;I...</td>\n",
       "    </tr>\n",
       "    <tr>\n",
       "      <th>7</th>\n",
       "      <td>KEGG_2016</td>\n",
       "      <td>Graft-versus-host disease Homo sapiens hsa05332</td>\n",
       "      <td>8/41</td>\n",
       "      <td>9.644948e-04</td>\n",
       "      <td>0.027247</td>\n",
       "      <td>0</td>\n",
       "      <td>0</td>\n",
       "      <td>4.524616</td>\n",
       "      <td>31.418506</td>\n",
       "      <td>HLA-DRB5;IL6;IL1B;PRF1;GZMB;KLRC1;HLA-G;HLA-DRB1</td>\n",
       "    </tr>\n",
       "    <tr>\n",
       "      <th>8</th>\n",
       "      <td>KEGG_2016</td>\n",
       "      <td>Pertussis Homo sapiens hsa05133</td>\n",
       "      <td>11/75</td>\n",
       "      <td>1.442221e-03</td>\n",
       "      <td>0.036216</td>\n",
       "      <td>0</td>\n",
       "      <td>0</td>\n",
       "      <td>3.212126</td>\n",
       "      <td>21.012354</td>\n",
       "      <td>PYCARD;CXCL6;IL6;CALML5;SFTPA2;C1S;IL1B;CALML3...</td>\n",
       "    </tr>\n",
       "    <tr>\n",
       "      <th>9</th>\n",
       "      <td>KEGG_2016</td>\n",
       "      <td>Salivary secretion Homo sapiens hsa04970</td>\n",
       "      <td>12/89</td>\n",
       "      <td>1.881268e-03</td>\n",
       "      <td>0.042517</td>\n",
       "      <td>0</td>\n",
       "      <td>0</td>\n",
       "      <td>2.913407</td>\n",
       "      <td>18.283988</td>\n",
       "      <td>GUCY1A3;BST1;CST1;PLCB4;CALML5;DMBT1;KCNMA1;IT...</td>\n",
       "    </tr>\n",
       "  </tbody>\n",
       "</table>\n",
       "</div>"
      ],
      "text/plain": [
       "    Gene_set                                               Term Overlap  \\\n",
       "0  KEGG_2016         Rheumatoid arthritis Homo sapiens hsa05323   18/90   \n",
       "1  KEGG_2016                   Amoebiasis Homo sapiens hsa05146  18/100   \n",
       "2  KEGG_2016  Cytokine-cytokine receptor interaction Homo sa...  30/265   \n",
       "3  KEGG_2016  Protein digestion and absorption Homo sapiens ...   15/90   \n",
       "4  KEGG_2016  Transcriptional misregulation in cancer Homo s...  23/180   \n",
       "5  KEGG_2016     ECM-receptor interaction Homo sapiens hsa04512   14/82   \n",
       "6  KEGG_2016        TNF signaling pathway Homo sapiens hsa04668  15/110   \n",
       "7  KEGG_2016    Graft-versus-host disease Homo sapiens hsa05332    8/41   \n",
       "8  KEGG_2016                    Pertussis Homo sapiens hsa05133   11/75   \n",
       "9  KEGG_2016           Salivary secretion Homo sapiens hsa04970   12/89   \n",
       "\n",
       "        P-value  Adjusted P-value  Old P-value  Old Adjusted P-value  \\\n",
       "0  5.691453e-07          0.000129            0                     0   \n",
       "1  2.839565e-06          0.000321            0                     0   \n",
       "2  3.988912e-05          0.002196            0                     0   \n",
       "3  4.827853e-05          0.002196            0                     0   \n",
       "4  4.858856e-05          0.002196            0                     0   \n",
       "5  6.512975e-05          0.002453            0                     0   \n",
       "6  4.784629e-04          0.015448            0                     0   \n",
       "7  9.644948e-04          0.027247            0                     0   \n",
       "8  1.442221e-03          0.036216            0                     0   \n",
       "9  1.881268e-03          0.042517            0                     0   \n",
       "\n",
       "   Odds Ratio  Combined Score  \\\n",
       "0    4.702736       67.621257   \n",
       "1    4.127048       52.710074   \n",
       "2    2.409462       24.406421   \n",
       "3    3.750397       37.273408   \n",
       "4    2.757070       27.383558   \n",
       "5    3.858305       37.190697   \n",
       "6    2.957707       22.611467   \n",
       "7    4.524616       31.418506   \n",
       "8    3.212126       21.012354   \n",
       "9    2.913407       18.283988   \n",
       "\n",
       "                                               Genes  \n",
       "0  CXCL6;IL11;HLA-DRB5;MMP1;TGFB3;CCL20;MMP3;CXCL...  \n",
       "1  SERPINB3;SERPINB4;ARG2;SERPINB1;LAMB3;TGFB3;IL...  \n",
       "2  CXCL6;IL26;IL24;TNFRSF11B;CXCL1;CXCL13;CXCL3;C...  \n",
       "3  COL17A1;PRSS1;COL15A1;COL11A1;COL1A1;COL3A1;SL...  \n",
       "4  NGFR;CDKN1A;CDKN2C;JUP;HPGD;IL1R2;IGFBP3;ZBTB1...  \n",
       "5  LAMB3;ITGA2;LAMA4;TNC;FN1;LAMC2;THBS2;THBS1;CO...  \n",
       "6  EDN1;CCL20;MMP3;CXCL1;CXCL3;PTGS2;MMP9;CXCL5;I...  \n",
       "7   HLA-DRB5;IL6;IL1B;PRF1;GZMB;KLRC1;HLA-G;HLA-DRB1  \n",
       "8  PYCARD;CXCL6;IL6;CALML5;SFTPA2;C1S;IL1B;CALML3...  \n",
       "9  GUCY1A3;BST1;CST1;PLCB4;CALML5;DMBT1;KCNMA1;IT...  "
      ]
     },
     "execution_count": 15,
     "metadata": {},
     "output_type": "execute_result"
    }
   ],
   "source": [
    "enr_results"
   ]
  },
  {
   "cell_type": "code",
   "execution_count": 16,
   "id": "9995b708-cc20-4932-9a48-31435cb8564e",
   "metadata": {},
   "outputs": [
    {
     "data": {
      "text/plain": [
       "1023"
      ]
     },
     "execution_count": 16,
     "metadata": {},
     "output_type": "execute_result"
    }
   ],
   "source": [
    "len(top_genes)"
   ]
  }
 ],
 "metadata": {
  "kernelspec": {
   "display_name": "Python 3 (ipykernel)",
   "language": "python",
   "name": "python3"
  },
  "language_info": {
   "codemirror_mode": {
    "name": "ipython",
    "version": 3
   },
   "file_extension": ".py",
   "mimetype": "text/x-python",
   "name": "python",
   "nbconvert_exporter": "python",
   "pygments_lexer": "ipython3",
   "version": "3.9.7"
  }
 },
 "nbformat": 4,
 "nbformat_minor": 5
}
