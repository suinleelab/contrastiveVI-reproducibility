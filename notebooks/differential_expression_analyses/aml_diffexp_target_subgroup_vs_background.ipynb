{
 "cells": [
  {
   "cell_type": "code",
   "execution_count": 1,
   "id": "95409e76-7d17-4e55-818a-31b03a418c4f",
   "metadata": {},
   "outputs": [
    {
     "name": "stderr",
     "output_type": "stream",
     "text": [
      "Global seed set to 0\n",
      "During startup - Warning messages:\n",
      "1: package ‘methods’ was built under R version 3.6.1 \n",
      "2: package ‘datasets’ was built under R version 3.6.1 \n",
      "3: package ‘utils’ was built under R version 3.6.1 \n",
      "4: package ‘grDevices’ was built under R version 3.6.1 \n",
      "5: package ‘graphics’ was built under R version 3.6.1 \n",
      "6: package ‘stats’ was built under R version 3.6.1 \n"
     ]
    }
   ],
   "source": [
    "import os\n",
    "import torch\n",
    "\n",
    "import scanpy as sc\n",
    "import numpy as np\n",
    "import pandas as pd\n",
    "import gseapy as gp\n",
    "\n",
    "from tqdm import tqdm\n",
    "from sklearn.cluster import KMeans\n",
    "from contrastive_vi.model.contrastive_vi import ContrastiveVIModel\n",
    "from scripts import constants\n",
    "from scvi._settings import settings"
   ]
  },
  {
   "cell_type": "code",
   "execution_count": 2,
   "id": "69e38f98-0a04-43cf-a485-6c33386e2ac8",
   "metadata": {},
   "outputs": [
    {
     "name": "stderr",
     "output_type": "stream",
     "text": [
      "Global seed set to 0\n"
     ]
    }
   ],
   "source": [
    "settings.seed = 0\n",
    "device = \"cuda:2\"\n",
    "dataset = \"zheng_2017\""
   ]
  },
  {
   "cell_type": "code",
   "execution_count": 3,
   "id": "373da285-8ee5-465b-8fdb-3895673335ed",
   "metadata": {},
   "outputs": [],
   "source": [
    "pathway_enr_fdr = 0.05\n",
    "expression_delta = 0.15"
   ]
  },
  {
   "cell_type": "code",
   "execution_count": 4,
   "id": "1298aa8a-1bb7-4888-89f5-abe6a15a461b",
   "metadata": {},
   "outputs": [],
   "source": [
    "split_key = constants.DATASET_SPLIT_LOOKUP[dataset][\"split_key\"]\n",
    "background_value = constants.DATASET_SPLIT_LOOKUP[dataset][\"background_value\"]\n",
    "label_key = constants.DATASET_SPLIT_LOOKUP[dataset][\"label_key\"]\n",
    "seeds = constants.DEFAULT_SEEDS\n",
    "latent_size = 10"
   ]
  },
  {
   "cell_type": "code",
   "execution_count": 5,
   "id": "56bbb7e9-13e5-4399-8032-330c0467e3c2",
   "metadata": {},
   "outputs": [
    {
     "name": "stdout",
     "output_type": "stream",
     "text": [
      "\u001b[34mINFO    \u001b[0m No batch_key inputted, assuming all cells are same batch                            \n",
      "\u001b[34mINFO    \u001b[0m No label_key inputted, assuming all cells have same label                           \n",
      "\u001b[34mINFO    \u001b[0m Using data from adata.layers\u001b[1m[\u001b[0m\u001b[32m\"count\"\u001b[0m\u001b[1m]\u001b[0m                                               \n",
      "\u001b[34mINFO    \u001b[0m Successfully registered anndata object containing \u001b[1;36m16856\u001b[0m cells, \u001b[1;36m2000\u001b[0m vars, \u001b[1;36m1\u001b[0m batches,\n",
      "         \u001b[1;36m1\u001b[0m labels, and \u001b[1;36m0\u001b[0m proteins. Also registered \u001b[1;36m0\u001b[0m extra categorical covariates and \u001b[1;36m0\u001b[0m extra\n",
      "         continuous covariates.                                                              \n",
      "\u001b[34mINFO    \u001b[0m Please do not further modify adata until model is trained.                          \n"
     ]
    }
   ],
   "source": [
    "adata = sc.read_h5ad(\n",
    "    os.path.join(\n",
    "        constants.DEFAULT_DATA_PATH,\n",
    "        f\"{dataset}/preprocessed/adata_top_2000_genes.h5ad\",\n",
    "    )\n",
    ")\n",
    "ContrastiveVIModel.setup_anndata(adata, layer=\"count\")"
   ]
  },
  {
   "cell_type": "code",
   "execution_count": 6,
   "id": "2c819b82-1b72-44f9-ab3b-5fac7d0b0a54",
   "metadata": {},
   "outputs": [],
   "source": [
    "target_indices = np.where(adata.obs[split_key] != background_value)[0]\n",
    "target_adata = adata[target_indices]\n",
    "background_indices = np.where(adata.obs[split_key] == background_value)[0]\n",
    "background_adata = adata[background_indices]"
   ]
  },
  {
   "cell_type": "code",
   "execution_count": 7,
   "id": "e5db5963-993b-426a-98fa-6d1fd1f1d09a",
   "metadata": {},
   "outputs": [],
   "source": [
    "genes = pd.read_table(\n",
    "    os.path.join(\n",
    "        constants.DEFAULT_DATA_PATH,\n",
    "        dataset,\n",
    "        \"aml027_post_transplant_filtered_gene_bc_matrices\",\n",
    "        \"filtered_matrices_mex/hg19\",\n",
    "        \"genes.tsv\",\n",
    "    ),\n",
    "    header=None,\n",
    ")\n",
    "genes = genes.rename(columns={0: \"ensembl_id\", 1: \"gene_symbol\"})\n",
    "genes = genes[genes[\"ensembl_id\"].isin(adata.var.index)]"
   ]
  },
  {
   "cell_type": "code",
   "execution_count": 8,
   "id": "6179e3e0-0aa3-438a-a001-8c0ef27c5636",
   "metadata": {},
   "outputs": [
    {
     "name": "stderr",
     "output_type": "stream",
     "text": [
      "100%|█████████████████████████████████████████████████████████████████████████████████████████████| 5/5 [00:48<00:00,  9.68s/it]\n"
     ]
    }
   ],
   "source": [
    "model_list = []\n",
    "latent_rep_list = []\n",
    "for seed in tqdm(seeds):\n",
    "    result_dir = os.path.join(\n",
    "        \"/projects/leelab/contrastiveVI/results-fixed-background-size\",\n",
    "        f\"{dataset}/contrastiveVI/latent_{latent_size}\",\n",
    "        f\"{seed}\",\n",
    "    )\n",
    "    model_list.append(\n",
    "        torch.load(\n",
    "            os.path.join(result_dir, \"model.ckpt\"),\n",
    "            map_location=device,\n",
    "        ),\n",
    "    )\n",
    "    latent_rep_list.append(\n",
    "        np.load(os.path.join(result_dir, \"latent_representations.npy\")),\n",
    "    )"
   ]
  },
  {
   "cell_type": "code",
   "execution_count": 9,
   "id": "bb545723-bd81-4d42-97c6-18ae60623a8f",
   "metadata": {},
   "outputs": [
    {
     "name": "stdout",
     "output_type": "stream",
     "text": [
      "\u001b[34mINFO    \u001b[0m Input adata not setup with scvi. attempting to transfer anndata setup               \n",
      "\u001b[34mINFO    \u001b[0m Using data from adata.layers\u001b[1m[\u001b[0m\u001b[32m\"count\"\u001b[0m\u001b[1m]\u001b[0m                                               \n",
      "\u001b[34mINFO    \u001b[0m Registered keys:\u001b[1m[\u001b[0m\u001b[32m'X'\u001b[0m, \u001b[32m'batch_indices'\u001b[0m, \u001b[32m'labels'\u001b[0m\u001b[1m]\u001b[0m                                    \n",
      "\u001b[34mINFO    \u001b[0m Successfully registered anndata object containing \u001b[1;36m8608\u001b[0m cells, \u001b[1;36m2000\u001b[0m vars, \u001b[1;36m1\u001b[0m batches, \n",
      "         \u001b[1;36m1\u001b[0m labels, and \u001b[1;36m0\u001b[0m proteins. Also registered \u001b[1;36m0\u001b[0m extra categorical covariates and \u001b[1;36m0\u001b[0m extra\n",
      "         continuous covariates.                                                              \n"
     ]
    },
    {
     "name": "stderr",
     "output_type": "stream",
     "text": [
      "/homes/gws/clin25/miniconda3/envs/contrastive-vi-env/lib/python3.9/site-packages/sklearn/utils/deprecation.py:87: FutureWarning: Function transfer_anndata_setup is deprecated; This method will be removed in 0.15.0. Please avoid building any new dependencies on it.\n",
      "  warnings.warn(msg, category=FutureWarning)\n"
     ]
    },
    {
     "name": "stdout",
     "output_type": "stream",
     "text": [
      "DE...: 100%|██████████████████████████████████████████████████████████████████████████████████████| 1/1 [00:34<00:00, 34.43s/it]\n",
      "\u001b[34mINFO    \u001b[0m Input adata not setup with scvi. attempting to transfer anndata setup               \n",
      "\u001b[34mINFO    \u001b[0m Using data from adata.layers\u001b[1m[\u001b[0m\u001b[32m\"count\"\u001b[0m\u001b[1m]\u001b[0m                                               \n",
      "\u001b[34mINFO    \u001b[0m Registered keys:\u001b[1m[\u001b[0m\u001b[32m'X'\u001b[0m, \u001b[32m'batch_indices'\u001b[0m, \u001b[32m'labels'\u001b[0m\u001b[1m]\u001b[0m                                    \n",
      "\u001b[34mINFO    \u001b[0m Successfully registered anndata object containing \u001b[1;36m12705\u001b[0m cells, \u001b[1;36m2000\u001b[0m vars, \u001b[1;36m1\u001b[0m batches,\n",
      "         \u001b[1;36m1\u001b[0m labels, and \u001b[1;36m0\u001b[0m proteins. Also registered \u001b[1;36m0\u001b[0m extra categorical covariates and \u001b[1;36m0\u001b[0m extra\n",
      "         continuous covariates.                                                              \n"
     ]
    },
    {
     "name": "stderr",
     "output_type": "stream",
     "text": [
      "/homes/gws/clin25/miniconda3/envs/contrastive-vi-env/lib/python3.9/site-packages/sklearn/utils/deprecation.py:87: FutureWarning: Function transfer_anndata_setup is deprecated; This method will be removed in 0.15.0. Please avoid building any new dependencies on it.\n",
      "  warnings.warn(msg, category=FutureWarning)\n"
     ]
    },
    {
     "name": "stdout",
     "output_type": "stream",
     "text": [
      "DE...: 100%|██████████████████████████████████████████████████████████████████████████████████████| 1/1 [00:34<00:00, 34.93s/it]\n",
      "\u001b[34mINFO    \u001b[0m Input adata not setup with scvi. attempting to transfer anndata setup               \n",
      "\u001b[34mINFO    \u001b[0m Using data from adata.layers\u001b[1m[\u001b[0m\u001b[32m\"count\"\u001b[0m\u001b[1m]\u001b[0m                                               \n",
      "\u001b[34mINFO    \u001b[0m Registered keys:\u001b[1m[\u001b[0m\u001b[32m'X'\u001b[0m, \u001b[32m'batch_indices'\u001b[0m, \u001b[32m'labels'\u001b[0m\u001b[1m]\u001b[0m                                    \n",
      "\u001b[34mINFO    \u001b[0m Successfully registered anndata object containing \u001b[1;36m8651\u001b[0m cells, \u001b[1;36m2000\u001b[0m vars, \u001b[1;36m1\u001b[0m batches, \n",
      "         \u001b[1;36m1\u001b[0m labels, and \u001b[1;36m0\u001b[0m proteins. Also registered \u001b[1;36m0\u001b[0m extra categorical covariates and \u001b[1;36m0\u001b[0m extra\n",
      "         continuous covariates.                                                              \n"
     ]
    },
    {
     "name": "stderr",
     "output_type": "stream",
     "text": [
      "/homes/gws/clin25/miniconda3/envs/contrastive-vi-env/lib/python3.9/site-packages/sklearn/utils/deprecation.py:87: FutureWarning: Function transfer_anndata_setup is deprecated; This method will be removed in 0.15.0. Please avoid building any new dependencies on it.\n",
      "  warnings.warn(msg, category=FutureWarning)\n"
     ]
    },
    {
     "name": "stdout",
     "output_type": "stream",
     "text": [
      "DE...: 100%|██████████████████████████████████████████████████████████████████████████████████████| 1/1 [00:34<00:00, 34.93s/it]\n",
      "\u001b[34mINFO    \u001b[0m Input adata not setup with scvi. attempting to transfer anndata setup               \n",
      "\u001b[34mINFO    \u001b[0m Using data from adata.layers\u001b[1m[\u001b[0m\u001b[32m\"count\"\u001b[0m\u001b[1m]\u001b[0m                                               \n",
      "\u001b[34mINFO    \u001b[0m Registered keys:\u001b[1m[\u001b[0m\u001b[32m'X'\u001b[0m, \u001b[32m'batch_indices'\u001b[0m, \u001b[32m'labels'\u001b[0m\u001b[1m]\u001b[0m                                    \n",
      "\u001b[34mINFO    \u001b[0m Successfully registered anndata object containing \u001b[1;36m12662\u001b[0m cells, \u001b[1;36m2000\u001b[0m vars, \u001b[1;36m1\u001b[0m batches,\n",
      "         \u001b[1;36m1\u001b[0m labels, and \u001b[1;36m0\u001b[0m proteins. Also registered \u001b[1;36m0\u001b[0m extra categorical covariates and \u001b[1;36m0\u001b[0m extra\n",
      "         continuous covariates.                                                              \n"
     ]
    },
    {
     "name": "stderr",
     "output_type": "stream",
     "text": [
      "/homes/gws/clin25/miniconda3/envs/contrastive-vi-env/lib/python3.9/site-packages/sklearn/utils/deprecation.py:87: FutureWarning: Function transfer_anndata_setup is deprecated; This method will be removed in 0.15.0. Please avoid building any new dependencies on it.\n",
      "  warnings.warn(msg, category=FutureWarning)\n"
     ]
    },
    {
     "name": "stdout",
     "output_type": "stream",
     "text": [
      "DE...: 100%|██████████████████████████████████████████████████████████████████████████████████████| 1/1 [00:34<00:00, 34.56s/it]\n",
      "\u001b[34mINFO    \u001b[0m Input adata not setup with scvi. attempting to transfer anndata setup               \n",
      "\u001b[34mINFO    \u001b[0m Using data from adata.layers\u001b[1m[\u001b[0m\u001b[32m\"count\"\u001b[0m\u001b[1m]\u001b[0m                                               \n",
      "\u001b[34mINFO    \u001b[0m Registered keys:\u001b[1m[\u001b[0m\u001b[32m'X'\u001b[0m, \u001b[32m'batch_indices'\u001b[0m, \u001b[32m'labels'\u001b[0m\u001b[1m]\u001b[0m                                    \n",
      "\u001b[34mINFO    \u001b[0m Successfully registered anndata object containing \u001b[1;36m12712\u001b[0m cells, \u001b[1;36m2000\u001b[0m vars, \u001b[1;36m1\u001b[0m batches,\n",
      "         \u001b[1;36m1\u001b[0m labels, and \u001b[1;36m0\u001b[0m proteins. Also registered \u001b[1;36m0\u001b[0m extra categorical covariates and \u001b[1;36m0\u001b[0m extra\n",
      "         continuous covariates.                                                              \n"
     ]
    },
    {
     "name": "stderr",
     "output_type": "stream",
     "text": [
      "/homes/gws/clin25/miniconda3/envs/contrastive-vi-env/lib/python3.9/site-packages/sklearn/utils/deprecation.py:87: FutureWarning: Function transfer_anndata_setup is deprecated; This method will be removed in 0.15.0. Please avoid building any new dependencies on it.\n",
      "  warnings.warn(msg, category=FutureWarning)\n"
     ]
    },
    {
     "name": "stdout",
     "output_type": "stream",
     "text": [
      "DE...: 100%|██████████████████████████████████████████████████████████████████████████████████████| 1/1 [00:34<00:00, 34.78s/it]\n",
      "\u001b[34mINFO    \u001b[0m Input adata not setup with scvi. attempting to transfer anndata setup               \n",
      "\u001b[34mINFO    \u001b[0m Using data from adata.layers\u001b[1m[\u001b[0m\u001b[32m\"count\"\u001b[0m\u001b[1m]\u001b[0m                                               \n",
      "\u001b[34mINFO    \u001b[0m Registered keys:\u001b[1m[\u001b[0m\u001b[32m'X'\u001b[0m, \u001b[32m'batch_indices'\u001b[0m, \u001b[32m'labels'\u001b[0m\u001b[1m]\u001b[0m                                    \n",
      "\u001b[34mINFO    \u001b[0m Successfully registered anndata object containing \u001b[1;36m8601\u001b[0m cells, \u001b[1;36m2000\u001b[0m vars, \u001b[1;36m1\u001b[0m batches, \n",
      "         \u001b[1;36m1\u001b[0m labels, and \u001b[1;36m0\u001b[0m proteins. Also registered \u001b[1;36m0\u001b[0m extra categorical covariates and \u001b[1;36m0\u001b[0m extra\n",
      "         continuous covariates.                                                              \n"
     ]
    },
    {
     "name": "stderr",
     "output_type": "stream",
     "text": [
      "/homes/gws/clin25/miniconda3/envs/contrastive-vi-env/lib/python3.9/site-packages/sklearn/utils/deprecation.py:87: FutureWarning: Function transfer_anndata_setup is deprecated; This method will be removed in 0.15.0. Please avoid building any new dependencies on it.\n",
      "  warnings.warn(msg, category=FutureWarning)\n"
     ]
    },
    {
     "name": "stdout",
     "output_type": "stream",
     "text": [
      "DE...: 100%|██████████████████████████████████████████████████████████████████████████████████████| 1/1 [00:35<00:00, 35.38s/it]\n",
      "\u001b[34mINFO    \u001b[0m Input adata not setup with scvi. attempting to transfer anndata setup               \n",
      "\u001b[34mINFO    \u001b[0m Using data from adata.layers\u001b[1m[\u001b[0m\u001b[32m\"count\"\u001b[0m\u001b[1m]\u001b[0m                                               \n",
      "\u001b[34mINFO    \u001b[0m Registered keys:\u001b[1m[\u001b[0m\u001b[32m'X'\u001b[0m, \u001b[32m'batch_indices'\u001b[0m, \u001b[32m'labels'\u001b[0m\u001b[1m]\u001b[0m                                    \n",
      "\u001b[34mINFO    \u001b[0m Successfully registered anndata object containing \u001b[1;36m8672\u001b[0m cells, \u001b[1;36m2000\u001b[0m vars, \u001b[1;36m1\u001b[0m batches, \n",
      "         \u001b[1;36m1\u001b[0m labels, and \u001b[1;36m0\u001b[0m proteins. Also registered \u001b[1;36m0\u001b[0m extra categorical covariates and \u001b[1;36m0\u001b[0m extra\n",
      "         continuous covariates.                                                              \n"
     ]
    },
    {
     "name": "stderr",
     "output_type": "stream",
     "text": [
      "/homes/gws/clin25/miniconda3/envs/contrastive-vi-env/lib/python3.9/site-packages/sklearn/utils/deprecation.py:87: FutureWarning: Function transfer_anndata_setup is deprecated; This method will be removed in 0.15.0. Please avoid building any new dependencies on it.\n",
      "  warnings.warn(msg, category=FutureWarning)\n"
     ]
    },
    {
     "name": "stdout",
     "output_type": "stream",
     "text": [
      "DE...: 100%|██████████████████████████████████████████████████████████████████████████████████████| 1/1 [00:34<00:00, 34.75s/it]\n",
      "\u001b[34mINFO    \u001b[0m Input adata not setup with scvi. attempting to transfer anndata setup               \n",
      "\u001b[34mINFO    \u001b[0m Using data from adata.layers\u001b[1m[\u001b[0m\u001b[32m\"count\"\u001b[0m\u001b[1m]\u001b[0m                                               \n",
      "\u001b[34mINFO    \u001b[0m Registered keys:\u001b[1m[\u001b[0m\u001b[32m'X'\u001b[0m, \u001b[32m'batch_indices'\u001b[0m, \u001b[32m'labels'\u001b[0m\u001b[1m]\u001b[0m                                    \n",
      "\u001b[34mINFO    \u001b[0m Successfully registered anndata object containing \u001b[1;36m12641\u001b[0m cells, \u001b[1;36m2000\u001b[0m vars, \u001b[1;36m1\u001b[0m batches,\n",
      "         \u001b[1;36m1\u001b[0m labels, and \u001b[1;36m0\u001b[0m proteins. Also registered \u001b[1;36m0\u001b[0m extra categorical covariates and \u001b[1;36m0\u001b[0m extra\n",
      "         continuous covariates.                                                              \n"
     ]
    },
    {
     "name": "stderr",
     "output_type": "stream",
     "text": [
      "/homes/gws/clin25/miniconda3/envs/contrastive-vi-env/lib/python3.9/site-packages/sklearn/utils/deprecation.py:87: FutureWarning: Function transfer_anndata_setup is deprecated; This method will be removed in 0.15.0. Please avoid building any new dependencies on it.\n",
      "  warnings.warn(msg, category=FutureWarning)\n"
     ]
    },
    {
     "name": "stdout",
     "output_type": "stream",
     "text": [
      "DE...: 100%|██████████████████████████████████████████████████████████████████████████████████████| 1/1 [00:35<00:00, 35.04s/it]\n",
      "\u001b[34mINFO    \u001b[0m Input adata not setup with scvi. attempting to transfer anndata setup               \n",
      "\u001b[34mINFO    \u001b[0m Using data from adata.layers\u001b[1m[\u001b[0m\u001b[32m\"count\"\u001b[0m\u001b[1m]\u001b[0m                                               \n",
      "\u001b[34mINFO    \u001b[0m Registered keys:\u001b[1m[\u001b[0m\u001b[32m'X'\u001b[0m, \u001b[32m'batch_indices'\u001b[0m, \u001b[32m'labels'\u001b[0m\u001b[1m]\u001b[0m                                    \n",
      "\u001b[34mINFO    \u001b[0m Successfully registered anndata object containing \u001b[1;36m8484\u001b[0m cells, \u001b[1;36m2000\u001b[0m vars, \u001b[1;36m1\u001b[0m batches, \n",
      "         \u001b[1;36m1\u001b[0m labels, and \u001b[1;36m0\u001b[0m proteins. Also registered \u001b[1;36m0\u001b[0m extra categorical covariates and \u001b[1;36m0\u001b[0m extra\n",
      "         continuous covariates.                                                              \n"
     ]
    },
    {
     "name": "stderr",
     "output_type": "stream",
     "text": [
      "/homes/gws/clin25/miniconda3/envs/contrastive-vi-env/lib/python3.9/site-packages/sklearn/utils/deprecation.py:87: FutureWarning: Function transfer_anndata_setup is deprecated; This method will be removed in 0.15.0. Please avoid building any new dependencies on it.\n",
      "  warnings.warn(msg, category=FutureWarning)\n"
     ]
    },
    {
     "name": "stdout",
     "output_type": "stream",
     "text": [
      "DE...: 100%|██████████████████████████████████████████████████████████████████████████████████████| 1/1 [00:33<00:00, 33.66s/it]\n",
      "\u001b[34mINFO    \u001b[0m Input adata not setup with scvi. attempting to transfer anndata setup               \n",
      "\u001b[34mINFO    \u001b[0m Using data from adata.layers\u001b[1m[\u001b[0m\u001b[32m\"count\"\u001b[0m\u001b[1m]\u001b[0m                                               \n",
      "\u001b[34mINFO    \u001b[0m Registered keys:\u001b[1m[\u001b[0m\u001b[32m'X'\u001b[0m, \u001b[32m'batch_indices'\u001b[0m, \u001b[32m'labels'\u001b[0m\u001b[1m]\u001b[0m                                    \n",
      "\u001b[34mINFO    \u001b[0m Successfully registered anndata object containing \u001b[1;36m12829\u001b[0m cells, \u001b[1;36m2000\u001b[0m vars, \u001b[1;36m1\u001b[0m batches,\n",
      "         \u001b[1;36m1\u001b[0m labels, and \u001b[1;36m0\u001b[0m proteins. Also registered \u001b[1;36m0\u001b[0m extra categorical covariates and \u001b[1;36m0\u001b[0m extra\n",
      "         continuous covariates.                                                              \n"
     ]
    },
    {
     "name": "stderr",
     "output_type": "stream",
     "text": [
      "/homes/gws/clin25/miniconda3/envs/contrastive-vi-env/lib/python3.9/site-packages/sklearn/utils/deprecation.py:87: FutureWarning: Function transfer_anndata_setup is deprecated; This method will be removed in 0.15.0. Please avoid building any new dependencies on it.\n",
      "  warnings.warn(msg, category=FutureWarning)\n"
     ]
    },
    {
     "name": "stdout",
     "output_type": "stream",
     "text": [
      "DE...: 100%|██████████████████████████████████████████████████████████████████████████████████████| 1/1 [00:34<00:00, 34.66s/it]\n"
     ]
    }
   ],
   "source": [
    "de_results = []\n",
    "enr_results = []\n",
    "label_proportion_results = []\n",
    "assigned_label_results = []\n",
    "\n",
    "for seed_index, seed in enumerate(seeds):\n",
    "    model = model_list[seed_index]\n",
    "    latent_rep = latent_rep_list[seed_index]\n",
    "    latent_clusters = KMeans(n_clusters=2, random_state=123).fit(latent_rep).labels_\n",
    "    cluster_label = f\"cluster_{seed}\"\n",
    "    \n",
    "    tmp_target_adata = target_adata.copy()\n",
    "    tmp_target_adata.obs[cluster_label] = latent_clusters.astype(str)\n",
    "    tmp_background_adata = background_adata.copy()\n",
    "    tmp_background_adata.obs[cluster_label] = \"background\"\n",
    "    \n",
    "    de_results.append({})\n",
    "    enr_results.append({})\n",
    "    label_proportion_results.append({})\n",
    "    assigned_label_results.append({})\n",
    "    \n",
    "    for cluster in np.unique(latent_clusters):\n",
    "        cluster_str = f\"{cluster}\"\n",
    "        \n",
    "        label_proportions = (\n",
    "            tmp_target_adata[tmp_target_adata.obs[cluster_label] == cluster_str]\n",
    "            .obs[label_key].value_counts()\n",
    "            / (tmp_target_adata.obs[cluster_label] == cluster_str).sum()\n",
    "        )\n",
    "        label_proportion_results[-1][cluster_str] = label_proportions\n",
    "        assigned_label_results[-1][cluster_str] = (\n",
    "            label_proportions.index[label_proportions.argmax()]\n",
    "        )\n",
    "        \n",
    "        cluster_adata = tmp_background_adata.concatenate(\n",
    "            tmp_target_adata[tmp_target_adata.obs[cluster_label] == cluster_str]\n",
    "        )\n",
    "    \n",
    "        cluster_de_result = model.differential_expression(\n",
    "            adata=cluster_adata,\n",
    "            groupby=cluster_label,\n",
    "            group1=\"background\",\n",
    "            group2=cluster_str,\n",
    "            idx1=None,\n",
    "            idx2=None,\n",
    "            mode=\"change\",\n",
    "            delta=expression_delta,\n",
    "            batch_size=128,\n",
    "            all_stats=True,\n",
    "            batch_correction=False,\n",
    "            batchid1=None,\n",
    "            batchid2=None,\n",
    "            fdr_target=0.05,\n",
    "            silent=False,\n",
    "            target_idx=target_indices,\n",
    "        )\n",
    "\n",
    "        cluster_de_result.reset_index()\n",
    "        cluster_de_result[\"ensembl_id\"] = cluster_de_result.index\n",
    "        cluster_de_result = cluster_de_result.merge(genes, on=\"ensembl_id\")\n",
    "        cluster_de_result[\"seed\"] = seed\n",
    "        de_results[-1][cluster_str] = cluster_de_result\n",
    "        \n",
    "        top_genes = cluster_de_result[\n",
    "            cluster_de_result[\"proba_de\"] > 0.95\n",
    "        ][\"gene_symbol\"].tolist()\n",
    "        enr = gp.enrichr(\n",
    "            gene_list=top_genes,\n",
    "            gene_sets=\"KEGG_2016\",\n",
    "            organism=\"human\",\n",
    "            cutoff=pathway_enr_fdr,\n",
    "        )\n",
    "        cluster_enr_result = enr.results\n",
    "        cluster_enr_result = cluster_enr_result[\n",
    "            cluster_enr_result[\"Adjusted P-value\"] < pathway_enr_fdr\n",
    "        ]\n",
    "        enr_results[-1][cluster_str] = cluster_enr_result"
   ]
  },
  {
   "cell_type": "code",
   "execution_count": 10,
   "id": "4634b820-5502-45c7-bf25-6bacf916a414",
   "metadata": {},
   "outputs": [],
   "source": [
    "enr_df_list = []\n",
    "for i in range(len(assigned_label_results)):\n",
    "    assigned_labels = assigned_label_results[i]\n",
    "    enrs = enr_results[i]\n",
    "    for cluster in assigned_labels.keys():\n",
    "        enr = enrs[cluster].copy()\n",
    "        enr[\"assigned_label\"] = assigned_labels[cluster]\n",
    "        enr[\"cluster\"] = cluster\n",
    "        enr[\"seed\"] = constants.DEFAULT_SEEDS[i]\n",
    "        enr_df_list.append(enr)\n",
    "enr_df = pd.concat(enr_df_list)"
   ]
  },
  {
   "cell_type": "code",
   "execution_count": 11,
   "id": "e243d07a-dfd5-408b-95c5-682cd862262a",
   "metadata": {},
   "outputs": [],
   "source": [
    "cols = [\"Gene_set\", \"Term\", \"Adjusted P-value\", \"Overlap\", \"Genes\"]\n",
    "cols += [\"assigned_label\", \"cluster\", \"seed\"]\n",
    "enr_df = enr_df[cols]"
   ]
  },
  {
   "cell_type": "markdown",
   "id": "b4eb187e-3509-4243-b0f9-9442aff2a2e1",
   "metadata": {},
   "source": [
    "### Enriched pathways for cluster associated with pre-transplant vs. healthy healthy controls."
   ]
  },
  {
   "cell_type": "code",
   "execution_count": 12,
   "id": "6a3efb88-735c-44fa-bdd6-c2b953f6e9c9",
   "metadata": {},
   "outputs": [],
   "source": [
    "pre_translant_enr = enr_df[enr_df[\"assigned_label\"] == \"pre_transplant\"].sort_values(by=\"Term\", ascending=False)"
   ]
  },
  {
   "cell_type": "code",
   "execution_count": 13,
   "id": "bd280667-b33d-4084-8de1-3e345473f021",
   "metadata": {},
   "outputs": [
    {
     "data": {
      "text/plain": [
       "Inflammatory bowel disease (IBD) Homo sapiens hsa05321                5\n",
       "Leishmaniasis Homo sapiens hsa05140                                   5\n",
       "Allograft rejection Homo sapiens hsa05330                             5\n",
       "Antigen processing and presentation Homo sapiens hsa04612             5\n",
       "Arginine and proline metabolism Homo sapiens hsa00330                 5\n",
       "Asthma Homo sapiens hsa05310                                          5\n",
       "Autoimmune thyroid disease Homo sapiens hsa05320                      5\n",
       "Cell adhesion molecules (CAMs) Homo sapiens hsa04514                  5\n",
       "Graft-versus-host disease Homo sapiens hsa05332                       5\n",
       "HTLV-I infection Homo sapiens hsa05166                                5\n",
       "Hematopoietic cell lineage Homo sapiens hsa04640                      5\n",
       "Influenza A Homo sapiens hsa05164                                     5\n",
       "Intestinal immune network for IgA production Homo sapiens hsa04672    5\n",
       "Alcoholism Homo sapiens hsa05034                                      5\n",
       "Transcriptional misregulation in cancer Homo sapiens hsa05202         5\n",
       "Systemic lupus erythematosus Homo sapiens hsa05322                    5\n",
       "Phagosome Homo sapiens hsa04145                                       5\n",
       "Rheumatoid arthritis Homo sapiens hsa05323                            5\n",
       "Staphylococcus aureus infection Homo sapiens hsa05150                 5\n",
       "Type I diabetes mellitus Homo sapiens hsa04940                        5\n",
       "Primary immunodeficiency Homo sapiens hsa05340                        4\n",
       "Viral myocarditis Homo sapiens hsa05416                               4\n",
       "Herpes simplex infection Homo sapiens hsa05168                        4\n",
       "Toxoplasmosis Homo sapiens hsa05145                                   4\n",
       "Glycine, serine and threonine metabolism Homo sapiens hsa00260        4\n",
       "NF-kappa B signaling pathway Homo sapiens hsa04064                    3\n",
       "Viral carcinogenesis Homo sapiens hsa05203                            3\n",
       "Malaria Homo sapiens hsa05144                                         3\n",
       "Osteoclast differentiation Homo sapiens hsa04380                      3\n",
       "Biosynthesis of amino acids Homo sapiens hsa01230                     3\n",
       "Apoptosis Homo sapiens hsa04210                                       2\n",
       "FoxO signaling pathway Homo sapiens hsa04068                          2\n",
       "T cell receptor signaling pathway Homo sapiens hsa04660               1\n",
       "B cell receptor signaling pathway Homo sapiens hsa04662               1\n",
       "Colorectal cancer Homo sapiens hsa05210                               1\n",
       "Epstein-Barr virus infection Homo sapiens hsa05169                    1\n",
       "Glycolysis / Gluconeogenesis Homo sapiens hsa00010                    1\n",
       "Small cell lung cancer Homo sapiens hsa05222                          1\n",
       "p53 signaling pathway Homo sapiens hsa04115                           1\n",
       "Name: Term, dtype: int64"
      ]
     },
     "execution_count": 13,
     "metadata": {},
     "output_type": "execute_result"
    }
   ],
   "source": [
    "pre_translant_enr[\"Term\"].value_counts()"
   ]
  },
  {
   "cell_type": "markdown",
   "id": "2af27dc9-38c4-42fd-99ee-14273d9d7422",
   "metadata": {
    "tags": []
   },
   "source": [
    "### Enriched pathways for cluster associated with post-transplant vs. healthy controls."
   ]
  },
  {
   "cell_type": "code",
   "execution_count": 14,
   "id": "a43923e6-25f6-4308-9d96-26cbf9ea80b7",
   "metadata": {},
   "outputs": [],
   "source": [
    "post_transplant_enr = enr_df[enr_df[\"assigned_label\"] == \"post_transplant\"].sort_values(by=\"Term\", ascending=False)"
   ]
  },
  {
   "cell_type": "code",
   "execution_count": 15,
   "id": "65a15c62-5d59-42b0-8f57-e5b24888bf30",
   "metadata": {},
   "outputs": [
    {
     "data": {
      "text/plain": [
       "Viral myocarditis Homo sapiens hsa05416                               5\n",
       "Intestinal immune network for IgA production Homo sapiens hsa04672    5\n",
       "Allograft rejection Homo sapiens hsa05330                             5\n",
       "Antigen processing and presentation Homo sapiens hsa04612             5\n",
       "Arginine and proline metabolism Homo sapiens hsa00330                 5\n",
       "Asthma Homo sapiens hsa05310                                          5\n",
       "Autoimmune thyroid disease Homo sapiens hsa05320                      5\n",
       "Cell adhesion molecules (CAMs) Homo sapiens hsa04514                  5\n",
       "Graft-versus-host disease Homo sapiens hsa05332                       5\n",
       "Hematopoietic cell lineage Homo sapiens hsa04640                      5\n",
       "Influenza A Homo sapiens hsa05164                                     5\n",
       "Alcoholism Homo sapiens hsa05034                                      5\n",
       "Rheumatoid arthritis Homo sapiens hsa05323                            5\n",
       "Type I diabetes mellitus Homo sapiens hsa04940                        5\n",
       "Transcriptional misregulation in cancer Homo sapiens hsa05202         5\n",
       "Toxoplasmosis Homo sapiens hsa05145                                   5\n",
       "Systemic lupus erythematosus Homo sapiens hsa05322                    5\n",
       "Staphylococcus aureus infection Homo sapiens hsa05150                 5\n",
       "Leishmaniasis Homo sapiens hsa05140                                   4\n",
       "Inflammatory bowel disease (IBD) Homo sapiens hsa05321                3\n",
       "Primary immunodeficiency Homo sapiens hsa05340                        3\n",
       "Malaria Homo sapiens hsa05144                                         2\n",
       "HTLV-I infection Homo sapiens hsa05166                                2\n",
       "Herpes simplex infection Homo sapiens hsa05168                        2\n",
       "NF-kappa B signaling pathway Homo sapiens hsa04064                    2\n",
       "Cytokine-cytokine receptor interaction Homo sapiens hsa04060          2\n",
       "Glycine, serine and threonine metabolism Homo sapiens hsa00260        1\n",
       "Chagas disease (American trypanosomiasis) Homo sapiens hsa05142       1\n",
       "Small cell lung cancer Homo sapiens hsa05222                          1\n",
       "Biosynthesis of amino acids Homo sapiens hsa01230                     1\n",
       "Viral carcinogenesis Homo sapiens hsa05203                            1\n",
       "Name: Term, dtype: int64"
      ]
     },
     "execution_count": 15,
     "metadata": {},
     "output_type": "execute_result"
    }
   ],
   "source": [
    "post_transplant_enr[\"Term\"].value_counts()"
   ]
  },
  {
   "cell_type": "code",
   "execution_count": null,
   "id": "ab623d4f-bd2c-4d86-9c2f-88096d0f8822",
   "metadata": {},
   "outputs": [],
   "source": []
  }
 ],
 "metadata": {
  "kernelspec": {
   "display_name": "Python 3 (ipykernel)",
   "language": "python",
   "name": "python3"
  },
  "language_info": {
   "codemirror_mode": {
    "name": "ipython",
    "version": 3
   },
   "file_extension": ".py",
   "mimetype": "text/x-python",
   "name": "python",
   "nbconvert_exporter": "python",
   "pygments_lexer": "ipython3",
   "version": "3.9.7"
  }
 },
 "nbformat": 4,
 "nbformat_minor": 5
}
