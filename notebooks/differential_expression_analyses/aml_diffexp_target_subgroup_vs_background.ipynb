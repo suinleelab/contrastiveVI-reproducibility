{
 "cells": [
  {
   "cell_type": "code",
   "execution_count": 1,
   "id": "95409e76-7d17-4e55-818a-31b03a418c4f",
   "metadata": {},
   "outputs": [
    {
     "name": "stderr",
     "output_type": "stream",
     "text": [
      "Global seed set to 0\n",
      "During startup - Warning messages:\n",
      "1: package ‘methods’ was built under R version 3.6.1 \n",
      "2: package ‘datasets’ was built under R version 3.6.1 \n",
      "3: package ‘utils’ was built under R version 3.6.1 \n",
      "4: package ‘grDevices’ was built under R version 3.6.1 \n",
      "5: package ‘graphics’ was built under R version 3.6.1 \n",
      "6: package ‘stats’ was built under R version 3.6.1 \n"
     ]
    }
   ],
   "source": [
    "import os\n",
    "import torch\n",
    "\n",
    "import scanpy as sc\n",
    "import numpy as np\n",
    "import pandas as pd\n",
    "import gseapy as gp\n",
    "\n",
    "from tqdm import tqdm\n",
    "from sklearn.cluster import KMeans\n",
    "from contrastive_vi.model.contrastive_vi import ContrastiveVIModel\n",
    "from scripts import constants\n",
    "from scvi._settings import settings"
   ]
  },
  {
   "cell_type": "code",
   "execution_count": 2,
   "id": "69e38f98-0a04-43cf-a485-6c33386e2ac8",
   "metadata": {},
   "outputs": [
    {
     "name": "stderr",
     "output_type": "stream",
     "text": [
      "Global seed set to 0\n"
     ]
    }
   ],
   "source": [
    "settings.seed = 0\n",
    "device = \"cuda:2\"\n",
    "dataset = \"zheng_2017\""
   ]
  },
  {
   "cell_type": "code",
   "execution_count": 3,
   "id": "373da285-8ee5-465b-8fdb-3895673335ed",
   "metadata": {},
   "outputs": [],
   "source": [
    "pathway_enr_fdr = 0.1"
   ]
  },
  {
   "cell_type": "code",
   "execution_count": 4,
   "id": "1298aa8a-1bb7-4888-89f5-abe6a15a461b",
   "metadata": {},
   "outputs": [],
   "source": [
    "split_key = constants.DATASET_SPLIT_LOOKUP[dataset][\"split_key\"]\n",
    "background_value = constants.DATASET_SPLIT_LOOKUP[dataset][\"background_value\"]\n",
    "label_key = constants.DATASET_SPLIT_LOOKUP[dataset][\"label_key\"]\n",
    "seeds = constants.DEFAULT_SEEDS\n",
    "latent_size = 10"
   ]
  },
  {
   "cell_type": "code",
   "execution_count": 5,
   "id": "56bbb7e9-13e5-4399-8032-330c0467e3c2",
   "metadata": {},
   "outputs": [
    {
     "name": "stdout",
     "output_type": "stream",
     "text": [
      "\u001b[34mINFO    \u001b[0m No batch_key inputted, assuming all cells are same batch                            \n",
      "\u001b[34mINFO    \u001b[0m No label_key inputted, assuming all cells have same label                           \n",
      "\u001b[34mINFO    \u001b[0m Using data from adata.layers\u001b[1m[\u001b[0m\u001b[32m\"count\"\u001b[0m\u001b[1m]\u001b[0m                                               \n",
      "\u001b[34mINFO    \u001b[0m Successfully registered anndata object containing \u001b[1;36m16856\u001b[0m cells, \u001b[1;36m2000\u001b[0m vars, \u001b[1;36m1\u001b[0m batches,\n",
      "         \u001b[1;36m1\u001b[0m labels, and \u001b[1;36m0\u001b[0m proteins. Also registered \u001b[1;36m0\u001b[0m extra categorical covariates and \u001b[1;36m0\u001b[0m extra\n",
      "         continuous covariates.                                                              \n",
      "\u001b[34mINFO    \u001b[0m Please do not further modify adata until model is trained.                          \n"
     ]
    }
   ],
   "source": [
    "adata = sc.read_h5ad(\n",
    "    os.path.join(\n",
    "        constants.DEFAULT_DATA_PATH,\n",
    "        f\"{dataset}/preprocessed/adata_top_2000_genes_tc.h5ad\",\n",
    "    )\n",
    ")\n",
    "ContrastiveVIModel.setup_anndata(adata, layer=\"count\")"
   ]
  },
  {
   "cell_type": "code",
   "execution_count": 6,
   "id": "2c819b82-1b72-44f9-ab3b-5fac7d0b0a54",
   "metadata": {},
   "outputs": [],
   "source": [
    "target_indices = np.where(adata.obs[split_key] != background_value)[0]\n",
    "target_adata = adata[target_indices]\n",
    "background_indices = np.where(adata.obs[split_key] == background_value)[0]\n",
    "background_adata = adata[background_indices]"
   ]
  },
  {
   "cell_type": "code",
   "execution_count": 7,
   "id": "e5db5963-993b-426a-98fa-6d1fd1f1d09a",
   "metadata": {},
   "outputs": [],
   "source": [
    "genes = pd.read_table(\n",
    "    os.path.join(\n",
    "        constants.DEFAULT_DATA_PATH,\n",
    "        dataset,\n",
    "        \"aml027_post_transplant_filtered_gene_bc_matrices\",\n",
    "        \"filtered_matrices_mex/hg19\",\n",
    "        \"genes.tsv\",\n",
    "    ),\n",
    "    header=None,\n",
    ")\n",
    "genes = genes.rename(columns={0: \"ensembl_id\", 1: \"gene_symbol\"})\n",
    "genes = genes[genes[\"ensembl_id\"].isin(adata.var.index)]"
   ]
  },
  {
   "cell_type": "code",
   "execution_count": 8,
   "id": "6179e3e0-0aa3-438a-a001-8c0ef27c5636",
   "metadata": {},
   "outputs": [
    {
     "name": "stderr",
     "output_type": "stream",
     "text": [
      "100%|█████████████████████████████████████████████████████████████████████████████████████████████| 5/5 [01:59<00:00, 23.96s/it]\n"
     ]
    }
   ],
   "source": [
    "model_list = []\n",
    "latent_rep_list = []\n",
    "for seed in tqdm(seeds):\n",
    "    result_dir = os.path.join(\n",
    "        constants.DEFAULT_RESULTS_PATH,\n",
    "        f\"{dataset}/contrastiveVI/latent_{latent_size}\",\n",
    "        f\"{seed}\",\n",
    "    )\n",
    "    model_list.append(\n",
    "        torch.load(\n",
    "            os.path.join(result_dir, \"model.ckpt\"),\n",
    "            map_location=device,\n",
    "        ),\n",
    "    )\n",
    "    latent_rep_list.append(\n",
    "        np.load(os.path.join(result_dir, \"latent_representations.npy\")),\n",
    "    )"
   ]
  },
  {
   "cell_type": "code",
   "execution_count": 9,
   "id": "bb545723-bd81-4d42-97c6-18ae60623a8f",
   "metadata": {},
   "outputs": [
    {
     "name": "stdout",
     "output_type": "stream",
     "text": [
      "\u001b[34mINFO    \u001b[0m Input adata not setup with scvi. attempting to transfer anndata setup               \n",
      "\u001b[34mINFO    \u001b[0m Using data from adata.layers\u001b[1m[\u001b[0m\u001b[32m\"count\"\u001b[0m\u001b[1m]\u001b[0m                                               \n",
      "\u001b[34mINFO    \u001b[0m Registered keys:\u001b[1m[\u001b[0m\u001b[32m'X'\u001b[0m, \u001b[32m'batch_indices'\u001b[0m, \u001b[32m'labels'\u001b[0m\u001b[1m]\u001b[0m                                    \n",
      "\u001b[34mINFO    \u001b[0m Successfully registered anndata object containing \u001b[1;36m8608\u001b[0m cells, \u001b[1;36m2000\u001b[0m vars, \u001b[1;36m1\u001b[0m batches, \n",
      "         \u001b[1;36m1\u001b[0m labels, and \u001b[1;36m0\u001b[0m proteins. Also registered \u001b[1;36m0\u001b[0m extra categorical covariates and \u001b[1;36m0\u001b[0m extra\n",
      "         continuous covariates.                                                              \n"
     ]
    },
    {
     "name": "stderr",
     "output_type": "stream",
     "text": [
      "/homes/gws/clin25/miniconda3/envs/contrastive-vi-env/lib/python3.9/site-packages/sklearn/utils/deprecation.py:87: FutureWarning: Function transfer_anndata_setup is deprecated; This method will be removed in 0.15.0. Please avoid building any new dependencies on it.\n",
      "  warnings.warn(msg, category=FutureWarning)\n"
     ]
    },
    {
     "name": "stdout",
     "output_type": "stream",
     "text": [
      "DE...: 100%|██████████████████████████████████████████████████████████████████████████████████████| 1/1 [00:36<00:00, 36.39s/it]\n"
     ]
    },
    {
     "name": "stderr",
     "output_type": "stream",
     "text": [
      "2022-01-27 14:23:57,436 Warning: No enrich terms using library KEGG_2016 when cutoff = 0.1\n"
     ]
    },
    {
     "name": "stdout",
     "output_type": "stream",
     "text": [
      "\u001b[34mINFO    \u001b[0m Input adata not setup with scvi. attempting to transfer anndata setup               \n",
      "\u001b[34mINFO    \u001b[0m Using data from adata.layers\u001b[1m[\u001b[0m\u001b[32m\"count\"\u001b[0m\u001b[1m]\u001b[0m                                               \n",
      "\u001b[34mINFO    \u001b[0m Registered keys:\u001b[1m[\u001b[0m\u001b[32m'X'\u001b[0m, \u001b[32m'batch_indices'\u001b[0m, \u001b[32m'labels'\u001b[0m\u001b[1m]\u001b[0m                                    \n",
      "\u001b[34mINFO    \u001b[0m Successfully registered anndata object containing \u001b[1;36m12705\u001b[0m cells, \u001b[1;36m2000\u001b[0m vars, \u001b[1;36m1\u001b[0m batches,\n",
      "         \u001b[1;36m1\u001b[0m labels, and \u001b[1;36m0\u001b[0m proteins. Also registered \u001b[1;36m0\u001b[0m extra categorical covariates and \u001b[1;36m0\u001b[0m extra\n",
      "         continuous covariates.                                                              \n",
      "DE...: 100%|██████████████████████████████████████████████████████████████████████████████████████| 1/1 [00:36<00:00, 36.32s/it]\n"
     ]
    },
    {
     "name": "stderr",
     "output_type": "stream",
     "text": [
      "2022-01-27 14:24:37,204 Warning: No enrich terms using library KEGG_2016 when cutoff = 0.1\n"
     ]
    },
    {
     "name": "stdout",
     "output_type": "stream",
     "text": [
      "\u001b[34mINFO    \u001b[0m Input adata not setup with scvi. attempting to transfer anndata setup               \n",
      "\u001b[34mINFO    \u001b[0m Using data from adata.layers\u001b[1m[\u001b[0m\u001b[32m\"count\"\u001b[0m\u001b[1m]\u001b[0m                                               \n",
      "\u001b[34mINFO    \u001b[0m Registered keys:\u001b[1m[\u001b[0m\u001b[32m'X'\u001b[0m, \u001b[32m'batch_indices'\u001b[0m, \u001b[32m'labels'\u001b[0m\u001b[1m]\u001b[0m                                    \n",
      "\u001b[34mINFO    \u001b[0m Successfully registered anndata object containing \u001b[1;36m8651\u001b[0m cells, \u001b[1;36m2000\u001b[0m vars, \u001b[1;36m1\u001b[0m batches, \n",
      "         \u001b[1;36m1\u001b[0m labels, and \u001b[1;36m0\u001b[0m proteins. Also registered \u001b[1;36m0\u001b[0m extra categorical covariates and \u001b[1;36m0\u001b[0m extra\n",
      "         continuous covariates.                                                              \n"
     ]
    },
    {
     "name": "stderr",
     "output_type": "stream",
     "text": [
      "/homes/gws/clin25/miniconda3/envs/contrastive-vi-env/lib/python3.9/site-packages/sklearn/utils/deprecation.py:87: FutureWarning: Function transfer_anndata_setup is deprecated; This method will be removed in 0.15.0. Please avoid building any new dependencies on it.\n",
      "  warnings.warn(msg, category=FutureWarning)\n"
     ]
    },
    {
     "name": "stdout",
     "output_type": "stream",
     "text": [
      "DE...: 100%|██████████████████████████████████████████████████████████████████████████████████████| 1/1 [00:38<00:00, 38.28s/it]\n",
      "\u001b[34mINFO    \u001b[0m Input adata not setup with scvi. attempting to transfer anndata setup               \n",
      "\u001b[34mINFO    \u001b[0m Using data from adata.layers\u001b[1m[\u001b[0m\u001b[32m\"count\"\u001b[0m\u001b[1m]\u001b[0m                                               \n",
      "\u001b[34mINFO    \u001b[0m Registered keys:\u001b[1m[\u001b[0m\u001b[32m'X'\u001b[0m, \u001b[32m'batch_indices'\u001b[0m, \u001b[32m'labels'\u001b[0m\u001b[1m]\u001b[0m                                    \n",
      "\u001b[34mINFO    \u001b[0m Successfully registered anndata object containing \u001b[1;36m12662\u001b[0m cells, \u001b[1;36m2000\u001b[0m vars, \u001b[1;36m1\u001b[0m batches,\n",
      "         \u001b[1;36m1\u001b[0m labels, and \u001b[1;36m0\u001b[0m proteins. Also registered \u001b[1;36m0\u001b[0m extra categorical covariates and \u001b[1;36m0\u001b[0m extra\n",
      "         continuous covariates.                                                              \n"
     ]
    },
    {
     "name": "stderr",
     "output_type": "stream",
     "text": [
      "/homes/gws/clin25/miniconda3/envs/contrastive-vi-env/lib/python3.9/site-packages/sklearn/utils/deprecation.py:87: FutureWarning: Function transfer_anndata_setup is deprecated; This method will be removed in 0.15.0. Please avoid building any new dependencies on it.\n",
      "  warnings.warn(msg, category=FutureWarning)\n"
     ]
    },
    {
     "name": "stdout",
     "output_type": "stream",
     "text": [
      "DE...: 100%|██████████████████████████████████████████████████████████████████████████████████████| 1/1 [00:35<00:00, 35.93s/it]\n"
     ]
    },
    {
     "name": "stderr",
     "output_type": "stream",
     "text": [
      "2022-01-27 14:26:17,081 Warning: No enrich terms using library KEGG_2016 when cutoff = 0.1\n"
     ]
    },
    {
     "name": "stdout",
     "output_type": "stream",
     "text": [
      "\u001b[34mINFO    \u001b[0m Input adata not setup with scvi. attempting to transfer anndata setup               \n",
      "\u001b[34mINFO    \u001b[0m Using data from adata.layers\u001b[1m[\u001b[0m\u001b[32m\"count\"\u001b[0m\u001b[1m]\u001b[0m                                               \n",
      "\u001b[34mINFO    \u001b[0m Registered keys:\u001b[1m[\u001b[0m\u001b[32m'X'\u001b[0m, \u001b[32m'batch_indices'\u001b[0m, \u001b[32m'labels'\u001b[0m\u001b[1m]\u001b[0m                                    \n",
      "\u001b[34mINFO    \u001b[0m Successfully registered anndata object containing \u001b[1;36m12712\u001b[0m cells, \u001b[1;36m2000\u001b[0m vars, \u001b[1;36m1\u001b[0m batches,\n",
      "         \u001b[1;36m1\u001b[0m labels, and \u001b[1;36m0\u001b[0m proteins. Also registered \u001b[1;36m0\u001b[0m extra categorical covariates and \u001b[1;36m0\u001b[0m extra\n",
      "         continuous covariates.                                                              \n"
     ]
    },
    {
     "name": "stderr",
     "output_type": "stream",
     "text": [
      "/homes/gws/clin25/miniconda3/envs/contrastive-vi-env/lib/python3.9/site-packages/sklearn/utils/deprecation.py:87: FutureWarning: Function transfer_anndata_setup is deprecated; This method will be removed in 0.15.0. Please avoid building any new dependencies on it.\n",
      "  warnings.warn(msg, category=FutureWarning)\n"
     ]
    },
    {
     "name": "stdout",
     "output_type": "stream",
     "text": [
      "DE...: 100%|██████████████████████████████████████████████████████████████████████████████████████| 1/1 [00:35<00:00, 35.05s/it]\n"
     ]
    },
    {
     "name": "stderr",
     "output_type": "stream",
     "text": [
      "2022-01-27 14:27:09,765 Warning: No enrich terms using library KEGG_2016 when cutoff = 0.1\n"
     ]
    },
    {
     "name": "stdout",
     "output_type": "stream",
     "text": [
      "\u001b[34mINFO    \u001b[0m Input adata not setup with scvi. attempting to transfer anndata setup               \n",
      "\u001b[34mINFO    \u001b[0m Using data from adata.layers\u001b[1m[\u001b[0m\u001b[32m\"count\"\u001b[0m\u001b[1m]\u001b[0m                                               \n",
      "\u001b[34mINFO    \u001b[0m Registered keys:\u001b[1m[\u001b[0m\u001b[32m'X'\u001b[0m, \u001b[32m'batch_indices'\u001b[0m, \u001b[32m'labels'\u001b[0m\u001b[1m]\u001b[0m                                    \n",
      "\u001b[34mINFO    \u001b[0m Successfully registered anndata object containing \u001b[1;36m8601\u001b[0m cells, \u001b[1;36m2000\u001b[0m vars, \u001b[1;36m1\u001b[0m batches, \n",
      "         \u001b[1;36m1\u001b[0m labels, and \u001b[1;36m0\u001b[0m proteins. Also registered \u001b[1;36m0\u001b[0m extra categorical covariates and \u001b[1;36m0\u001b[0m extra\n",
      "         continuous covariates.                                                              \n",
      "DE...: 100%|██████████████████████████████████████████████████████████████████████████████████████| 1/1 [00:34<00:00, 34.92s/it]\n"
     ]
    },
    {
     "name": "stderr",
     "output_type": "stream",
     "text": [
      "2022-01-27 14:27:47,585 Warning: No enrich terms using library KEGG_2016 when cutoff = 0.1\n"
     ]
    },
    {
     "name": "stdout",
     "output_type": "stream",
     "text": [
      "\u001b[34mINFO    \u001b[0m Input adata not setup with scvi. attempting to transfer anndata setup               \n",
      "\u001b[34mINFO    \u001b[0m Using data from adata.layers\u001b[1m[\u001b[0m\u001b[32m\"count\"\u001b[0m\u001b[1m]\u001b[0m                                               \n",
      "\u001b[34mINFO    \u001b[0m Registered keys:\u001b[1m[\u001b[0m\u001b[32m'X'\u001b[0m, \u001b[32m'batch_indices'\u001b[0m, \u001b[32m'labels'\u001b[0m\u001b[1m]\u001b[0m                                    \n",
      "\u001b[34mINFO    \u001b[0m Successfully registered anndata object containing \u001b[1;36m8672\u001b[0m cells, \u001b[1;36m2000\u001b[0m vars, \u001b[1;36m1\u001b[0m batches, \n",
      "         \u001b[1;36m1\u001b[0m labels, and \u001b[1;36m0\u001b[0m proteins. Also registered \u001b[1;36m0\u001b[0m extra categorical covariates and \u001b[1;36m0\u001b[0m extra\n",
      "         continuous covariates.                                                              \n"
     ]
    },
    {
     "name": "stderr",
     "output_type": "stream",
     "text": [
      "/homes/gws/clin25/miniconda3/envs/contrastive-vi-env/lib/python3.9/site-packages/sklearn/utils/deprecation.py:87: FutureWarning: Function transfer_anndata_setup is deprecated; This method will be removed in 0.15.0. Please avoid building any new dependencies on it.\n",
      "  warnings.warn(msg, category=FutureWarning)\n"
     ]
    },
    {
     "name": "stdout",
     "output_type": "stream",
     "text": [
      "DE...: 100%|██████████████████████████████████████████████████████████████████████████████████████| 1/1 [00:35<00:00, 35.14s/it]\n",
      "\u001b[34mINFO    \u001b[0m Input adata not setup with scvi. attempting to transfer anndata setup               \n",
      "\u001b[34mINFO    \u001b[0m Using data from adata.layers\u001b[1m[\u001b[0m\u001b[32m\"count\"\u001b[0m\u001b[1m]\u001b[0m                                               \n",
      "\u001b[34mINFO    \u001b[0m Registered keys:\u001b[1m[\u001b[0m\u001b[32m'X'\u001b[0m, \u001b[32m'batch_indices'\u001b[0m, \u001b[32m'labels'\u001b[0m\u001b[1m]\u001b[0m                                    \n",
      "\u001b[34mINFO    \u001b[0m Successfully registered anndata object containing \u001b[1;36m12641\u001b[0m cells, \u001b[1;36m2000\u001b[0m vars, \u001b[1;36m1\u001b[0m batches,\n",
      "         \u001b[1;36m1\u001b[0m labels, and \u001b[1;36m0\u001b[0m proteins. Also registered \u001b[1;36m0\u001b[0m extra categorical covariates and \u001b[1;36m0\u001b[0m extra\n",
      "         continuous covariates.                                                              \n"
     ]
    },
    {
     "name": "stderr",
     "output_type": "stream",
     "text": [
      "/homes/gws/clin25/miniconda3/envs/contrastive-vi-env/lib/python3.9/site-packages/sklearn/utils/deprecation.py:87: FutureWarning: Function transfer_anndata_setup is deprecated; This method will be removed in 0.15.0. Please avoid building any new dependencies on it.\n",
      "  warnings.warn(msg, category=FutureWarning)\n"
     ]
    },
    {
     "name": "stdout",
     "output_type": "stream",
     "text": [
      "DE...: 100%|██████████████████████████████████████████████████████████████████████████████████████| 1/1 [00:35<00:00, 35.34s/it]\n",
      "\u001b[34mINFO    \u001b[0m Input adata not setup with scvi. attempting to transfer anndata setup               \n",
      "\u001b[34mINFO    \u001b[0m Using data from adata.layers\u001b[1m[\u001b[0m\u001b[32m\"count\"\u001b[0m\u001b[1m]\u001b[0m                                               \n",
      "\u001b[34mINFO    \u001b[0m Registered keys:\u001b[1m[\u001b[0m\u001b[32m'X'\u001b[0m, \u001b[32m'batch_indices'\u001b[0m, \u001b[32m'labels'\u001b[0m\u001b[1m]\u001b[0m                                    \n",
      "\u001b[34mINFO    \u001b[0m Successfully registered anndata object containing \u001b[1;36m8484\u001b[0m cells, \u001b[1;36m2000\u001b[0m vars, \u001b[1;36m1\u001b[0m batches, \n",
      "         \u001b[1;36m1\u001b[0m labels, and \u001b[1;36m0\u001b[0m proteins. Also registered \u001b[1;36m0\u001b[0m extra categorical covariates and \u001b[1;36m0\u001b[0m extra\n",
      "         continuous covariates.                                                              \n"
     ]
    },
    {
     "name": "stderr",
     "output_type": "stream",
     "text": [
      "/homes/gws/clin25/miniconda3/envs/contrastive-vi-env/lib/python3.9/site-packages/sklearn/utils/deprecation.py:87: FutureWarning: Function transfer_anndata_setup is deprecated; This method will be removed in 0.15.0. Please avoid building any new dependencies on it.\n",
      "  warnings.warn(msg, category=FutureWarning)\n"
     ]
    },
    {
     "name": "stdout",
     "output_type": "stream",
     "text": [
      "DE...: 100%|██████████████████████████████████████████████████████████████████████████████████████| 1/1 [00:35<00:00, 35.09s/it]\n",
      "\u001b[34mINFO    \u001b[0m Input adata not setup with scvi. attempting to transfer anndata setup               \n",
      "\u001b[34mINFO    \u001b[0m Using data from adata.layers\u001b[1m[\u001b[0m\u001b[32m\"count\"\u001b[0m\u001b[1m]\u001b[0m                                               \n",
      "\u001b[34mINFO    \u001b[0m Registered keys:\u001b[1m[\u001b[0m\u001b[32m'X'\u001b[0m, \u001b[32m'batch_indices'\u001b[0m, \u001b[32m'labels'\u001b[0m\u001b[1m]\u001b[0m                                    \n",
      "\u001b[34mINFO    \u001b[0m Successfully registered anndata object containing \u001b[1;36m12829\u001b[0m cells, \u001b[1;36m2000\u001b[0m vars, \u001b[1;36m1\u001b[0m batches,\n",
      "         \u001b[1;36m1\u001b[0m labels, and \u001b[1;36m0\u001b[0m proteins. Also registered \u001b[1;36m0\u001b[0m extra categorical covariates and \u001b[1;36m0\u001b[0m extra\n",
      "         continuous covariates.                                                              \n"
     ]
    },
    {
     "name": "stderr",
     "output_type": "stream",
     "text": [
      "/homes/gws/clin25/miniconda3/envs/contrastive-vi-env/lib/python3.9/site-packages/sklearn/utils/deprecation.py:87: FutureWarning: Function transfer_anndata_setup is deprecated; This method will be removed in 0.15.0. Please avoid building any new dependencies on it.\n",
      "  warnings.warn(msg, category=FutureWarning)\n"
     ]
    },
    {
     "name": "stdout",
     "output_type": "stream",
     "text": [
      "DE...: 100%|██████████████████████████████████████████████████████████████████████████████████████| 1/1 [00:35<00:00, 35.39s/it]\n"
     ]
    },
    {
     "name": "stderr",
     "output_type": "stream",
     "text": [
      "2022-01-27 14:30:54,930 Warning: No enrich terms using library KEGG_2016 when cutoff = 0.1\n"
     ]
    }
   ],
   "source": [
    "de_results = []\n",
    "enr_results = []\n",
    "label_proportion_results = []\n",
    "assigned_label_results = []\n",
    "\n",
    "for seed_index, seed in enumerate(seeds):\n",
    "    model = model_list[seed_index]\n",
    "    latent_rep = latent_rep_list[seed_index]\n",
    "    latent_clusters = KMeans(n_clusters=2, random_state=123).fit(latent_rep).labels_\n",
    "    cluster_label = f\"cluster_{seed}\"\n",
    "    \n",
    "    tmp_target_adata = target_adata.copy()\n",
    "    tmp_target_adata.obs[cluster_label] = latent_clusters.astype(str)\n",
    "    tmp_background_adata = background_adata.copy()\n",
    "    tmp_background_adata.obs[cluster_label] = \"background\"\n",
    "    \n",
    "    de_results.append({})\n",
    "    enr_results.append({})\n",
    "    label_proportion_results.append({})\n",
    "    assigned_label_results.append({})\n",
    "    \n",
    "    for cluster in np.unique(latent_clusters):\n",
    "        cluster_str = f\"{cluster}\"\n",
    "        \n",
    "        label_proportions = (\n",
    "            tmp_target_adata[tmp_target_adata.obs[cluster_label] == cluster_str]\n",
    "            .obs[label_key].value_counts()\n",
    "            / (tmp_target_adata.obs[cluster_label] == cluster_str).sum()\n",
    "        )\n",
    "        label_proportion_results[-1][cluster_str] = label_proportions\n",
    "        assigned_label_results[-1][cluster_str] = (\n",
    "            label_proportions.index[label_proportions.argmax()]\n",
    "        )\n",
    "        \n",
    "        cluster_adata = tmp_background_adata.concatenate(\n",
    "            tmp_target_adata[tmp_target_adata.obs[cluster_label] == cluster_str]\n",
    "        )\n",
    "    \n",
    "        cluster_de_result = model.differential_expression(\n",
    "            adata=cluster_adata,\n",
    "            groupby=cluster_label,\n",
    "            group1=\"background\",\n",
    "            group2=cluster_str,\n",
    "            idx1=None,\n",
    "            idx2=None,\n",
    "            mode=\"change\",\n",
    "            delta=0.25,\n",
    "            batch_size=128,\n",
    "            all_stats=True,\n",
    "            batch_correction=False,\n",
    "            batchid1=None,\n",
    "            batchid2=None,\n",
    "            fdr_target=0.05,\n",
    "            silent=False,\n",
    "        )\n",
    "\n",
    "        cluster_de_result.reset_index()\n",
    "        cluster_de_result[\"ensembl_id\"] = cluster_de_result.index\n",
    "        cluster_de_result = cluster_de_result.merge(genes, on=\"ensembl_id\")\n",
    "        cluster_de_result[\"seed\"] = seed\n",
    "        de_results[-1][cluster_str] = cluster_de_result\n",
    "        \n",
    "        top_genes = cluster_de_result[\n",
    "            cluster_de_result[\"proba_de\"] > 0.95\n",
    "        ][\"gene_symbol\"].tolist()\n",
    "        enr = gp.enrichr(\n",
    "            gene_list=top_genes,\n",
    "            gene_sets=\"KEGG_2016\",\n",
    "            organism=\"human\",\n",
    "            cutoff=pathway_enr_fdr,\n",
    "        )\n",
    "        cluster_enr_result = enr.results\n",
    "        cluster_enr_result = cluster_enr_result[\n",
    "            cluster_enr_result[\"Adjusted P-value\"] < pathway_enr_fdr\n",
    "        ]\n",
    "        enr_results[-1][cluster_str] = cluster_enr_result"
   ]
  },
  {
   "cell_type": "code",
   "execution_count": 10,
   "id": "4634b820-5502-45c7-bf25-6bacf916a414",
   "metadata": {},
   "outputs": [],
   "source": [
    "enr_df_list = []\n",
    "for i in range(len(assigned_label_results)):\n",
    "    assigned_labels = assigned_label_results[i]\n",
    "    enrs = enr_results[i]\n",
    "    for cluster in assigned_labels.keys():\n",
    "        enr = enrs[cluster].copy()\n",
    "        enr[\"assigned_label\"] = assigned_labels[cluster]\n",
    "        enr[\"cluster\"] = cluster\n",
    "        enr[\"seed\"] = constants.DEFAULT_SEEDS[i]\n",
    "        enr_df_list.append(enr)\n",
    "enr_df = pd.concat(enr_df_list)"
   ]
  },
  {
   "cell_type": "code",
   "execution_count": 11,
   "id": "e243d07a-dfd5-408b-95c5-682cd862262a",
   "metadata": {},
   "outputs": [],
   "source": [
    "cols = [\"Gene_set\", \"Term\", \"Adjusted P-value\", \"Overlap\", \"Genes\"]\n",
    "cols += [\"assigned_label\", \"cluster\", \"seed\"]\n",
    "enr_df = enr_df[cols]"
   ]
  },
  {
   "cell_type": "markdown",
   "id": "b4eb187e-3509-4243-b0f9-9442aff2a2e1",
   "metadata": {},
   "source": [
    "### Enriched pathways for cluster associated with pre-transplant vs. healthy healthy controls."
   ]
  },
  {
   "cell_type": "code",
   "execution_count": 12,
   "id": "6a3efb88-735c-44fa-bdd6-c2b953f6e9c9",
   "metadata": {},
   "outputs": [
    {
     "data": {
      "text/html": [
       "<div>\n",
       "<style scoped>\n",
       "    .dataframe tbody tr th:only-of-type {\n",
       "        vertical-align: middle;\n",
       "    }\n",
       "\n",
       "    .dataframe tbody tr th {\n",
       "        vertical-align: top;\n",
       "    }\n",
       "\n",
       "    .dataframe thead th {\n",
       "        text-align: right;\n",
       "    }\n",
       "</style>\n",
       "<table border=\"1\" class=\"dataframe\">\n",
       "  <thead>\n",
       "    <tr style=\"text-align: right;\">\n",
       "      <th></th>\n",
       "      <th>Gene_set</th>\n",
       "      <th>Term</th>\n",
       "      <th>Adjusted P-value</th>\n",
       "      <th>Overlap</th>\n",
       "      <th>Genes</th>\n",
       "      <th>assigned_label</th>\n",
       "      <th>cluster</th>\n",
       "      <th>seed</th>\n",
       "    </tr>\n",
       "  </thead>\n",
       "  <tbody>\n",
       "    <tr>\n",
       "      <th>2</th>\n",
       "      <td>KEGG_2016</td>\n",
       "      <td>p53 signaling pathway Homo sapiens hsa04115</td>\n",
       "      <td>0.014021</td>\n",
       "      <td>4/69</td>\n",
       "      <td>CASP9;CDKN1A;RRM2;GADD45A</td>\n",
       "      <td>pre_transplant</td>\n",
       "      <td>1</td>\n",
       "      <td>46</td>\n",
       "    </tr>\n",
       "    <tr>\n",
       "      <th>1</th>\n",
       "      <td>KEGG_2016</td>\n",
       "      <td>Transcriptional misregulation in cancer Homo s...</td>\n",
       "      <td>0.014021</td>\n",
       "      <td>6/180</td>\n",
       "      <td>SMAD1;CDKN1A;HPGD;BCL2A1;HIST1H3H;HIST1H3C</td>\n",
       "      <td>pre_transplant</td>\n",
       "      <td>1</td>\n",
       "      <td>46</td>\n",
       "    </tr>\n",
       "    <tr>\n",
       "      <th>3</th>\n",
       "      <td>KEGG_2016</td>\n",
       "      <td>Pathogenic Escherichia coli infection Homo sap...</td>\n",
       "      <td>0.073458</td>\n",
       "      <td>3/55</td>\n",
       "      <td>TUBA1C;TUBA1B;KRT18</td>\n",
       "      <td>pre_transplant</td>\n",
       "      <td>1</td>\n",
       "      <td>46</td>\n",
       "    </tr>\n",
       "    <tr>\n",
       "      <th>0</th>\n",
       "      <td>KEGG_2016</td>\n",
       "      <td>Apoptosis Homo sapiens hsa04210</td>\n",
       "      <td>0.000604</td>\n",
       "      <td>7/140</td>\n",
       "      <td>CASP9;TUBA1C;TUBA1B;MAPK8;BCL2A1;GADD45A;TNFRS...</td>\n",
       "      <td>pre_transplant</td>\n",
       "      <td>1</td>\n",
       "      <td>46</td>\n",
       "    </tr>\n",
       "  </tbody>\n",
       "</table>\n",
       "</div>"
      ],
      "text/plain": [
       "    Gene_set                                               Term  \\\n",
       "2  KEGG_2016        p53 signaling pathway Homo sapiens hsa04115   \n",
       "1  KEGG_2016  Transcriptional misregulation in cancer Homo s...   \n",
       "3  KEGG_2016  Pathogenic Escherichia coli infection Homo sap...   \n",
       "0  KEGG_2016                    Apoptosis Homo sapiens hsa04210   \n",
       "\n",
       "   Adjusted P-value Overlap  \\\n",
       "2          0.014021    4/69   \n",
       "1          0.014021   6/180   \n",
       "3          0.073458    3/55   \n",
       "0          0.000604   7/140   \n",
       "\n",
       "                                               Genes  assigned_label cluster  \\\n",
       "2                          CASP9;CDKN1A;RRM2;GADD45A  pre_transplant       1   \n",
       "1         SMAD1;CDKN1A;HPGD;BCL2A1;HIST1H3H;HIST1H3C  pre_transplant       1   \n",
       "3                                TUBA1C;TUBA1B;KRT18  pre_transplant       1   \n",
       "0  CASP9;TUBA1C;TUBA1B;MAPK8;BCL2A1;GADD45A;TNFRS...  pre_transplant       1   \n",
       "\n",
       "   seed  \n",
       "2    46  \n",
       "1    46  \n",
       "3    46  \n",
       "0    46  "
      ]
     },
     "execution_count": 12,
     "metadata": {},
     "output_type": "execute_result"
    }
   ],
   "source": [
    "enr_df[enr_df[\"assigned_label\"] == \"pre_transplant\"].sort_values(by=\"Term\", ascending=False)"
   ]
  },
  {
   "cell_type": "markdown",
   "id": "2af27dc9-38c4-42fd-99ee-14273d9d7422",
   "metadata": {
    "tags": []
   },
   "source": [
    "### Enriched pathways for cluster associated with post-transplant vs. healthy controls."
   ]
  },
  {
   "cell_type": "code",
   "execution_count": 13,
   "id": "a43923e6-25f6-4308-9d96-26cbf9ea80b7",
   "metadata": {},
   "outputs": [
    {
     "data": {
      "text/html": [
       "<div>\n",
       "<style scoped>\n",
       "    .dataframe tbody tr th:only-of-type {\n",
       "        vertical-align: middle;\n",
       "    }\n",
       "\n",
       "    .dataframe tbody tr th {\n",
       "        vertical-align: top;\n",
       "    }\n",
       "\n",
       "    .dataframe thead th {\n",
       "        text-align: right;\n",
       "    }\n",
       "</style>\n",
       "<table border=\"1\" class=\"dataframe\">\n",
       "  <thead>\n",
       "    <tr style=\"text-align: right;\">\n",
       "      <th></th>\n",
       "      <th>Gene_set</th>\n",
       "      <th>Term</th>\n",
       "      <th>Adjusted P-value</th>\n",
       "      <th>Overlap</th>\n",
       "      <th>Genes</th>\n",
       "      <th>assigned_label</th>\n",
       "      <th>cluster</th>\n",
       "      <th>seed</th>\n",
       "    </tr>\n",
       "  </thead>\n",
       "  <tbody>\n",
       "    <tr>\n",
       "      <th>0</th>\n",
       "      <td>KEGG_2016</td>\n",
       "      <td>Transcriptional misregulation in cancer Homo s...</td>\n",
       "      <td>0.060635</td>\n",
       "      <td>8/180</td>\n",
       "      <td>HOXA9;CDKN1A;CCND2;HPGD;BCL2A1;DDIT3;HIST1H3H;...</td>\n",
       "      <td>post_transplant</td>\n",
       "      <td>0</td>\n",
       "      <td>42</td>\n",
       "    </tr>\n",
       "    <tr>\n",
       "      <th>0</th>\n",
       "      <td>KEGG_2016</td>\n",
       "      <td>Sulfur relay system Homo sapiens hsa04122</td>\n",
       "      <td>0.059797</td>\n",
       "      <td>1/10</td>\n",
       "      <td>TST</td>\n",
       "      <td>post_transplant</td>\n",
       "      <td>0</td>\n",
       "      <td>46</td>\n",
       "    </tr>\n",
       "    <tr>\n",
       "      <th>1</th>\n",
       "      <td>KEGG_2016</td>\n",
       "      <td>Sulfur metabolism Homo sapiens hsa00920</td>\n",
       "      <td>0.059797</td>\n",
       "      <td>1/10</td>\n",
       "      <td>TST</td>\n",
       "      <td>post_transplant</td>\n",
       "      <td>0</td>\n",
       "      <td>46</td>\n",
       "    </tr>\n",
       "    <tr>\n",
       "      <th>4</th>\n",
       "      <td>KEGG_2016</td>\n",
       "      <td>Peroxisome Homo sapiens hsa04146</td>\n",
       "      <td>0.016498</td>\n",
       "      <td>1/83</td>\n",
       "      <td>DDO</td>\n",
       "      <td>post_transplant</td>\n",
       "      <td>0</td>\n",
       "      <td>999</td>\n",
       "    </tr>\n",
       "    <tr>\n",
       "      <th>3</th>\n",
       "      <td>KEGG_2016</td>\n",
       "      <td>PPAR signaling pathway Homo sapiens hsa03320</td>\n",
       "      <td>0.016498</td>\n",
       "      <td>1/69</td>\n",
       "      <td>FABP5</td>\n",
       "      <td>post_transplant</td>\n",
       "      <td>0</td>\n",
       "      <td>999</td>\n",
       "    </tr>\n",
       "    <tr>\n",
       "      <th>5</th>\n",
       "      <td>KEGG_2016</td>\n",
       "      <td>Malaria Homo sapiens hsa05144</td>\n",
       "      <td>0.087457</td>\n",
       "      <td>1/49</td>\n",
       "      <td>HBA1</td>\n",
       "      <td>post_transplant</td>\n",
       "      <td>0</td>\n",
       "      <td>46</td>\n",
       "    </tr>\n",
       "    <tr>\n",
       "      <th>2</th>\n",
       "      <td>KEGG_2016</td>\n",
       "      <td>Malaria Homo sapiens hsa05144</td>\n",
       "      <td>0.016274</td>\n",
       "      <td>1/49</td>\n",
       "      <td>HBA1</td>\n",
       "      <td>post_transplant</td>\n",
       "      <td>0</td>\n",
       "      <td>999</td>\n",
       "    </tr>\n",
       "    <tr>\n",
       "      <th>6</th>\n",
       "      <td>KEGG_2016</td>\n",
       "      <td>Glutathione metabolism Homo sapiens hsa00480</td>\n",
       "      <td>0.087457</td>\n",
       "      <td>1/52</td>\n",
       "      <td>RRM2</td>\n",
       "      <td>post_transplant</td>\n",
       "      <td>0</td>\n",
       "      <td>46</td>\n",
       "    </tr>\n",
       "    <tr>\n",
       "      <th>4</th>\n",
       "      <td>KEGG_2016</td>\n",
       "      <td>Cysteine and methionine metabolism Homo sapien...</td>\n",
       "      <td>0.087457</td>\n",
       "      <td>1/45</td>\n",
       "      <td>TST</td>\n",
       "      <td>post_transplant</td>\n",
       "      <td>0</td>\n",
       "      <td>46</td>\n",
       "    </tr>\n",
       "    <tr>\n",
       "      <th>2</th>\n",
       "      <td>KEGG_2016</td>\n",
       "      <td>Base excision repair Homo sapiens hsa03410</td>\n",
       "      <td>0.087457</td>\n",
       "      <td>1/33</td>\n",
       "      <td>NEIL3</td>\n",
       "      <td>post_transplant</td>\n",
       "      <td>0</td>\n",
       "      <td>46</td>\n",
       "    </tr>\n",
       "    <tr>\n",
       "      <th>0</th>\n",
       "      <td>KEGG_2016</td>\n",
       "      <td>Alanine, aspartate and glutamate metabolism Ho...</td>\n",
       "      <td>0.016274</td>\n",
       "      <td>1/35</td>\n",
       "      <td>DDO</td>\n",
       "      <td>post_transplant</td>\n",
       "      <td>0</td>\n",
       "      <td>999</td>\n",
       "    </tr>\n",
       "    <tr>\n",
       "      <th>3</th>\n",
       "      <td>KEGG_2016</td>\n",
       "      <td>African trypanosomiasis Homo sapiens hsa05143</td>\n",
       "      <td>0.087457</td>\n",
       "      <td>1/35</td>\n",
       "      <td>HBA1</td>\n",
       "      <td>post_transplant</td>\n",
       "      <td>0</td>\n",
       "      <td>46</td>\n",
       "    </tr>\n",
       "    <tr>\n",
       "      <th>1</th>\n",
       "      <td>KEGG_2016</td>\n",
       "      <td>African trypanosomiasis Homo sapiens hsa05143</td>\n",
       "      <td>0.016274</td>\n",
       "      <td>1/35</td>\n",
       "      <td>HBA1</td>\n",
       "      <td>post_transplant</td>\n",
       "      <td>0</td>\n",
       "      <td>999</td>\n",
       "    </tr>\n",
       "  </tbody>\n",
       "</table>\n",
       "</div>"
      ],
      "text/plain": [
       "    Gene_set                                               Term  \\\n",
       "0  KEGG_2016  Transcriptional misregulation in cancer Homo s...   \n",
       "0  KEGG_2016          Sulfur relay system Homo sapiens hsa04122   \n",
       "1  KEGG_2016            Sulfur metabolism Homo sapiens hsa00920   \n",
       "4  KEGG_2016                   Peroxisome Homo sapiens hsa04146   \n",
       "3  KEGG_2016       PPAR signaling pathway Homo sapiens hsa03320   \n",
       "5  KEGG_2016                      Malaria Homo sapiens hsa05144   \n",
       "2  KEGG_2016                      Malaria Homo sapiens hsa05144   \n",
       "6  KEGG_2016       Glutathione metabolism Homo sapiens hsa00480   \n",
       "4  KEGG_2016  Cysteine and methionine metabolism Homo sapien...   \n",
       "2  KEGG_2016         Base excision repair Homo sapiens hsa03410   \n",
       "0  KEGG_2016  Alanine, aspartate and glutamate metabolism Ho...   \n",
       "3  KEGG_2016      African trypanosomiasis Homo sapiens hsa05143   \n",
       "1  KEGG_2016      African trypanosomiasis Homo sapiens hsa05143   \n",
       "\n",
       "   Adjusted P-value Overlap  \\\n",
       "0          0.060635   8/180   \n",
       "0          0.059797    1/10   \n",
       "1          0.059797    1/10   \n",
       "4          0.016498    1/83   \n",
       "3          0.016498    1/69   \n",
       "5          0.087457    1/49   \n",
       "2          0.016274    1/49   \n",
       "6          0.087457    1/52   \n",
       "4          0.087457    1/45   \n",
       "2          0.087457    1/33   \n",
       "0          0.016274    1/35   \n",
       "3          0.087457    1/35   \n",
       "1          0.016274    1/35   \n",
       "\n",
       "                                               Genes   assigned_label cluster  \\\n",
       "0  HOXA9;CDKN1A;CCND2;HPGD;BCL2A1;DDIT3;HIST1H3H;...  post_transplant       0   \n",
       "0                                                TST  post_transplant       0   \n",
       "1                                                TST  post_transplant       0   \n",
       "4                                                DDO  post_transplant       0   \n",
       "3                                              FABP5  post_transplant       0   \n",
       "5                                               HBA1  post_transplant       0   \n",
       "2                                               HBA1  post_transplant       0   \n",
       "6                                               RRM2  post_transplant       0   \n",
       "4                                                TST  post_transplant       0   \n",
       "2                                              NEIL3  post_transplant       0   \n",
       "0                                                DDO  post_transplant       0   \n",
       "3                                               HBA1  post_transplant       0   \n",
       "1                                               HBA1  post_transplant       0   \n",
       "\n",
       "   seed  \n",
       "0    42  \n",
       "0    46  \n",
       "1    46  \n",
       "4   999  \n",
       "3   999  \n",
       "5    46  \n",
       "2   999  \n",
       "6    46  \n",
       "4    46  \n",
       "2    46  \n",
       "0   999  \n",
       "3    46  \n",
       "1   999  "
      ]
     },
     "execution_count": 13,
     "metadata": {},
     "output_type": "execute_result"
    }
   ],
   "source": [
    "enr_df[enr_df[\"assigned_label\"] == \"post_transplant\"].sort_values(by=\"Term\", ascending=False)"
   ]
  },
  {
   "cell_type": "code",
   "execution_count": null,
   "id": "49dea3af-8cad-464c-9f3b-9a3ff8f80423",
   "metadata": {},
   "outputs": [],
   "source": []
  }
 ],
 "metadata": {
  "kernelspec": {
   "display_name": "Python 3 (ipykernel)",
   "language": "python",
   "name": "python3"
  },
  "language_info": {
   "codemirror_mode": {
    "name": "ipython",
    "version": 3
   },
   "file_extension": ".py",
   "mimetype": "text/x-python",
   "name": "python",
   "nbconvert_exporter": "python",
   "pygments_lexer": "ipython3",
   "version": "3.9.7"
  }
 },
 "nbformat": 4,
 "nbformat_minor": 5
}
