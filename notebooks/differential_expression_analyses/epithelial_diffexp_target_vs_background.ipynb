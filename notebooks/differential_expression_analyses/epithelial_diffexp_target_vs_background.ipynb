{
 "cells": [
  {
   "cell_type": "code",
   "execution_count": 1,
   "id": "95409e76-7d17-4e55-818a-31b03a418c4f",
   "metadata": {},
   "outputs": [
    {
     "name": "stderr",
     "output_type": "stream",
     "text": [
      "Global seed set to 0\n",
      "During startup - Warning messages:\n",
      "1: package ‘methods’ was built under R version 3.6.1 \n",
      "2: package ‘datasets’ was built under R version 3.6.1 \n",
      "3: package ‘utils’ was built under R version 3.6.1 \n",
      "4: package ‘grDevices’ was built under R version 3.6.1 \n",
      "5: package ‘graphics’ was built under R version 3.6.1 \n",
      "6: package ‘stats’ was built under R version 3.6.1 \n"
     ]
    }
   ],
   "source": [
    "import os\n",
    "import torch\n",
    "\n",
    "import scanpy as sc\n",
    "import numpy as np\n",
    "import pandas as pd\n",
    "import gseapy as gp\n",
    "\n",
    "from tqdm import tqdm\n",
    "from sklearn.cluster import KMeans\n",
    "from contrastive_vi.model.contrastive_vi import ContrastiveVIModel\n",
    "from scripts import constants\n",
    "from scvi._settings import settings"
   ]
  },
  {
   "cell_type": "code",
   "execution_count": 2,
   "id": "69e38f98-0a04-43cf-a485-6c33386e2ac8",
   "metadata": {},
   "outputs": [
    {
     "name": "stderr",
     "output_type": "stream",
     "text": [
      "Global seed set to 0\n"
     ]
    }
   ],
   "source": [
    "settings.seed = 0\n",
    "device = \"cuda:1\"\n",
    "dataset = \"haber_2017\""
   ]
  },
  {
   "cell_type": "code",
   "execution_count": 3,
   "id": "07dbddaf-f4ce-4b5a-8ae9-5f70811e294e",
   "metadata": {},
   "outputs": [],
   "source": [
    "pathway_enr_fdr = 0.05\n",
    "expression_delta = 0.15"
   ]
  },
  {
   "cell_type": "code",
   "execution_count": 4,
   "id": "1298aa8a-1bb7-4888-89f5-abe6a15a461b",
   "metadata": {},
   "outputs": [],
   "source": [
    "split_key = constants.DATASET_SPLIT_LOOKUP[dataset][\"split_key\"]\n",
    "background_value = constants.DATASET_SPLIT_LOOKUP[dataset][\"background_value\"]\n",
    "label_key = constants.DATASET_SPLIT_LOOKUP[dataset][\"label_key\"]\n",
    "seeds = constants.DEFAULT_SEEDS\n",
    "latent_size = 10"
   ]
  },
  {
   "cell_type": "code",
   "execution_count": 5,
   "id": "56bbb7e9-13e5-4399-8032-330c0467e3c2",
   "metadata": {},
   "outputs": [
    {
     "name": "stdout",
     "output_type": "stream",
     "text": [
      "\u001b[34mINFO    \u001b[0m No batch_key inputted, assuming all cells are same batch                            \n",
      "\u001b[34mINFO    \u001b[0m No label_key inputted, assuming all cells have same label                           \n",
      "\u001b[34mINFO    \u001b[0m Using data from adata.layers\u001b[1m[\u001b[0m\u001b[32m\"count\"\u001b[0m\u001b[1m]\u001b[0m                                               \n",
      "\u001b[34mINFO    \u001b[0m Successfully registered anndata object containing \u001b[1;36m7721\u001b[0m cells, \u001b[1;36m2000\u001b[0m vars, \u001b[1;36m1\u001b[0m batches, \n",
      "         \u001b[1;36m1\u001b[0m labels, and \u001b[1;36m0\u001b[0m proteins. Also registered \u001b[1;36m0\u001b[0m extra categorical covariates and \u001b[1;36m0\u001b[0m extra\n",
      "         continuous covariates.                                                              \n",
      "\u001b[34mINFO    \u001b[0m Please do not further modify adata until model is trained.                          \n"
     ]
    }
   ],
   "source": [
    "adata = sc.read_h5ad(\n",
    "    os.path.join(\n",
    "        constants.DEFAULT_DATA_PATH,\n",
    "        f\"{dataset}/preprocessed/adata_top_2000_genes_tc.h5ad\",\n",
    "    )\n",
    ")\n",
    "ContrastiveVIModel.setup_anndata(adata, layer=\"count\")"
   ]
  },
  {
   "cell_type": "code",
   "execution_count": 6,
   "id": "2c819b82-1b72-44f9-ab3b-5fac7d0b0a54",
   "metadata": {},
   "outputs": [],
   "source": [
    "target_indices = np.where(adata.obs[split_key] != background_value)[0]\n",
    "background_indices = np.where(adata.obs[split_key] == background_value)[0]"
   ]
  },
  {
   "cell_type": "code",
   "execution_count": 7,
   "id": "6179e3e0-0aa3-438a-a001-8c0ef27c5636",
   "metadata": {},
   "outputs": [
    {
     "name": "stderr",
     "output_type": "stream",
     "text": [
      "100%|█████████████████████████████████████████████████████████████████████████████████████████████| 5/5 [00:48<00:00,  9.65s/it]\n"
     ]
    }
   ],
   "source": [
    "model_list = []\n",
    "for seed in tqdm(seeds):\n",
    "    result_dir = os.path.join(\n",
    "        constants.DEFAULT_RESULTS_PATH,\n",
    "        f\"{dataset}/contrastiveVI/latent_{latent_size}\",\n",
    "        f\"{seed}\",\n",
    "    )\n",
    "    model_list.append(\n",
    "        torch.load(\n",
    "            os.path.join(result_dir, \"model.ckpt\"),\n",
    "            map_location=device,\n",
    "        ),\n",
    "    )"
   ]
  },
  {
   "cell_type": "code",
   "execution_count": 8,
   "id": "bb545723-bd81-4d42-97c6-18ae60623a8f",
   "metadata": {},
   "outputs": [
    {
     "name": "stdout",
     "output_type": "stream",
     "text": [
      "DE...: 100%|██████████████████████████████████████████████████████████████████████████████████████| 1/1 [00:32<00:00, 32.57s/it]\n"
     ]
    },
    {
     "name": "stderr",
     "output_type": "stream",
     "text": [
      "/tmp/ipykernel_19861/1805609340.py:40: SettingWithCopyWarning: \n",
      "A value is trying to be set on a copy of a slice from a DataFrame.\n",
      "Try using .loc[row_indexer,col_indexer] = value instead\n",
      "\n",
      "See the caveats in the documentation: https://pandas.pydata.org/pandas-docs/stable/user_guide/indexing.html#returning-a-view-versus-a-copy\n",
      "  enr_result[\"seed\"] = seed\n"
     ]
    },
    {
     "name": "stdout",
     "output_type": "stream",
     "text": [
      "DE...: 100%|██████████████████████████████████████████████████████████████████████████████████████| 1/1 [00:33<00:00, 33.80s/it]\n"
     ]
    },
    {
     "name": "stderr",
     "output_type": "stream",
     "text": [
      "/tmp/ipykernel_19861/1805609340.py:40: SettingWithCopyWarning: \n",
      "A value is trying to be set on a copy of a slice from a DataFrame.\n",
      "Try using .loc[row_indexer,col_indexer] = value instead\n",
      "\n",
      "See the caveats in the documentation: https://pandas.pydata.org/pandas-docs/stable/user_guide/indexing.html#returning-a-view-versus-a-copy\n",
      "  enr_result[\"seed\"] = seed\n"
     ]
    },
    {
     "name": "stdout",
     "output_type": "stream",
     "text": [
      "DE...: 100%|██████████████████████████████████████████████████████████████████████████████████████| 1/1 [00:33<00:00, 33.50s/it]\n"
     ]
    },
    {
     "name": "stderr",
     "output_type": "stream",
     "text": [
      "/tmp/ipykernel_19861/1805609340.py:40: SettingWithCopyWarning: \n",
      "A value is trying to be set on a copy of a slice from a DataFrame.\n",
      "Try using .loc[row_indexer,col_indexer] = value instead\n",
      "\n",
      "See the caveats in the documentation: https://pandas.pydata.org/pandas-docs/stable/user_guide/indexing.html#returning-a-view-versus-a-copy\n",
      "  enr_result[\"seed\"] = seed\n"
     ]
    },
    {
     "name": "stdout",
     "output_type": "stream",
     "text": [
      "DE...: 100%|██████████████████████████████████████████████████████████████████████████████████████| 1/1 [00:33<00:00, 33.24s/it]\n"
     ]
    },
    {
     "name": "stderr",
     "output_type": "stream",
     "text": [
      "/tmp/ipykernel_19861/1805609340.py:40: SettingWithCopyWarning: \n",
      "A value is trying to be set on a copy of a slice from a DataFrame.\n",
      "Try using .loc[row_indexer,col_indexer] = value instead\n",
      "\n",
      "See the caveats in the documentation: https://pandas.pydata.org/pandas-docs/stable/user_guide/indexing.html#returning-a-view-versus-a-copy\n",
      "  enr_result[\"seed\"] = seed\n"
     ]
    },
    {
     "name": "stdout",
     "output_type": "stream",
     "text": [
      "DE...: 100%|██████████████████████████████████████████████████████████████████████████████████████| 1/1 [00:33<00:00, 33.69s/it]\n"
     ]
    },
    {
     "name": "stderr",
     "output_type": "stream",
     "text": [
      "/tmp/ipykernel_19861/1805609340.py:40: SettingWithCopyWarning: \n",
      "A value is trying to be set on a copy of a slice from a DataFrame.\n",
      "Try using .loc[row_indexer,col_indexer] = value instead\n",
      "\n",
      "See the caveats in the documentation: https://pandas.pydata.org/pandas-docs/stable/user_guide/indexing.html#returning-a-view-versus-a-copy\n",
      "  enr_result[\"seed\"] = seed\n"
     ]
    }
   ],
   "source": [
    "de_result_list = []\n",
    "enr_result_list = []\n",
    "\n",
    "for seed_index, seed in enumerate(seeds):\n",
    "    model = model_list[seed_index]\n",
    "    \n",
    "    de_result = model.differential_expression(\n",
    "        adata=adata,\n",
    "        groupby=None,\n",
    "        group1=None,\n",
    "        group2=None,\n",
    "        idx1=background_indices,\n",
    "        idx2=target_indices,\n",
    "        mode=\"change\",\n",
    "        delta=expression_delta,\n",
    "        batch_size=128,\n",
    "        all_stats=True,\n",
    "        batch_correction=False,\n",
    "        batchid1=None,\n",
    "        batchid2=None,\n",
    "        fdr_target=0.05,\n",
    "        silent=False,\n",
    "        target_idx=target_indices,\n",
    "    )\n",
    "\n",
    "    de_result.reset_index()\n",
    "    de_result[\"gene_symbol\"] = de_result.index\n",
    "    de_result[\"seed\"] = seed\n",
    "    de_result_list.append(de_result)\n",
    "\n",
    "    top_genes = de_result[de_result[\"proba_de\"] > 0.95][\"gene_symbol\"].tolist()\n",
    "    enr = gp.enrichr(\n",
    "        gene_list=top_genes,\n",
    "        gene_sets=\"KEGG_2019_Mouse\",\n",
    "        organism=\"mouse\",\n",
    "        cutoff=pathway_enr_fdr,\n",
    "    )\n",
    "    enr_result = enr.results\n",
    "    enr_result = enr_result[enr_result[\"Adjusted P-value\"] < pathway_enr_fdr]\n",
    "    enr_result[\"seed\"] = seed\n",
    "    enr_result_list.append(enr_result)"
   ]
  },
  {
   "cell_type": "code",
   "execution_count": 9,
   "id": "4634b820-5502-45c7-bf25-6bacf916a414",
   "metadata": {},
   "outputs": [],
   "source": [
    "enr_df = pd.concat(enr_result_list)\n",
    "cols = [\"Gene_set\", \"Term\", \"Adjusted P-value\", \"Overlap\", \"Genes\"]\n",
    "cols += [\"seed\"]\n",
    "enr_df = enr_df[cols]"
   ]
  },
  {
   "cell_type": "code",
   "execution_count": 15,
   "id": "38d44b3b-2d9f-413e-b2b4-2173d8f4e272",
   "metadata": {},
   "outputs": [
    {
     "data": {
      "text/html": [
       "<div>\n",
       "<style scoped>\n",
       "    .dataframe tbody tr th:only-of-type {\n",
       "        vertical-align: middle;\n",
       "    }\n",
       "\n",
       "    .dataframe tbody tr th {\n",
       "        vertical-align: top;\n",
       "    }\n",
       "\n",
       "    .dataframe thead th {\n",
       "        text-align: right;\n",
       "    }\n",
       "</style>\n",
       "<table border=\"1\" class=\"dataframe\">\n",
       "  <thead>\n",
       "    <tr style=\"text-align: right;\">\n",
       "      <th></th>\n",
       "      <th>Gene_set</th>\n",
       "      <th>Term</th>\n",
       "      <th>Adjusted P-value</th>\n",
       "      <th>Overlap</th>\n",
       "      <th>Genes</th>\n",
       "      <th>seed</th>\n",
       "    </tr>\n",
       "  </thead>\n",
       "  <tbody>\n",
       "    <tr>\n",
       "      <th>0</th>\n",
       "      <td>KEGG_2019_Mouse</td>\n",
       "      <td>Arachidonic acid metabolism</td>\n",
       "      <td>0.000012</td>\n",
       "      <td>22/89</td>\n",
       "      <td>CBR2;PLA2G2F;PLA2G2D;CYP2J5;GPX3;GPX5;PLA2G4C;...</td>\n",
       "      <td>123</td>\n",
       "    </tr>\n",
       "    <tr>\n",
       "      <th>1</th>\n",
       "      <td>KEGG_2019_Mouse</td>\n",
       "      <td>Linoleic acid metabolism</td>\n",
       "      <td>0.001942</td>\n",
       "      <td>13/50</td>\n",
       "      <td>PLA2G2F;PLA2G2D;CYP2J5;PLA2G4C;CYP3A11;PLA2G4A...</td>\n",
       "      <td>123</td>\n",
       "    </tr>\n",
       "    <tr>\n",
       "      <th>2</th>\n",
       "      <td>KEGG_2019_Mouse</td>\n",
       "      <td>Maturity onset diabetes of the young</td>\n",
       "      <td>0.003203</td>\n",
       "      <td>9/27</td>\n",
       "      <td>NEUROD1;PAX4;SLC2A2;IAPP;BHLHA15;GCK;FOXA3;NEU...</td>\n",
       "      <td>123</td>\n",
       "    </tr>\n",
       "    <tr>\n",
       "      <th>3</th>\n",
       "      <td>KEGG_2019_Mouse</td>\n",
       "      <td>Fat digestion and absorption</td>\n",
       "      <td>0.013578</td>\n",
       "      <td>10/40</td>\n",
       "      <td>PLA2G2F;FABP1;PNLIPRP2;SCARB1;FABP2;PLA2G2D;CL...</td>\n",
       "      <td>123</td>\n",
       "    </tr>\n",
       "    <tr>\n",
       "      <th>4</th>\n",
       "      <td>KEGG_2019_Mouse</td>\n",
       "      <td>Chemical carcinogenesis</td>\n",
       "      <td>0.020853</td>\n",
       "      <td>16/94</td>\n",
       "      <td>GSTO2;UGT2B36;EPHX1;CYP3A11;CYP3A25;CYP2C29;AL...</td>\n",
       "      <td>123</td>\n",
       "    </tr>\n",
       "    <tr>\n",
       "      <th>0</th>\n",
       "      <td>KEGG_2019_Mouse</td>\n",
       "      <td>Arachidonic acid metabolism</td>\n",
       "      <td>0.000787</td>\n",
       "      <td>20/89</td>\n",
       "      <td>CBR2;PLA2G2F;PLA2G2D;CYP2J5;GPX3;PLA2G4C;PLA2G...</td>\n",
       "      <td>42</td>\n",
       "    </tr>\n",
       "    <tr>\n",
       "      <th>1</th>\n",
       "      <td>KEGG_2019_Mouse</td>\n",
       "      <td>Linoleic acid metabolism</td>\n",
       "      <td>0.004161</td>\n",
       "      <td>13/50</td>\n",
       "      <td>PLA2G2F;PLA2G2D;CYP2J5;PLA2G4C;CYP3A11;PLA2G4A...</td>\n",
       "      <td>42</td>\n",
       "    </tr>\n",
       "    <tr>\n",
       "      <th>2</th>\n",
       "      <td>KEGG_2019_Mouse</td>\n",
       "      <td>Chemical carcinogenesis</td>\n",
       "      <td>0.025383</td>\n",
       "      <td>17/94</td>\n",
       "      <td>GSTM3;GSTO2;UGT2B36;EPHX1;CYP3A11;CYP3A25;CYP2...</td>\n",
       "      <td>42</td>\n",
       "    </tr>\n",
       "    <tr>\n",
       "      <th>0</th>\n",
       "      <td>KEGG_2019_Mouse</td>\n",
       "      <td>Arachidonic acid metabolism</td>\n",
       "      <td>0.001652</td>\n",
       "      <td>20/89</td>\n",
       "      <td>CBR2;PLA2G2F;CYP2J5;GPX3;GPX5;PLA2G4A;PLA2G3;C...</td>\n",
       "      <td>789</td>\n",
       "    </tr>\n",
       "    <tr>\n",
       "      <th>1</th>\n",
       "      <td>KEGG_2019_Mouse</td>\n",
       "      <td>Insulin secretion</td>\n",
       "      <td>0.022303</td>\n",
       "      <td>17/86</td>\n",
       "      <td>CAMK2B;SNAP25;PRKCB;GPR119;SLC2A2;GCG;CCK;ADCY...</td>\n",
       "      <td>789</td>\n",
       "    </tr>\n",
       "    <tr>\n",
       "      <th>0</th>\n",
       "      <td>KEGG_2019_Mouse</td>\n",
       "      <td>Arachidonic acid metabolism</td>\n",
       "      <td>0.000505</td>\n",
       "      <td>21/89</td>\n",
       "      <td>CBR2;PLA2G2F;PLA2G2D;CYP2J5;GPX3;GPX5;PLA2G4C;...</td>\n",
       "      <td>46</td>\n",
       "    </tr>\n",
       "    <tr>\n",
       "      <th>1</th>\n",
       "      <td>KEGG_2019_Mouse</td>\n",
       "      <td>Linoleic acid metabolism</td>\n",
       "      <td>0.007832</td>\n",
       "      <td>13/50</td>\n",
       "      <td>PLA2G2F;PLA2G2D;CYP2J5;PLA2G4C;CYP3A11;PLA2G4A...</td>\n",
       "      <td>46</td>\n",
       "    </tr>\n",
       "    <tr>\n",
       "      <th>2</th>\n",
       "      <td>KEGG_2019_Mouse</td>\n",
       "      <td>Maturity onset diabetes of the young</td>\n",
       "      <td>0.009051</td>\n",
       "      <td>9/27</td>\n",
       "      <td>NEUROD1;HHEX;PAX4;PAX6;BHLHA15;GCK;FOXA3;NEURO...</td>\n",
       "      <td>46</td>\n",
       "    </tr>\n",
       "    <tr>\n",
       "      <th>3</th>\n",
       "      <td>KEGG_2019_Mouse</td>\n",
       "      <td>Pancreatic secretion</td>\n",
       "      <td>0.018456</td>\n",
       "      <td>19/105</td>\n",
       "      <td>PLA2G2F;PNLIPRP2;CAR2;PLA2G2D;CTRB1;ATP2A3;ATP...</td>\n",
       "      <td>46</td>\n",
       "    </tr>\n",
       "    <tr>\n",
       "      <th>4</th>\n",
       "      <td>KEGG_2019_Mouse</td>\n",
       "      <td>Chemical carcinogenesis</td>\n",
       "      <td>0.026271</td>\n",
       "      <td>17/94</td>\n",
       "      <td>GSTO2;UGT2B36;EPHX1;CYP3A11;CYP3A25;CYP2C29;AL...</td>\n",
       "      <td>46</td>\n",
       "    </tr>\n",
       "    <tr>\n",
       "      <th>5</th>\n",
       "      <td>KEGG_2019_Mouse</td>\n",
       "      <td>Fat digestion and absorption</td>\n",
       "      <td>0.026271</td>\n",
       "      <td>10/40</td>\n",
       "      <td>PLA2G2F;FABP1;PNLIPRP2;SCARB1;FABP2;PLA2G2D;CL...</td>\n",
       "      <td>46</td>\n",
       "    </tr>\n",
       "    <tr>\n",
       "      <th>0</th>\n",
       "      <td>KEGG_2019_Mouse</td>\n",
       "      <td>Arachidonic acid metabolism</td>\n",
       "      <td>0.022098</td>\n",
       "      <td>16/89</td>\n",
       "      <td>CBR2;PLA2G2D;GPX5;PLA2G4C;PLA2G4A;PLA2G3;CYP2C...</td>\n",
       "      <td>999</td>\n",
       "    </tr>\n",
       "    <tr>\n",
       "      <th>1</th>\n",
       "      <td>KEGG_2019_Mouse</td>\n",
       "      <td>Chemical carcinogenesis</td>\n",
       "      <td>0.022098</td>\n",
       "      <td>16/94</td>\n",
       "      <td>GSTM3;GSTO2;UGT2B36;CYP3A11;CYP2C29;ALDH3B2;HP...</td>\n",
       "      <td>999</td>\n",
       "    </tr>\n",
       "  </tbody>\n",
       "</table>\n",
       "</div>"
      ],
      "text/plain": [
       "          Gene_set                                  Term  Adjusted P-value  \\\n",
       "0  KEGG_2019_Mouse           Arachidonic acid metabolism          0.000012   \n",
       "1  KEGG_2019_Mouse              Linoleic acid metabolism          0.001942   \n",
       "2  KEGG_2019_Mouse  Maturity onset diabetes of the young          0.003203   \n",
       "3  KEGG_2019_Mouse          Fat digestion and absorption          0.013578   \n",
       "4  KEGG_2019_Mouse               Chemical carcinogenesis          0.020853   \n",
       "0  KEGG_2019_Mouse           Arachidonic acid metabolism          0.000787   \n",
       "1  KEGG_2019_Mouse              Linoleic acid metabolism          0.004161   \n",
       "2  KEGG_2019_Mouse               Chemical carcinogenesis          0.025383   \n",
       "0  KEGG_2019_Mouse           Arachidonic acid metabolism          0.001652   \n",
       "1  KEGG_2019_Mouse                     Insulin secretion          0.022303   \n",
       "0  KEGG_2019_Mouse           Arachidonic acid metabolism          0.000505   \n",
       "1  KEGG_2019_Mouse              Linoleic acid metabolism          0.007832   \n",
       "2  KEGG_2019_Mouse  Maturity onset diabetes of the young          0.009051   \n",
       "3  KEGG_2019_Mouse                  Pancreatic secretion          0.018456   \n",
       "4  KEGG_2019_Mouse               Chemical carcinogenesis          0.026271   \n",
       "5  KEGG_2019_Mouse          Fat digestion and absorption          0.026271   \n",
       "0  KEGG_2019_Mouse           Arachidonic acid metabolism          0.022098   \n",
       "1  KEGG_2019_Mouse               Chemical carcinogenesis          0.022098   \n",
       "\n",
       "  Overlap                                              Genes  seed  \n",
       "0   22/89  CBR2;PLA2G2F;PLA2G2D;CYP2J5;GPX3;GPX5;PLA2G4C;...   123  \n",
       "1   13/50  PLA2G2F;PLA2G2D;CYP2J5;PLA2G4C;CYP3A11;PLA2G4A...   123  \n",
       "2    9/27  NEUROD1;PAX4;SLC2A2;IAPP;BHLHA15;GCK;FOXA3;NEU...   123  \n",
       "3   10/40  PLA2G2F;FABP1;PNLIPRP2;SCARB1;FABP2;PLA2G2D;CL...   123  \n",
       "4   16/94  GSTO2;UGT2B36;EPHX1;CYP3A11;CYP3A25;CYP2C29;AL...   123  \n",
       "0   20/89  CBR2;PLA2G2F;PLA2G2D;CYP2J5;GPX3;PLA2G4C;PLA2G...    42  \n",
       "1   13/50  PLA2G2F;PLA2G2D;CYP2J5;PLA2G4C;CYP3A11;PLA2G4A...    42  \n",
       "2   17/94  GSTM3;GSTO2;UGT2B36;EPHX1;CYP3A11;CYP3A25;CYP2...    42  \n",
       "0   20/89  CBR2;PLA2G2F;CYP2J5;GPX3;GPX5;PLA2G4A;PLA2G3;C...   789  \n",
       "1   17/86  CAMK2B;SNAP25;PRKCB;GPR119;SLC2A2;GCG;CCK;ADCY...   789  \n",
       "0   21/89  CBR2;PLA2G2F;PLA2G2D;CYP2J5;GPX3;GPX5;PLA2G4C;...    46  \n",
       "1   13/50  PLA2G2F;PLA2G2D;CYP2J5;PLA2G4C;CYP3A11;PLA2G4A...    46  \n",
       "2    9/27  NEUROD1;HHEX;PAX4;PAX6;BHLHA15;GCK;FOXA3;NEURO...    46  \n",
       "3  19/105  PLA2G2F;PNLIPRP2;CAR2;PLA2G2D;CTRB1;ATP2A3;ATP...    46  \n",
       "4   17/94  GSTO2;UGT2B36;EPHX1;CYP3A11;CYP3A25;CYP2C29;AL...    46  \n",
       "5   10/40  PLA2G2F;FABP1;PNLIPRP2;SCARB1;FABP2;PLA2G2D;CL...    46  \n",
       "0   16/89  CBR2;PLA2G2D;GPX5;PLA2G4C;PLA2G4A;PLA2G3;CYP2C...   999  \n",
       "1   16/94  GSTM3;GSTO2;UGT2B36;CYP3A11;CYP2C29;ALDH3B2;HP...   999  "
      ]
     },
     "execution_count": 15,
     "metadata": {},
     "output_type": "execute_result"
    }
   ],
   "source": [
    "enr_df"
   ]
  },
  {
   "cell_type": "markdown",
   "id": "f43a31c4-5207-4202-bac2-ba9ca5f2849e",
   "metadata": {},
   "source": [
    "## Aggregate analysis"
   ]
  },
  {
   "cell_type": "code",
   "execution_count": 11,
   "id": "49dea3af-8cad-464c-9f3b-9a3ff8f80423",
   "metadata": {},
   "outputs": [],
   "source": [
    "de_result = pd.concat(de_result_list)\n",
    "de_result_mean = (\n",
    "    de_result.groupby(\"gene_symbol\", as_index=False)\n",
    "    .mean()\n",
    "    .sort_values(by=\"proba_de\", ascending=False)\n",
    ")"
   ]
  },
  {
   "cell_type": "code",
   "execution_count": 12,
   "id": "1b894022-765a-4d0b-9ed2-ea708dd14d4c",
   "metadata": {},
   "outputs": [],
   "source": [
    "top_genes = de_result_mean[de_result_mean[\"proba_de\"] > 0.95][\"gene_symbol\"].tolist()\n",
    "\n",
    "enr = gp.enrichr(\n",
    "    gene_list=top_genes,\n",
    "    gene_sets=\"KEGG_2019_Mouse\",\n",
    "    organism=\"mouse\",\n",
    "    cutoff=0.05,\n",
    ")\n",
    "enr_results = enr.results\n",
    "enr_results = enr_results[enr_results[\"Adjusted P-value\"] < 0.05]"
   ]
  },
  {
   "cell_type": "code",
   "execution_count": 13,
   "id": "dde84eb8-7214-4c7c-8535-ab9ba464d7a3",
   "metadata": {},
   "outputs": [
    {
     "data": {
      "text/html": [
       "<div>\n",
       "<style scoped>\n",
       "    .dataframe tbody tr th:only-of-type {\n",
       "        vertical-align: middle;\n",
       "    }\n",
       "\n",
       "    .dataframe tbody tr th {\n",
       "        vertical-align: top;\n",
       "    }\n",
       "\n",
       "    .dataframe thead th {\n",
       "        text-align: right;\n",
       "    }\n",
       "</style>\n",
       "<table border=\"1\" class=\"dataframe\">\n",
       "  <thead>\n",
       "    <tr style=\"text-align: right;\">\n",
       "      <th></th>\n",
       "      <th>Gene_set</th>\n",
       "      <th>Term</th>\n",
       "      <th>Overlap</th>\n",
       "      <th>P-value</th>\n",
       "      <th>Adjusted P-value</th>\n",
       "      <th>Old P-value</th>\n",
       "      <th>Old Adjusted P-value</th>\n",
       "      <th>Odds Ratio</th>\n",
       "      <th>Combined Score</th>\n",
       "      <th>Genes</th>\n",
       "    </tr>\n",
       "  </thead>\n",
       "  <tbody>\n",
       "    <tr>\n",
       "      <th>0</th>\n",
       "      <td>KEGG_2019_Mouse</td>\n",
       "      <td>Arachidonic acid metabolism</td>\n",
       "      <td>19/89</td>\n",
       "      <td>0.000021</td>\n",
       "      <td>0.006048</td>\n",
       "      <td>0</td>\n",
       "      <td>0</td>\n",
       "      <td>3.437847</td>\n",
       "      <td>36.956407</td>\n",
       "      <td>CBR2;PLA2G2F;PLA2G2D;GPX3;GPX5;PLA2G4C;PLA2G4A...</td>\n",
       "    </tr>\n",
       "    <tr>\n",
       "      <th>1</th>\n",
       "      <td>KEGG_2019_Mouse</td>\n",
       "      <td>Linoleic acid metabolism</td>\n",
       "      <td>12/50</td>\n",
       "      <td>0.000217</td>\n",
       "      <td>0.030651</td>\n",
       "      <td>0</td>\n",
       "      <td>0</td>\n",
       "      <td>3.987489</td>\n",
       "      <td>33.629846</td>\n",
       "      <td>PLA2G2F;PLA2G2D;CYP2C55;CYP2C66;PLA2G4C;CYP3A1...</td>\n",
       "    </tr>\n",
       "    <tr>\n",
       "      <th>2</th>\n",
       "      <td>KEGG_2019_Mouse</td>\n",
       "      <td>Fat digestion and absorption</td>\n",
       "      <td>10/40</td>\n",
       "      <td>0.000508</td>\n",
       "      <td>0.036050</td>\n",
       "      <td>0</td>\n",
       "      <td>0</td>\n",
       "      <td>4.205093</td>\n",
       "      <td>31.896626</td>\n",
       "      <td>PLA2G2F;FABP1;PNLIPRP2;SCARB1;FABP2;PLA2G2D;CL...</td>\n",
       "    </tr>\n",
       "    <tr>\n",
       "      <th>3</th>\n",
       "      <td>KEGG_2019_Mouse</td>\n",
       "      <td>Maturity onset diabetes of the young</td>\n",
       "      <td>8/27</td>\n",
       "      <td>0.000538</td>\n",
       "      <td>0.036050</td>\n",
       "      <td>0</td>\n",
       "      <td>0</td>\n",
       "      <td>5.307615</td>\n",
       "      <td>39.953797</td>\n",
       "      <td>NEUROD1;PAX4;PAX6;BHLHA15;GCK;FOXA3;NEUROG3;FOXA2</td>\n",
       "    </tr>\n",
       "    <tr>\n",
       "      <th>4</th>\n",
       "      <td>KEGG_2019_Mouse</td>\n",
       "      <td>Pancreatic secretion</td>\n",
       "      <td>18/105</td>\n",
       "      <td>0.000639</td>\n",
       "      <td>0.036050</td>\n",
       "      <td>0</td>\n",
       "      <td>0</td>\n",
       "      <td>2.616291</td>\n",
       "      <td>19.243633</td>\n",
       "      <td>PLA2G2F;PNLIPRP2;CAR2;PLA2G2D;CTRB1;ATP2A3;ATP...</td>\n",
       "    </tr>\n",
       "  </tbody>\n",
       "</table>\n",
       "</div>"
      ],
      "text/plain": [
       "          Gene_set                                  Term Overlap   P-value  \\\n",
       "0  KEGG_2019_Mouse           Arachidonic acid metabolism   19/89  0.000021   \n",
       "1  KEGG_2019_Mouse              Linoleic acid metabolism   12/50  0.000217   \n",
       "2  KEGG_2019_Mouse          Fat digestion and absorption   10/40  0.000508   \n",
       "3  KEGG_2019_Mouse  Maturity onset diabetes of the young    8/27  0.000538   \n",
       "4  KEGG_2019_Mouse                  Pancreatic secretion  18/105  0.000639   \n",
       "\n",
       "   Adjusted P-value  Old P-value  Old Adjusted P-value  Odds Ratio  \\\n",
       "0          0.006048            0                     0    3.437847   \n",
       "1          0.030651            0                     0    3.987489   \n",
       "2          0.036050            0                     0    4.205093   \n",
       "3          0.036050            0                     0    5.307615   \n",
       "4          0.036050            0                     0    2.616291   \n",
       "\n",
       "   Combined Score                                              Genes  \n",
       "0       36.956407  CBR2;PLA2G2F;PLA2G2D;GPX3;GPX5;PLA2G4C;PLA2G4A...  \n",
       "1       33.629846  PLA2G2F;PLA2G2D;CYP2C55;CYP2C66;PLA2G4C;CYP3A1...  \n",
       "2       31.896626  PLA2G2F;FABP1;PNLIPRP2;SCARB1;FABP2;PLA2G2D;CL...  \n",
       "3       39.953797  NEUROD1;PAX4;PAX6;BHLHA15;GCK;FOXA3;NEUROG3;FOXA2  \n",
       "4       19.243633  PLA2G2F;PNLIPRP2;CAR2;PLA2G2D;CTRB1;ATP2A3;ATP...  "
      ]
     },
     "execution_count": 13,
     "metadata": {},
     "output_type": "execute_result"
    }
   ],
   "source": [
    "enr_results"
   ]
  },
  {
   "cell_type": "code",
   "execution_count": null,
   "id": "cf1b3fb4-0b86-4e19-b78a-0384cacf43ff",
   "metadata": {},
   "outputs": [],
   "source": []
  }
 ],
 "metadata": {
  "kernelspec": {
   "display_name": "Python 3 (ipykernel)",
   "language": "python",
   "name": "python3"
  },
  "language_info": {
   "codemirror_mode": {
    "name": "ipython",
    "version": 3
   },
   "file_extension": ".py",
   "mimetype": "text/x-python",
   "name": "python",
   "nbconvert_exporter": "python",
   "pygments_lexer": "ipython3",
   "version": "3.9.7"
  }
 },
 "nbformat": 4,
 "nbformat_minor": 5
}
