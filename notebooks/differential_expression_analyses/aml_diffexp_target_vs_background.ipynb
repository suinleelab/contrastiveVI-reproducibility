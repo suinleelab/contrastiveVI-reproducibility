{
 "cells": [
  {
   "cell_type": "code",
   "execution_count": 1,
   "id": "95409e76-7d17-4e55-818a-31b03a418c4f",
   "metadata": {},
   "outputs": [
    {
     "name": "stderr",
     "output_type": "stream",
     "text": [
      "Global seed set to 0\n",
      "During startup - Warning messages:\n",
      "1: package ‘methods’ was built under R version 3.6.1 \n",
      "2: package ‘datasets’ was built under R version 3.6.1 \n",
      "3: package ‘utils’ was built under R version 3.6.1 \n",
      "4: package ‘grDevices’ was built under R version 3.6.1 \n",
      "5: package ‘graphics’ was built under R version 3.6.1 \n",
      "6: package ‘stats’ was built under R version 3.6.1 \n"
     ]
    }
   ],
   "source": [
    "import os\n",
    "import torch\n",
    "\n",
    "import scanpy as sc\n",
    "import numpy as np\n",
    "import pandas as pd\n",
    "import gseapy as gp\n",
    "\n",
    "from tqdm import tqdm\n",
    "from sklearn.cluster import KMeans\n",
    "from contrastive_vi.model.contrastive_vi import ContrastiveVIModel\n",
    "from scripts import constants\n",
    "from scvi._settings import settings"
   ]
  },
  {
   "cell_type": "code",
   "execution_count": 2,
   "id": "69e38f98-0a04-43cf-a485-6c33386e2ac8",
   "metadata": {},
   "outputs": [
    {
     "name": "stderr",
     "output_type": "stream",
     "text": [
      "Global seed set to 0\n"
     ]
    }
   ],
   "source": [
    "settings.seed = 0\n",
    "device = \"cuda:2\"\n",
    "dataset = \"zheng_2017\""
   ]
  },
  {
   "cell_type": "code",
   "execution_count": 3,
   "id": "c2aec438-7728-45d0-85e0-465864934436",
   "metadata": {},
   "outputs": [],
   "source": [
    "pathway_enr_fdr = 0.1"
   ]
  },
  {
   "cell_type": "code",
   "execution_count": 4,
   "id": "1298aa8a-1bb7-4888-89f5-abe6a15a461b",
   "metadata": {},
   "outputs": [],
   "source": [
    "split_key = constants.DATASET_SPLIT_LOOKUP[dataset][\"split_key\"]\n",
    "background_value = constants.DATASET_SPLIT_LOOKUP[dataset][\"background_value\"]\n",
    "label_key = constants.DATASET_SPLIT_LOOKUP[dataset][\"label_key\"]\n",
    "seeds = constants.DEFAULT_SEEDS\n",
    "latent_size = 10"
   ]
  },
  {
   "cell_type": "code",
   "execution_count": 5,
   "id": "56bbb7e9-13e5-4399-8032-330c0467e3c2",
   "metadata": {},
   "outputs": [
    {
     "name": "stdout",
     "output_type": "stream",
     "text": [
      "\u001b[34mINFO    \u001b[0m No batch_key inputted, assuming all cells are same batch                            \n",
      "\u001b[34mINFO    \u001b[0m No label_key inputted, assuming all cells have same label                           \n",
      "\u001b[34mINFO    \u001b[0m Using data from adata.layers\u001b[1m[\u001b[0m\u001b[32m\"count\"\u001b[0m\u001b[1m]\u001b[0m                                               \n",
      "\u001b[34mINFO    \u001b[0m Successfully registered anndata object containing \u001b[1;36m16856\u001b[0m cells, \u001b[1;36m2000\u001b[0m vars, \u001b[1;36m1\u001b[0m batches,\n",
      "         \u001b[1;36m1\u001b[0m labels, and \u001b[1;36m0\u001b[0m proteins. Also registered \u001b[1;36m0\u001b[0m extra categorical covariates and \u001b[1;36m0\u001b[0m extra\n",
      "         continuous covariates.                                                              \n",
      "\u001b[34mINFO    \u001b[0m Please do not further modify adata until model is trained.                          \n"
     ]
    }
   ],
   "source": [
    "adata = sc.read_h5ad(\n",
    "    os.path.join(\n",
    "        constants.DEFAULT_DATA_PATH,\n",
    "        f\"{dataset}/preprocessed/adata_top_2000_genes_tc.h5ad\",\n",
    "    )\n",
    ")\n",
    "ContrastiveVIModel.setup_anndata(adata, layer=\"count\")"
   ]
  },
  {
   "cell_type": "code",
   "execution_count": 6,
   "id": "2c819b82-1b72-44f9-ab3b-5fac7d0b0a54",
   "metadata": {},
   "outputs": [],
   "source": [
    "target_indices = np.where(adata.obs[split_key] != background_value)[0]\n",
    "background_indices = np.where(adata.obs[split_key] == background_value)[0]"
   ]
  },
  {
   "cell_type": "code",
   "execution_count": 7,
   "id": "e5db5963-993b-426a-98fa-6d1fd1f1d09a",
   "metadata": {},
   "outputs": [],
   "source": [
    "genes = pd.read_table(\n",
    "    os.path.join(\n",
    "        constants.DEFAULT_DATA_PATH,\n",
    "        dataset,\n",
    "        \"aml027_post_transplant_filtered_gene_bc_matrices\",\n",
    "        \"filtered_matrices_mex/hg19\",\n",
    "        \"genes.tsv\",\n",
    "    ),\n",
    "    header=None,\n",
    ")\n",
    "genes = genes.rename(columns={0: \"ensembl_id\", 1: \"gene_symbol\"})\n",
    "genes = genes[genes[\"ensembl_id\"].isin(adata.var.index)]"
   ]
  },
  {
   "cell_type": "code",
   "execution_count": 8,
   "id": "6179e3e0-0aa3-438a-a001-8c0ef27c5636",
   "metadata": {},
   "outputs": [
    {
     "name": "stderr",
     "output_type": "stream",
     "text": [
      "100%|█████████████████████████████████████████████████████████████████████████████████████████████| 5/5 [01:59<00:00, 23.93s/it]\n"
     ]
    }
   ],
   "source": [
    "model_list = []\n",
    "for seed in tqdm(seeds):\n",
    "    result_dir = os.path.join(\n",
    "        constants.DEFAULT_RESULTS_PATH,\n",
    "        f\"{dataset}/contrastiveVI/latent_{latent_size}\",\n",
    "        f\"{seed}\",\n",
    "    )\n",
    "    model_list.append(\n",
    "        torch.load(\n",
    "            os.path.join(result_dir, \"model.ckpt\"),\n",
    "            map_location=device,\n",
    "        ),\n",
    "    )"
   ]
  },
  {
   "cell_type": "code",
   "execution_count": 9,
   "id": "bb545723-bd81-4d42-97c6-18ae60623a8f",
   "metadata": {},
   "outputs": [
    {
     "name": "stdout",
     "output_type": "stream",
     "text": [
      "DE...: 100%|██████████████████████████████████████████████████████████████████████████████████████| 1/1 [00:37<00:00, 37.91s/it]\n"
     ]
    },
    {
     "name": "stderr",
     "output_type": "stream",
     "text": [
      "2022-01-27 14:23:38,031 Warning: No enrich terms using library KEGG_2016 when cutoff = 0.1\n"
     ]
    },
    {
     "name": "stdout",
     "output_type": "stream",
     "text": [
      "DE...: 100%|██████████████████████████████████████████████████████████████████████████████████████| 1/1 [00:38<00:00, 38.91s/it]\n"
     ]
    },
    {
     "name": "stderr",
     "output_type": "stream",
     "text": [
      "/tmp/ipykernel_5467/3887172440.py:40: SettingWithCopyWarning: \n",
      "A value is trying to be set on a copy of a slice from a DataFrame.\n",
      "Try using .loc[row_indexer,col_indexer] = value instead\n",
      "\n",
      "See the caveats in the documentation: https://pandas.pydata.org/pandas-docs/stable/user_guide/indexing.html#returning-a-view-versus-a-copy\n",
      "  enr_result[\"seed\"] = seed\n"
     ]
    },
    {
     "name": "stdout",
     "output_type": "stream",
     "text": [
      "DE...: 100%|██████████████████████████████████████████████████████████████████████████████████████| 1/1 [00:38<00:00, 38.15s/it]\n"
     ]
    },
    {
     "name": "stderr",
     "output_type": "stream",
     "text": [
      "2022-01-27 14:25:05,544 Warning: No enrich terms using library KEGG_2016 when cutoff = 0.1\n"
     ]
    },
    {
     "name": "stdout",
     "output_type": "stream",
     "text": [
      "DE...: 100%|██████████████████████████████████████████████████████████████████████████████████████| 1/1 [00:38<00:00, 38.47s/it]\n"
     ]
    },
    {
     "name": "stderr",
     "output_type": "stream",
     "text": [
      "/tmp/ipykernel_5467/3887172440.py:40: SettingWithCopyWarning: \n",
      "A value is trying to be set on a copy of a slice from a DataFrame.\n",
      "Try using .loc[row_indexer,col_indexer] = value instead\n",
      "\n",
      "See the caveats in the documentation: https://pandas.pydata.org/pandas-docs/stable/user_guide/indexing.html#returning-a-view-versus-a-copy\n",
      "  enr_result[\"seed\"] = seed\n"
     ]
    },
    {
     "name": "stdout",
     "output_type": "stream",
     "text": [
      "DE...: 100%|██████████████████████████████████████████████████████████████████████████████████████| 1/1 [00:38<00:00, 38.23s/it]\n"
     ]
    },
    {
     "name": "stderr",
     "output_type": "stream",
     "text": [
      "2022-01-27 14:26:27,311 Warning: No enrich terms using library KEGG_2016 when cutoff = 0.1\n"
     ]
    }
   ],
   "source": [
    "de_result_list = []\n",
    "enr_result_list = []\n",
    "\n",
    "for seed_index, seed in enumerate(seeds):\n",
    "    model = model_list[seed_index]\n",
    "    \n",
    "    de_result = model.differential_expression(\n",
    "        adata=adata,\n",
    "        groupby=None,\n",
    "        group1=None,\n",
    "        group2=None,\n",
    "        idx1=background_indices,\n",
    "        idx2=target_indices,\n",
    "        mode=\"change\",\n",
    "        delta=0.25,\n",
    "        batch_size=128,\n",
    "        all_stats=True,\n",
    "        batch_correction=False,\n",
    "        batchid1=None,\n",
    "        batchid2=None,\n",
    "        fdr_target=0.05,\n",
    "        silent=False,\n",
    "    )\n",
    "\n",
    "    de_result.reset_index()\n",
    "    de_result[\"ensembl_id\"] = de_result.index\n",
    "    de_result = de_result.merge(genes, on=\"ensembl_id\")\n",
    "    de_result[\"seed\"] = seed\n",
    "    de_result_list.append(de_result)\n",
    "\n",
    "    top_genes = de_result[de_result[\"proba_de\"] > 0.95][\"gene_symbol\"].tolist()\n",
    "    enr = gp.enrichr(\n",
    "        gene_list=top_genes,\n",
    "        gene_sets=\"KEGG_2016\",\n",
    "        organism=\"human\",\n",
    "        cutoff=pathway_enr_fdr,\n",
    "    )\n",
    "    enr_result = enr.results\n",
    "    enr_result = enr_result[enr_result[\"Adjusted P-value\"] < pathway_enr_fdr]\n",
    "    enr_result[\"seed\"] = seed\n",
    "    enr_result_list.append(enr_result)"
   ]
  },
  {
   "cell_type": "code",
   "execution_count": 10,
   "id": "4634b820-5502-45c7-bf25-6bacf916a414",
   "metadata": {},
   "outputs": [],
   "source": [
    "enr_df = pd.concat(enr_result_list)\n",
    "cols = [\"Gene_set\", \"Term\", \"Adjusted P-value\", \"Overlap\", \"Genes\"]\n",
    "cols += [\"seed\"]\n",
    "enr_df = enr_df[cols]"
   ]
  },
  {
   "cell_type": "code",
   "execution_count": 11,
   "id": "e243d07a-dfd5-408b-95c5-682cd862262a",
   "metadata": {},
   "outputs": [
    {
     "data": {
      "text/html": [
       "<div>\n",
       "<style scoped>\n",
       "    .dataframe tbody tr th:only-of-type {\n",
       "        vertical-align: middle;\n",
       "    }\n",
       "\n",
       "    .dataframe tbody tr th {\n",
       "        vertical-align: top;\n",
       "    }\n",
       "\n",
       "    .dataframe thead th {\n",
       "        text-align: right;\n",
       "    }\n",
       "</style>\n",
       "<table border=\"1\" class=\"dataframe\">\n",
       "  <thead>\n",
       "    <tr style=\"text-align: right;\">\n",
       "      <th></th>\n",
       "      <th>Gene_set</th>\n",
       "      <th>Term</th>\n",
       "      <th>Adjusted P-value</th>\n",
       "      <th>Overlap</th>\n",
       "      <th>Genes</th>\n",
       "      <th>seed</th>\n",
       "    </tr>\n",
       "  </thead>\n",
       "  <tbody>\n",
       "    <tr>\n",
       "      <th>0</th>\n",
       "      <td>KEGG_2016</td>\n",
       "      <td>Transcriptional misregulation in cancer Homo s...</td>\n",
       "      <td>0.077049</td>\n",
       "      <td>9/180</td>\n",
       "      <td>SMAD1;HOXA9;CDKN1A;CCND2;HPGD;BCL2A1;DDIT3;HIS...</td>\n",
       "      <td>42</td>\n",
       "    </tr>\n",
       "    <tr>\n",
       "      <th>0</th>\n",
       "      <td>KEGG_2016</td>\n",
       "      <td>Transcriptional misregulation in cancer Homo s...</td>\n",
       "      <td>0.090897</td>\n",
       "      <td>4/180</td>\n",
       "      <td>CDKN1A;HPGD;HIST1H3H;HIST1H3C</td>\n",
       "      <td>46</td>\n",
       "    </tr>\n",
       "  </tbody>\n",
       "</table>\n",
       "</div>"
      ],
      "text/plain": [
       "    Gene_set                                               Term  \\\n",
       "0  KEGG_2016  Transcriptional misregulation in cancer Homo s...   \n",
       "0  KEGG_2016  Transcriptional misregulation in cancer Homo s...   \n",
       "\n",
       "   Adjusted P-value Overlap  \\\n",
       "0          0.077049   9/180   \n",
       "0          0.090897   4/180   \n",
       "\n",
       "                                               Genes  seed  \n",
       "0  SMAD1;HOXA9;CDKN1A;CCND2;HPGD;BCL2A1;DDIT3;HIS...    42  \n",
       "0                      CDKN1A;HPGD;HIST1H3H;HIST1H3C    46  "
      ]
     },
     "execution_count": 11,
     "metadata": {},
     "output_type": "execute_result"
    }
   ],
   "source": [
    "enr_df"
   ]
  },
  {
   "cell_type": "code",
   "execution_count": null,
   "id": "49dea3af-8cad-464c-9f3b-9a3ff8f80423",
   "metadata": {},
   "outputs": [],
   "source": []
  }
 ],
 "metadata": {
  "kernelspec": {
   "display_name": "Python 3 (ipykernel)",
   "language": "python",
   "name": "python3"
  },
  "language_info": {
   "codemirror_mode": {
    "name": "ipython",
    "version": 3
   },
   "file_extension": ".py",
   "mimetype": "text/x-python",
   "name": "python",
   "nbconvert_exporter": "python",
   "pygments_lexer": "ipython3",
   "version": "3.9.7"
  }
 },
 "nbformat": 4,
 "nbformat_minor": 5
}
