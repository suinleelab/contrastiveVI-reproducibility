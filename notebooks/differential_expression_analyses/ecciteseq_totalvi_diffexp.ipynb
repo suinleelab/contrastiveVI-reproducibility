{
 "cells": [
  {
   "cell_type": "code",
   "execution_count": 1,
   "id": "1a30ee90-9e35-4987-9254-3b75e774d6e1",
   "metadata": {},
   "outputs": [
    {
     "name": "stderr",
     "output_type": "stream",
     "text": [
      "Global seed set to 0\n"
     ]
    }
   ],
   "source": [
    "import os\n",
    "import torch\n",
    "\n",
    "import scanpy as sc\n",
    "import numpy as np\n",
    "import pandas as pd\n",
    "import gseapy as gp\n",
    "\n",
    "from tqdm import tqdm\n",
    "from sklearn.cluster import KMeans\n",
    "from scvi.model import TOTALVI\n",
    "from scripts import constants\n",
    "from scvi._settings import settings"
   ]
  },
  {
   "cell_type": "code",
   "execution_count": 2,
   "id": "69e38f98-0a04-43cf-a485-6c33386e2ac8",
   "metadata": {},
   "outputs": [
    {
     "name": "stderr",
     "output_type": "stream",
     "text": [
      "Global seed set to 0\n"
     ]
    }
   ],
   "source": [
    "settings.seed = 0\n",
    "device = \"cuda:7\"\n",
    "dataset = \"papalexi_2021\""
   ]
  },
  {
   "cell_type": "code",
   "execution_count": 3,
   "id": "1298aa8a-1bb7-4888-89f5-abe6a15a461b",
   "metadata": {},
   "outputs": [],
   "source": [
    "split_key = constants.DATASET_SPLIT_LOOKUP[dataset][\"split_key\"]\n",
    "background_value = constants.DATASET_SPLIT_LOOKUP[dataset][\"background_value\"]\n",
    "seeds = constants.DEFAULT_SEEDS\n",
    "latent_size = 10"
   ]
  },
  {
   "cell_type": "code",
   "execution_count": 5,
   "id": "56bbb7e9-13e5-4399-8032-330c0467e3c2",
   "metadata": {},
   "outputs": [
    {
     "name": "stdout",
     "output_type": "stream",
     "text": [
      "\u001b[34mINFO    \u001b[0m No batch_key inputted, assuming all cells are same batch                            \n",
      "\u001b[34mINFO    \u001b[0m No label_key inputted, assuming all cells have same label                           \n",
      "\u001b[34mINFO    \u001b[0m Using data from adata.layers\u001b[1m[\u001b[0m\u001b[32m\"count\"\u001b[0m\u001b[1m]\u001b[0m                                               \n",
      "\u001b[34mINFO    \u001b[0m Using protein expression from adata.obsm\u001b[1m[\u001b[0m\u001b[32m'protein_expression'\u001b[0m\u001b[1m]\u001b[0m                      \n",
      "\u001b[34mINFO    \u001b[0m Using protein names from columns of adata.obsm\u001b[1m[\u001b[0m\u001b[32m'protein_expression'\u001b[0m\u001b[1m]\u001b[0m                \n",
      "\u001b[34mINFO    \u001b[0m Successfully registered anndata object containing \u001b[1;36m20729\u001b[0m cells, \u001b[1;36m2000\u001b[0m vars, \u001b[1;36m1\u001b[0m batches,\n",
      "         \u001b[1;36m1\u001b[0m labels, and \u001b[1;36m4\u001b[0m proteins. Also registered \u001b[1;36m0\u001b[0m extra categorical covariates and \u001b[1;36m0\u001b[0m extra\n",
      "         continuous covariates.                                                              \n",
      "\u001b[34mINFO    \u001b[0m Please do not further modify adata until model is trained.                          \n"
     ]
    }
   ],
   "source": [
    "adata = sc.read_h5ad(\n",
    "    os.path.join(\n",
    "        constants.DEFAULT_DATA_PATH,\n",
    "        f\"{dataset}/preprocessed/adata_top_2000_genes_tc.h5ad\",\n",
    "    )\n",
    ")\n",
    "TOTALVI.setup_anndata(\n",
    "    adata,\n",
    "    layer=\"count\",\n",
    "    protein_expression_obsm_key=\"protein_expression\",\n",
    ")"
   ]
  },
  {
   "cell_type": "code",
   "execution_count": 6,
   "id": "2c819b82-1b72-44f9-ab3b-5fac7d0b0a54",
   "metadata": {},
   "outputs": [],
   "source": [
    "target_indices = np.where(adata.obs[split_key] != background_value)[0]\n",
    "target_adata = adata[target_indices]"
   ]
  },
  {
   "cell_type": "code",
   "execution_count": 7,
   "id": "806fea55-a665-47f5-a3cf-3faa93fd2e9e",
   "metadata": {},
   "outputs": [],
   "source": [
    "genes = adata.var.index.tolist()"
   ]
  },
  {
   "cell_type": "code",
   "execution_count": 8,
   "id": "6179e3e0-0aa3-438a-a001-8c0ef27c5636",
   "metadata": {},
   "outputs": [
    {
     "name": "stderr",
     "output_type": "stream",
     "text": [
      "100%|█████████████████████████████████████████████████████████████████████████████████████████████| 5/5 [02:01<00:00, 24.20s/it]\n"
     ]
    }
   ],
   "source": [
    "model_list = []\n",
    "latent_rep_list = []\n",
    "for seed in tqdm(seeds):\n",
    "    result_dir = os.path.join(\n",
    "        constants.DEFAULT_RESULTS_PATH,\n",
    "        f\"{dataset}/totalVI/latent_{latent_size}\",\n",
    "        f\"{seed}\",\n",
    "    )\n",
    "    model_list.append(\n",
    "        torch.load(\n",
    "            os.path.join(result_dir, \"model.ckpt\"),\n",
    "            map_location=device,\n",
    "        ),\n",
    "    )\n",
    "    latent_rep_list.append(\n",
    "        np.load(os.path.join(result_dir, \"latent_representations.npy\")),\n",
    "    )"
   ]
  },
  {
   "cell_type": "code",
   "execution_count": 9,
   "id": "bb545723-bd81-4d42-97c6-18ae60623a8f",
   "metadata": {},
   "outputs": [
    {
     "name": "stdout",
     "output_type": "stream",
     "text": [
      "DE...: 100%|██████████████████████████████████████████████████████████████████████████████████████| 1/1 [00:05<00:00,  5.53s/it]\n",
      "DE...: 100%|██████████████████████████████████████████████████████████████████████████████████████| 1/1 [00:06<00:00,  6.28s/it]\n",
      "DE...: 100%|██████████████████████████████████████████████████████████████████████████████████████| 1/1 [00:07<00:00,  7.69s/it]\n",
      "DE...: 100%|██████████████████████████████████████████████████████████████████████████████████████| 1/1 [00:07<00:00,  7.78s/it]\n",
      "DE...: 100%|██████████████████████████████████████████████████████████████████████████████████████| 1/1 [00:06<00:00,  6.14s/it]\n"
     ]
    }
   ],
   "source": [
    "de_result_list = []\n",
    "for seed_index, seed in enumerate(seeds):\n",
    "    model = model_list[seed_index]\n",
    "    latent_rep = latent_rep_list[seed_index]\n",
    "    latent_clusters = KMeans(n_clusters=2, random_state=123).fit(latent_rep).labels_\n",
    "    cluster_label = f\"cluster_{seed}\"\n",
    "    \n",
    "    tmp_target_adata = target_adata.copy()\n",
    "    tmp_target_adata.obs[cluster_label] = latent_clusters.astype(str)\n",
    "    \n",
    "    de_result = model.differential_expression(\n",
    "        adata=tmp_target_adata,\n",
    "        groupby=cluster_label,\n",
    "        group1=\"0\",\n",
    "        group2=\"1\",\n",
    "        idx1=None,\n",
    "        idx2=None,\n",
    "        mode=\"change\",\n",
    "        delta=0.25,\n",
    "        batch_size=128,\n",
    "        all_stats=True,\n",
    "        batch_correction=False,\n",
    "        batchid1=None,\n",
    "        batchid2=None,\n",
    "        fdr_target=0.05,\n",
    "        silent=False,\n",
    "    )\n",
    "    de_result[\"gene_symbol\"] = de_result.index\n",
    "    de_result[\"seed\"] = seed\n",
    "    de_result_list.append(de_result)"
   ]
  },
  {
   "cell_type": "code",
   "execution_count": 10,
   "id": "d4e37fcd-b309-4803-93d3-0b9799ec3ccd",
   "metadata": {},
   "outputs": [],
   "source": [
    "de_result_mean = (\n",
    "    de_result.groupby(\"gene_symbol\", as_index=False)\n",
    "    .mean()\n",
    "    .sort_values(by=\"proba_de\", ascending=False)\n",
    ")"
   ]
  },
  {
   "cell_type": "code",
   "execution_count": 11,
   "id": "36bfe2ef-a6b5-4389-89c4-7a25317c9666",
   "metadata": {},
   "outputs": [],
   "source": [
    "top_genes = de_result_mean[de_result_mean[\"proba_de\"] > 0.95][\"gene_symbol\"].tolist()\n",
    "\n",
    "enr = gp.enrichr(\n",
    "    gene_list=top_genes,\n",
    "    gene_sets=\"KEGG_2016\",\n",
    "    organism=\"human\",\n",
    "    cutoff=0.05,\n",
    ")\n",
    "\n",
    "enr_results = enr.results\n",
    "enr_results = enr_results[enr_results[\"Adjusted P-value\"] < 0.05]"
   ]
  },
  {
   "cell_type": "code",
   "execution_count": 12,
   "id": "b93eea44-42ce-4b52-b77f-9884648c172b",
   "metadata": {},
   "outputs": [
    {
     "data": {
      "text/html": [
       "<div>\n",
       "<style scoped>\n",
       "    .dataframe tbody tr th:only-of-type {\n",
       "        vertical-align: middle;\n",
       "    }\n",
       "\n",
       "    .dataframe tbody tr th {\n",
       "        vertical-align: top;\n",
       "    }\n",
       "\n",
       "    .dataframe thead th {\n",
       "        text-align: right;\n",
       "    }\n",
       "</style>\n",
       "<table border=\"1\" class=\"dataframe\">\n",
       "  <thead>\n",
       "    <tr style=\"text-align: right;\">\n",
       "      <th></th>\n",
       "      <th>Gene_set</th>\n",
       "      <th>Term</th>\n",
       "      <th>Adjusted P-value</th>\n",
       "      <th>Overlap</th>\n",
       "      <th>Genes</th>\n",
       "    </tr>\n",
       "  </thead>\n",
       "  <tbody>\n",
       "    <tr>\n",
       "      <th>0</th>\n",
       "      <td>KEGG_2016</td>\n",
       "      <td>Cytokine-cytokine receptor interaction Homo sa...</td>\n",
       "      <td>0.000261</td>\n",
       "      <td>12/265</td>\n",
       "      <td>CXCL11;CXCL9;IFNL1;IL18RAP;CCL8;IFNB1;CCL4L2;K...</td>\n",
       "    </tr>\n",
       "    <tr>\n",
       "      <th>1</th>\n",
       "      <td>KEGG_2016</td>\n",
       "      <td>Vascular smooth muscle contraction Homo sapien...</td>\n",
       "      <td>0.000449</td>\n",
       "      <td>8/120</td>\n",
       "      <td>PPP1R14A;EDNRA;RAMP3;CALML5;ADORA2A;CALML3;ADC...</td>\n",
       "    </tr>\n",
       "    <tr>\n",
       "      <th>2</th>\n",
       "      <td>KEGG_2016</td>\n",
       "      <td>Melanogenesis Homo sapiens hsa04916</td>\n",
       "      <td>0.000844</td>\n",
       "      <td>7/100</td>\n",
       "      <td>EDN1;CALML5;CREB3L3;WNT7B;KIT;CALML3;ADCY8</td>\n",
       "    </tr>\n",
       "    <tr>\n",
       "      <th>3</th>\n",
       "      <td>KEGG_2016</td>\n",
       "      <td>Salivary secretion Homo sapiens hsa04970</td>\n",
       "      <td>0.003178</td>\n",
       "      <td>6/89</td>\n",
       "      <td>HTN3;CALML5;CALML3;ATP1B2;ADCY8;HTN1</td>\n",
       "    </tr>\n",
       "    <tr>\n",
       "      <th>4</th>\n",
       "      <td>KEGG_2016</td>\n",
       "      <td>Inflammatory mediator regulation of TRP channe...</td>\n",
       "      <td>0.004338</td>\n",
       "      <td>6/98</td>\n",
       "      <td>ASIC4;CALML5;HTR2C;CALML3;NGF;ADCY8</td>\n",
       "    </tr>\n",
       "    <tr>\n",
       "      <th>5</th>\n",
       "      <td>KEGG_2016</td>\n",
       "      <td>cAMP signaling pathway Homo sapiens hsa04024</td>\n",
       "      <td>0.005501</td>\n",
       "      <td>8/199</td>\n",
       "      <td>HCAR2;EDNRA;CALML5;CREB3L3;ADORA2A;CALML3;ATP1...</td>\n",
       "    </tr>\n",
       "    <tr>\n",
       "      <th>6</th>\n",
       "      <td>KEGG_2016</td>\n",
       "      <td>Nitrogen metabolism Homo sapiens hsa00910</td>\n",
       "      <td>0.006899</td>\n",
       "      <td>3/17</td>\n",
       "      <td>CA4;CA7;CA8</td>\n",
       "    </tr>\n",
       "    <tr>\n",
       "      <th>7</th>\n",
       "      <td>KEGG_2016</td>\n",
       "      <td>Aldosterone synthesis and secretion Homo sapie...</td>\n",
       "      <td>0.009460</td>\n",
       "      <td>5/81</td>\n",
       "      <td>NR4A1;CALML5;CREB3L3;CALML3;ADCY8</td>\n",
       "    </tr>\n",
       "    <tr>\n",
       "      <th>8</th>\n",
       "      <td>KEGG_2016</td>\n",
       "      <td>Rap1 signaling pathway Homo sapiens hsa04015</td>\n",
       "      <td>0.025463</td>\n",
       "      <td>7/211</td>\n",
       "      <td>CALML5;ADORA2A;KIT;CALML3;ADCY8;NGF;MET</td>\n",
       "    </tr>\n",
       "    <tr>\n",
       "      <th>9</th>\n",
       "      <td>KEGG_2016</td>\n",
       "      <td>Toll-like receptor signaling pathway Homo sapi...</td>\n",
       "      <td>0.025463</td>\n",
       "      <td>5/106</td>\n",
       "      <td>CXCL11;CXCL9;IFNB1;CCL4L2;CCL4</td>\n",
       "    </tr>\n",
       "    <tr>\n",
       "      <th>10</th>\n",
       "      <td>KEGG_2016</td>\n",
       "      <td>cGMP-PKG signaling pathway Homo sapiens hsa04022</td>\n",
       "      <td>0.032645</td>\n",
       "      <td>6/167</td>\n",
       "      <td>EDNRA;CALML5;CREB3L3;CALML3;ATP1B2;ADCY8</td>\n",
       "    </tr>\n",
       "    <tr>\n",
       "      <th>11</th>\n",
       "      <td>KEGG_2016</td>\n",
       "      <td>Gastric acid secretion Homo sapiens hsa04971</td>\n",
       "      <td>0.036727</td>\n",
       "      <td>4/74</td>\n",
       "      <td>CALML5;CALML3;ATP1B2;ADCY8</td>\n",
       "    </tr>\n",
       "    <tr>\n",
       "      <th>12</th>\n",
       "      <td>KEGG_2016</td>\n",
       "      <td>Pertussis Homo sapiens hsa05133</td>\n",
       "      <td>0.036727</td>\n",
       "      <td>4/75</td>\n",
       "      <td>C1QB;CALML5;CALML3;C1QC</td>\n",
       "    </tr>\n",
       "    <tr>\n",
       "      <th>13</th>\n",
       "      <td>KEGG_2016</td>\n",
       "      <td>Calcium signaling pathway Homo sapiens hsa04020</td>\n",
       "      <td>0.037166</td>\n",
       "      <td>6/180</td>\n",
       "      <td>EDNRA;CALML5;ADORA2A;HTR2C;CALML3;ADCY8</td>\n",
       "    </tr>\n",
       "    <tr>\n",
       "      <th>14</th>\n",
       "      <td>KEGG_2016</td>\n",
       "      <td>Chemokine signaling pathway Homo sapiens hsa04062</td>\n",
       "      <td>0.041783</td>\n",
       "      <td>6/187</td>\n",
       "      <td>CXCL11;CXCL9;CCL8;CCL4L2;CCL4;ADCY8</td>\n",
       "    </tr>\n",
       "    <tr>\n",
       "      <th>15</th>\n",
       "      <td>KEGG_2016</td>\n",
       "      <td>TGF-beta signaling pathway Homo sapiens hsa04350</td>\n",
       "      <td>0.044789</td>\n",
       "      <td>4/84</td>\n",
       "      <td>INHBA;LEFTY2;DCN;INHBE</td>\n",
       "    </tr>\n",
       "  </tbody>\n",
       "</table>\n",
       "</div>"
      ],
      "text/plain": [
       "     Gene_set                                               Term  \\\n",
       "0   KEGG_2016  Cytokine-cytokine receptor interaction Homo sa...   \n",
       "1   KEGG_2016  Vascular smooth muscle contraction Homo sapien...   \n",
       "2   KEGG_2016                Melanogenesis Homo sapiens hsa04916   \n",
       "3   KEGG_2016           Salivary secretion Homo sapiens hsa04970   \n",
       "4   KEGG_2016  Inflammatory mediator regulation of TRP channe...   \n",
       "5   KEGG_2016       cAMP signaling pathway Homo sapiens hsa04024   \n",
       "6   KEGG_2016          Nitrogen metabolism Homo sapiens hsa00910   \n",
       "7   KEGG_2016  Aldosterone synthesis and secretion Homo sapie...   \n",
       "8   KEGG_2016       Rap1 signaling pathway Homo sapiens hsa04015   \n",
       "9   KEGG_2016  Toll-like receptor signaling pathway Homo sapi...   \n",
       "10  KEGG_2016   cGMP-PKG signaling pathway Homo sapiens hsa04022   \n",
       "11  KEGG_2016       Gastric acid secretion Homo sapiens hsa04971   \n",
       "12  KEGG_2016                    Pertussis Homo sapiens hsa05133   \n",
       "13  KEGG_2016    Calcium signaling pathway Homo sapiens hsa04020   \n",
       "14  KEGG_2016  Chemokine signaling pathway Homo sapiens hsa04062   \n",
       "15  KEGG_2016   TGF-beta signaling pathway Homo sapiens hsa04350   \n",
       "\n",
       "    Adjusted P-value Overlap  \\\n",
       "0           0.000261  12/265   \n",
       "1           0.000449   8/120   \n",
       "2           0.000844   7/100   \n",
       "3           0.003178    6/89   \n",
       "4           0.004338    6/98   \n",
       "5           0.005501   8/199   \n",
       "6           0.006899    3/17   \n",
       "7           0.009460    5/81   \n",
       "8           0.025463   7/211   \n",
       "9           0.025463   5/106   \n",
       "10          0.032645   6/167   \n",
       "11          0.036727    4/74   \n",
       "12          0.036727    4/75   \n",
       "13          0.037166   6/180   \n",
       "14          0.041783   6/187   \n",
       "15          0.044789    4/84   \n",
       "\n",
       "                                                Genes  \n",
       "0   CXCL11;CXCL9;IFNL1;IL18RAP;CCL8;IFNB1;CCL4L2;K...  \n",
       "1   PPP1R14A;EDNRA;RAMP3;CALML5;ADORA2A;CALML3;ADC...  \n",
       "2          EDN1;CALML5;CREB3L3;WNT7B;KIT;CALML3;ADCY8  \n",
       "3                HTN3;CALML5;CALML3;ATP1B2;ADCY8;HTN1  \n",
       "4                 ASIC4;CALML5;HTR2C;CALML3;NGF;ADCY8  \n",
       "5   HCAR2;EDNRA;CALML5;CREB3L3;ADORA2A;CALML3;ATP1...  \n",
       "6                                         CA4;CA7;CA8  \n",
       "7                   NR4A1;CALML5;CREB3L3;CALML3;ADCY8  \n",
       "8             CALML5;ADORA2A;KIT;CALML3;ADCY8;NGF;MET  \n",
       "9                      CXCL11;CXCL9;IFNB1;CCL4L2;CCL4  \n",
       "10           EDNRA;CALML5;CREB3L3;CALML3;ATP1B2;ADCY8  \n",
       "11                         CALML5;CALML3;ATP1B2;ADCY8  \n",
       "12                            C1QB;CALML5;CALML3;C1QC  \n",
       "13            EDNRA;CALML5;ADORA2A;HTR2C;CALML3;ADCY8  \n",
       "14                CXCL11;CXCL9;CCL8;CCL4L2;CCL4;ADCY8  \n",
       "15                             INHBA;LEFTY2;DCN;INHBE  "
      ]
     },
     "execution_count": 12,
     "metadata": {},
     "output_type": "execute_result"
    }
   ],
   "source": [
    "cols = [\"Gene_set\", \"Term\", \"Adjusted P-value\", \"Overlap\", \"Genes\"]\n",
    "enr_results[cols]"
   ]
  },
  {
   "cell_type": "code",
   "execution_count": 13,
   "id": "2d83cea4-43c7-4607-9aee-62956d272d66",
   "metadata": {},
   "outputs": [
    {
     "data": {
      "text/plain": [
       "['Cytokine-cytokine receptor interaction Homo sapiens hsa04060',\n",
       " 'Vascular smooth muscle contraction Homo sapiens hsa04270',\n",
       " 'Melanogenesis Homo sapiens hsa04916',\n",
       " 'Salivary secretion Homo sapiens hsa04970',\n",
       " 'Inflammatory mediator regulation of TRP channels Homo sapiens hsa04750',\n",
       " 'cAMP signaling pathway Homo sapiens hsa04024',\n",
       " 'Nitrogen metabolism Homo sapiens hsa00910',\n",
       " 'Aldosterone synthesis and secretion Homo sapiens hsa04925',\n",
       " 'Rap1 signaling pathway Homo sapiens hsa04015',\n",
       " 'Toll-like receptor signaling pathway Homo sapiens hsa04620',\n",
       " 'cGMP-PKG signaling pathway Homo sapiens hsa04022',\n",
       " 'Gastric acid secretion Homo sapiens hsa04971',\n",
       " 'Pertussis Homo sapiens hsa05133',\n",
       " 'Calcium signaling pathway Homo sapiens hsa04020',\n",
       " 'Chemokine signaling pathway Homo sapiens hsa04062',\n",
       " 'TGF-beta signaling pathway Homo sapiens hsa04350']"
      ]
     },
     "execution_count": 13,
     "metadata": {},
     "output_type": "execute_result"
    }
   ],
   "source": [
    "enr_results[\"Term\"].tolist()"
   ]
  },
  {
   "cell_type": "code",
   "execution_count": 14,
   "id": "2285b296-3039-4f30-a916-580f4f41208d",
   "metadata": {},
   "outputs": [
    {
     "data": {
      "text/plain": [
       "162"
      ]
     },
     "execution_count": 14,
     "metadata": {},
     "output_type": "execute_result"
    }
   ],
   "source": [
    "len(top_genes)"
   ]
  },
  {
   "cell_type": "code",
   "execution_count": null,
   "id": "d50e4454-6e9a-4c1e-9bf8-7c8cf671959a",
   "metadata": {},
   "outputs": [],
   "source": []
  }
 ],
 "metadata": {
  "kernelspec": {
   "display_name": "Python 3 (ipykernel)",
   "language": "python",
   "name": "python3"
  },
  "language_info": {
   "codemirror_mode": {
    "name": "ipython",
    "version": 3
   },
   "file_extension": ".py",
   "mimetype": "text/x-python",
   "name": "python",
   "nbconvert_exporter": "python",
   "pygments_lexer": "ipython3",
   "version": "3.9.7"
  }
 },
 "nbformat": 4,
 "nbformat_minor": 5
}
