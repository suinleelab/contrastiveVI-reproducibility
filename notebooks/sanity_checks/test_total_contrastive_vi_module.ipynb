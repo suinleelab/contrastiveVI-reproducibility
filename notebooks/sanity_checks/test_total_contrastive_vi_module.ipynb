{
 "cells": [
  {
   "cell_type": "code",
   "execution_count": 1,
   "id": "790e97af-e621-451f-b620-9dfcdc503f6a",
   "metadata": {},
   "outputs": [
    {
     "name": "stderr",
     "output_type": "stream",
     "text": [
      "Global seed set to 0\n"
     ]
    }
   ],
   "source": [
    "import argparse\n",
    "import os\n",
    "import pickle\n",
    "import sys\n",
    "\n",
    "import numpy as np\n",
    "import scanpy as sc\n",
    "import torch\n",
    "\n",
    "\n",
    "from scvi._settings import settings\n",
    "from scvi.model import SCVI, TOTALVI\n",
    "from scvi.data import synthetic_iid\n",
    "\n",
    "from contrastive_vi.data.dataloaders.contrastive_dataloader import ContrastiveDataLoader\n",
    "from contrastive_vi.module.total_contrastive_vi import TotalContrastiveVIModule\n",
    "\n",
    "from scripts import constants"
   ]
  },
  {
   "cell_type": "code",
   "execution_count": 2,
   "id": "d8bd0069-a2d4-461e-84ce-6e6eb66845ae",
   "metadata": {},
   "outputs": [
    {
     "name": "stderr",
     "output_type": "stream",
     "text": [
      "/homes/gws/clin25/miniconda3/envs/contrastive-vi-env/lib/python3.9/site-packages/scvi/data/_built_in_data/_synthetic.py:31: FutureWarning: X.dtype being converted to np.float32 from int64. In the next version of anndata (0.9) conversion will not be automatic. Pass dtype explicitly to avoid this warning. Pass `AnnData(X, dtype=X.dtype, ...)` to get the future behavour.\n",
      "  adata = AnnData(data)\n"
     ]
    }
   ],
   "source": [
    "n_genes = 50\n",
    "n_proteins = 4\n",
    "adata = synthetic_iid(\n",
    "    run_setup_anndata=False,\n",
    "    n_batches=2,  # Same number of cells in each batch.\n",
    "    n_genes=n_genes,\n",
    "    n_proteins=n_proteins,\n",
    ")\n",
    "# Make number of cells unequal across batches to test edge cases.\n",
    "adata = adata[:-3, :]\n",
    "adata.layers[\"raw_counts\"] = adata.X.copy()"
   ]
  },
  {
   "cell_type": "code",
   "execution_count": 3,
   "id": "3d182992-4ff1-4c7c-816f-a6b3039c7fed",
   "metadata": {},
   "outputs": [
    {
     "name": "stdout",
     "output_type": "stream",
     "text": [
      "\u001b[34mINFO    \u001b[0m Using batches from adata.obs\u001b[1m[\u001b[0m\u001b[32m\"batch\"\u001b[0m\u001b[1m]\u001b[0m                                               \n",
      "\u001b[34mINFO    \u001b[0m No label_key inputted, assuming all cells have same label                           \n",
      "\u001b[34mINFO    \u001b[0m Using data from adata.layers\u001b[1m[\u001b[0m\u001b[32m\"raw_counts\"\u001b[0m\u001b[1m]\u001b[0m                                          \n",
      "\u001b[34mINFO    \u001b[0m Using protein expression from adata.obsm\u001b[1m[\u001b[0m\u001b[32m'protein_expression'\u001b[0m\u001b[1m]\u001b[0m                      \n",
      "\u001b[34mINFO    \u001b[0m Generating sequential protein names                                                 \n",
      "\u001b[34mINFO    \u001b[0m Successfully registered anndata object containing \u001b[1;36m397\u001b[0m cells, \u001b[1;36m50\u001b[0m vars, \u001b[1;36m2\u001b[0m batches, \u001b[1;36m1\u001b[0m  \n",
      "         labels, and \u001b[1;36m4\u001b[0m proteins. Also registered \u001b[1;36m0\u001b[0m extra categorical covariates and \u001b[1;36m0\u001b[0m extra  \n",
      "         continuous covariates.                                                              \n",
      "\u001b[34mINFO    \u001b[0m Please do not further modify adata until model is trained.                          \n"
     ]
    }
   ],
   "source": [
    "TOTALVI.setup_anndata(\n",
    "    adata,\n",
    "    batch_key=\"batch\",\n",
    "    layer=\"raw_counts\",\n",
    "    protein_expression_obsm_key=\"protein_expression\"\n",
    ")"
   ]
  },
  {
   "cell_type": "code",
   "execution_count": 4,
   "id": "b42f1771-02b8-482e-91c6-532eb4e23fb2",
   "metadata": {},
   "outputs": [],
   "source": [
    "background_indices = (\n",
    "    adata.obs.index[(adata.obs[\"batch\"] == \"batch_0\")]\n",
    "    .astype(int)\n",
    "    .tolist()\n",
    ")\n",
    "target_indices = (\n",
    "    adata.obs.index[(adata.obs[\"batch\"] == \"batch_1\")]\n",
    "    .astype(int)\n",
    "    .tolist()\n",
    ")"
   ]
  },
  {
   "cell_type": "code",
   "execution_count": 5,
   "id": "0758f568-3459-47d6-adbb-af1acce1d79b",
   "metadata": {},
   "outputs": [],
   "source": [
    "dataloader = ContrastiveDataLoader(\n",
    "    adata,\n",
    "    background_indices,\n",
    "    target_indices,\n",
    "    batch_size=32,\n",
    "    shuffle=False,\n",
    ")\n",
    "for batch in dataloader:\n",
    "    pass"
   ]
  },
  {
   "cell_type": "code",
   "execution_count": 6,
   "id": "8ce335d2-135c-40b3-8e3c-229cfa3a7464",
   "metadata": {},
   "outputs": [],
   "source": [
    "total_contrastive_vi_module = TotalContrastiveVIModule(\n",
    "    n_input_genes=n_genes,\n",
    "    n_input_proteins=n_proteins,\n",
    "    n_hidden=12,\n",
    "    n_background_latent=8,\n",
    "    n_salient_latent=4,\n",
    ")"
   ]
  },
  {
   "cell_type": "code",
   "execution_count": 7,
   "id": "4219810b-0000-4e27-b1c2-77b7985acb94",
   "metadata": {},
   "outputs": [],
   "source": [
    "inference_input = total_contrastive_vi_module._get_inference_input(batch)\n",
    "background_inference_input = inference_input[\"background\"]\n",
    "target_inference_input = inference_input[\"target\"]"
   ]
  },
  {
   "cell_type": "code",
   "execution_count": 8,
   "id": "b78cef2b-84c4-4712-99e7-9feaac15542a",
   "metadata": {},
   "outputs": [],
   "source": [
    "generic_inference_output = total_contrastive_vi_module._generic_inference(\n",
    "    **background_inference_input,\n",
    ")"
   ]
  },
  {
   "cell_type": "code",
   "execution_count": 9,
   "id": "73e9bffa-0c70-47e5-8fec-42fcc0daaeed",
   "metadata": {},
   "outputs": [],
   "source": [
    "inference_outputs = total_contrastive_vi_module.inference(**inference_input)"
   ]
  },
  {
   "cell_type": "code",
   "execution_count": 10,
   "id": "c909d70f-3db7-42c4-96e9-9e86e4a63ffe",
   "metadata": {},
   "outputs": [],
   "source": [
    "generative_input = total_contrastive_vi_module._get_generative_input(\n",
    "    batch, inference_outputs\n",
    ")"
   ]
  },
  {
   "cell_type": "code",
   "execution_count": 11,
   "id": "a3618b67-5e36-4a6d-98da-87dcaf53f0ec",
   "metadata": {},
   "outputs": [],
   "source": [
    "generic_generative_input = generative_input[\"background\"]"
   ]
  },
  {
   "cell_type": "code",
   "execution_count": 12,
   "id": "a199c439-0953-4c23-b0e2-426d520d7c1b",
   "metadata": {},
   "outputs": [
    {
     "data": {
      "text/plain": [
       "dict_keys(['batch_index', 'z', 's', 'library_gene'])"
      ]
     },
     "execution_count": 12,
     "metadata": {},
     "output_type": "execute_result"
    }
   ],
   "source": [
    "generic_generative_input.keys()"
   ]
  },
  {
   "cell_type": "code",
   "execution_count": 13,
   "id": "7adeccc6-2b42-4614-82c9-8c48d506a79f",
   "metadata": {},
   "outputs": [],
   "source": [
    "generic_generative_outputs = total_contrastive_vi_module._generic_generative(\n",
    "    **generic_generative_input\n",
    ")"
   ]
  },
  {
   "cell_type": "code",
   "execution_count": 14,
   "id": "3246c3f3-9147-4448-ab58-29d7d7f35665",
   "metadata": {},
   "outputs": [],
   "source": [
    "generative_outputs = total_contrastive_vi_module.generative(**generative_input)"
   ]
  },
  {
   "cell_type": "code",
   "execution_count": 15,
   "id": "928d534b-c5ee-464a-b21e-df578530dd3b",
   "metadata": {},
   "outputs": [
    {
     "data": {
      "text/plain": [
       "dict_keys(['px_', 'py_', 'log_pro_back_mean'])"
      ]
     },
     "execution_count": 15,
     "metadata": {},
     "output_type": "execute_result"
    }
   ],
   "source": [
    "generative_outputs[\"background\"].keys()"
   ]
  },
  {
   "cell_type": "code",
   "execution_count": 16,
   "id": "f5bff95d-e45c-4bf7-8ec3-62756365a3ae",
   "metadata": {},
   "outputs": [],
   "source": [
    "background_tensors = batch[\"background\"]"
   ]
  },
  {
   "cell_type": "code",
   "execution_count": 17,
   "id": "a35a56d7-da85-4ac6-90d0-80c263d00403",
   "metadata": {},
   "outputs": [],
   "source": [
    "loss_recorder = total_contrastive_vi_module.loss(\n",
    "    batch, inference_outputs, generative_outputs\n",
    ")"
   ]
  },
  {
   "cell_type": "code",
   "execution_count": 18,
   "id": "20899787-56a3-43ca-b70f-0694d63d693b",
   "metadata": {},
   "outputs": [
    {
     "data": {
      "text/plain": [
       "tensor(467.8974, grad_fn=<AddBackward0>)"
      ]
     },
     "execution_count": 18,
     "metadata": {},
     "output_type": "execute_result"
    }
   ],
   "source": [
    "loss_recorder.loss"
   ]
  },
  {
   "cell_type": "code",
   "execution_count": 19,
   "id": "9362e625-d145-40d7-9586-1f82519d82c0",
   "metadata": {},
   "outputs": [
    {
     "data": {
      "text/plain": [
       "torch.Size([5])"
      ]
     },
     "execution_count": 19,
     "metadata": {},
     "output_type": "execute_result"
    }
   ],
   "source": [
    "loss_recorder.reconstruction_loss.shape"
   ]
  }
 ],
 "metadata": {
  "kernelspec": {
   "display_name": "Python 3 (ipykernel)",
   "language": "python",
   "name": "python3"
  },
  "language_info": {
   "codemirror_mode": {
    "name": "ipython",
    "version": 3
   },
   "file_extension": ".py",
   "mimetype": "text/x-python",
   "name": "python",
   "nbconvert_exporter": "python",
   "pygments_lexer": "ipython3",
   "version": "3.9.7"
  }
 },
 "nbformat": 4,
 "nbformat_minor": 5
}
