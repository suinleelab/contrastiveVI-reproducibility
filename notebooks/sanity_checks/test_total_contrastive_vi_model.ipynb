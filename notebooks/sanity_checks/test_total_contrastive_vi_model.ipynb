{
 "cells": [
  {
   "cell_type": "code",
   "execution_count": 1,
   "id": "f83b2ed4-a169-4051-9a35-47ecf50c6ad4",
   "metadata": {},
   "outputs": [
    {
     "name": "stderr",
     "output_type": "stream",
     "text": [
      "Global seed set to 0\n",
      "During startup - Warning messages:\n",
      "1: package ‘methods’ was built under R version 3.6.1 \n",
      "2: package ‘datasets’ was built under R version 3.6.1 \n",
      "3: package ‘utils’ was built under R version 3.6.1 \n",
      "4: package ‘grDevices’ was built under R version 3.6.1 \n",
      "5: package ‘graphics’ was built under R version 3.6.1 \n",
      "6: package ‘stats’ was built under R version 3.6.1 \n"
     ]
    }
   ],
   "source": [
    "import argparse\n",
    "import os\n",
    "import pickle\n",
    "import sys\n",
    "\n",
    "import numpy as np\n",
    "import scanpy as sc\n",
    "import torch\n",
    "\n",
    "\n",
    "from scvi._settings import settings\n",
    "from scvi.model import SCVI, TOTALVI\n",
    "from scvi.data import synthetic_iid\n",
    "\n",
    "from contrastive_vi.data.dataloaders.contrastive_dataloader import ContrastiveDataLoader\n",
    "from contrastive_vi.module.total_contrastive_vi import TotalContrastiveVIModule\n",
    "from contrastive_vi.model.total_contrastive_vi import TotalContrastiveVIModel\n",
    "\n",
    "from scripts import constants"
   ]
  },
  {
   "cell_type": "code",
   "execution_count": 2,
   "id": "eee07335-5cf5-4c20-80cf-4bde548a48fd",
   "metadata": {},
   "outputs": [
    {
     "name": "stderr",
     "output_type": "stream",
     "text": [
      "/homes/gws/clin25/miniconda3/envs/contrastive-vi-env/lib/python3.9/site-packages/scvi/data/_built_in_data/_synthetic.py:31: FutureWarning: X.dtype being converted to np.float32 from int64. In the next version of anndata (0.9) conversion will not be automatic. Pass dtype explicitly to avoid this warning. Pass `AnnData(X, dtype=X.dtype, ...)` to get the future behavour.\n",
      "  adata = AnnData(data)\n"
     ]
    }
   ],
   "source": [
    "n_genes = 50\n",
    "n_proteins = 4\n",
    "adata = synthetic_iid(\n",
    "    run_setup_anndata=False,\n",
    "    n_batches=2,  # Same number of cells in each batch.\n",
    "    n_genes=n_genes,\n",
    "    n_proteins=n_proteins,\n",
    ")\n",
    "# Make number of cells unequal across batches to test edge cases.\n",
    "adata = adata[:-3, :]\n",
    "adata.layers[\"count\"] = adata.X.copy()"
   ]
  },
  {
   "cell_type": "code",
   "execution_count": 3,
   "id": "50dd543e-7eb5-4857-8e37-e154f679afcd",
   "metadata": {},
   "outputs": [
    {
     "name": "stdout",
     "output_type": "stream",
     "text": [
      "\u001b[34mINFO    \u001b[0m No batch_key inputted, assuming all cells are same batch                            \n",
      "\u001b[34mINFO    \u001b[0m No label_key inputted, assuming all cells have same label                           \n",
      "\u001b[34mINFO    \u001b[0m Using data from adata.layers\u001b[1m[\u001b[0m\u001b[32m\"count\"\u001b[0m\u001b[1m]\u001b[0m                                               \n",
      "\u001b[34mINFO    \u001b[0m Using protein expression from adata.obsm\u001b[1m[\u001b[0m\u001b[32m'protein_expression'\u001b[0m\u001b[1m]\u001b[0m                      \n",
      "\u001b[34mINFO    \u001b[0m Generating sequential protein names                                                 \n",
      "\u001b[34mINFO    \u001b[0m Successfully registered anndata object containing \u001b[1;36m397\u001b[0m cells, \u001b[1;36m50\u001b[0m vars, \u001b[1;36m1\u001b[0m batches, \u001b[1;36m1\u001b[0m  \n",
      "         labels, and \u001b[1;36m4\u001b[0m proteins. Also registered \u001b[1;36m0\u001b[0m extra categorical covariates and \u001b[1;36m0\u001b[0m extra  \n",
      "         continuous covariates.                                                              \n",
      "\u001b[34mINFO    \u001b[0m Please do not further modify adata until model is trained.                          \n"
     ]
    }
   ],
   "source": [
    "TOTALVI.setup_anndata(\n",
    "    adata,\n",
    "    protein_expression_obsm_key=constants.PROTEIN_EXPRESSION_KEY,\n",
    "    layer=\"count\",\n",
    ")"
   ]
  },
  {
   "cell_type": "code",
   "execution_count": 4,
   "id": "5f6d6a47-4529-48de-9950-7ecbe2fa3bec",
   "metadata": {},
   "outputs": [],
   "source": [
    "background_indices = (\n",
    "    adata.obs.index[(adata.obs[\"batch\"] == \"batch_0\")]\n",
    "    .astype(int)\n",
    "    .tolist()\n",
    ")\n",
    "target_indices = (\n",
    "    adata.obs.index[(adata.obs[\"batch\"] == \"batch_1\")]\n",
    "    .astype(int)\n",
    "    .tolist()\n",
    ")"
   ]
  },
  {
   "cell_type": "code",
   "execution_count": 5,
   "id": "2008faa4-bb1b-4fc0-8bb9-0663f870400f",
   "metadata": {},
   "outputs": [
    {
     "name": "stdout",
     "output_type": "stream",
     "text": [
      "\u001b[34mINFO    \u001b[0m contrastive_vi: The model has been initialized                                      \n"
     ]
    }
   ],
   "source": [
    "model = TotalContrastiveVIModel(\n",
    "    adata,\n",
    "    n_hidden=16,\n",
    "    n_background_latent=4,\n",
    "    n_salient_latent=2,\n",
    ")"
   ]
  },
  {
   "cell_type": "code",
   "execution_count": 6,
   "id": "a6348d27-d234-4621-9fa2-a64ce51fd1ef",
   "metadata": {},
   "outputs": [
    {
     "name": "stderr",
     "output_type": "stream",
     "text": [
      "GPU available: True, used: False\n",
      "TPU available: False, using: 0 TPU cores\n",
      "/homes/gws/clin25/miniconda3/envs/contrastive-vi-env/lib/python3.9/site-packages/pytorch_lightning/trainer/connectors/accelerator_connector.py:596: UserWarning: GPU available but not used. Set the gpus flag in your trainer `Trainer(gpus=1)` or script `--gpus=1`.\n",
      "  rank_zero_warn(\n"
     ]
    },
    {
     "name": "stdout",
     "output_type": "stream",
     "text": [
      "Epoch 25/25: 100%|███████████████████████████████████████████████████████████| 25/25 [00:47<00:00,  1.91s/it, loss=456, v_num=1]\n"
     ]
    }
   ],
   "source": [
    "model.train(\n",
    "    background_indices=background_indices,\n",
    "    target_indices=target_indices,\n",
    "    max_epochs=25,\n",
    "    check_val_every_n_epoch=1,\n",
    "    train_size=0.8,\n",
    "    early_stopping=True,\n",
    "    use_gpu=False,\n",
    ")"
   ]
  },
  {
   "cell_type": "code",
   "execution_count": 9,
   "id": "1e9a610f-bc60-4701-92f7-147bec6fbc0d",
   "metadata": {},
   "outputs": [],
   "source": [
    "target_adata = adata[target_indices].copy()\n",
    "latent_representations = model.get_latent_representation(\n",
    "    adata=target_adata, representation_kind=\"salient\"\n",
    ")"
   ]
  },
  {
   "cell_type": "code",
   "execution_count": 10,
   "id": "272366ba-a017-4f54-a455-2525ffb32187",
   "metadata": {},
   "outputs": [
    {
     "data": {
      "text/plain": [
       "(197, 2)"
      ]
     },
     "execution_count": 10,
     "metadata": {},
     "output_type": "execute_result"
    }
   ],
   "source": [
    "latent_representations.shape"
   ]
  },
  {
   "cell_type": "code",
   "execution_count": 11,
   "id": "8b8b9877-d0c9-482b-b9e3-8014999d0aa8",
   "metadata": {},
   "outputs": [
    {
     "data": {
      "text/plain": [
       "(197, 4)"
      ]
     },
     "execution_count": 11,
     "metadata": {},
     "output_type": "execute_result"
    }
   ],
   "source": [
    "latent_representations = model.get_latent_representation(\n",
    "    adata=target_adata, representation_kind=\"background\"\n",
    ")\n",
    "latent_representations.shape"
   ]
  },
  {
   "cell_type": "code",
   "execution_count": null,
   "id": "bfec3ff6-99b5-4333-81a8-23f918eabca9",
   "metadata": {},
   "outputs": [],
   "source": []
  }
 ],
 "metadata": {
  "kernelspec": {
   "display_name": "Python 3 (ipykernel)",
   "language": "python",
   "name": "python3"
  },
  "language_info": {
   "codemirror_mode": {
    "name": "ipython",
    "version": 3
   },
   "file_extension": ".py",
   "mimetype": "text/x-python",
   "name": "python",
   "nbconvert_exporter": "python",
   "pygments_lexer": "ipython3",
   "version": "3.9.7"
  }
 },
 "nbformat": 4,
 "nbformat_minor": 5
}
