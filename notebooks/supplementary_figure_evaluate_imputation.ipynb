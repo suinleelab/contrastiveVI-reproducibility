{
 "cells": [
  {
   "cell_type": "code",
   "execution_count": 1,
   "id": "c3e10f59-9adf-421f-acb2-0dcbdd148864",
   "metadata": {},
   "outputs": [
    {
     "name": "stderr",
     "output_type": "stream",
     "text": [
      "Global seed set to 0\n"
     ]
    }
   ],
   "source": [
    "import os\n",
    "import torch\n",
    "\n",
    "import scanpy as sc\n",
    "import numpy as np\n",
    "import pandas as pd\n",
    "import gseapy as gp\n",
    "\n",
    "from tqdm import tqdm\n",
    "from sklearn.cluster import KMeans\n",
    "from contrastive_vi.model.contrastive_vi import ContrastiveVIModel\n",
    "from scripts import constants\n",
    "from scvi._settings import settings\n",
    "import logging"
   ]
  },
  {
   "cell_type": "code",
   "execution_count": 2,
   "id": "2908b97e-4ebe-4938-b73c-b6df6b8bc6b1",
   "metadata": {},
   "outputs": [
    {
     "name": "stderr",
     "output_type": "stream",
     "text": [
      "Global seed set to 0\n"
     ]
    }
   ],
   "source": [
    "settings.seed = 0\n",
    "settings.verbosity = logging.CRITICAL\n",
    "device = \"cuda:1\"\n",
    "dataset = \"mcfarland_2020\""
   ]
  },
  {
   "cell_type": "code",
   "execution_count": 3,
   "id": "d4f98381-333a-40e1-9879-4bea95216a22",
   "metadata": {},
   "outputs": [],
   "source": [
    "seeds = constants.DEFAULT_SEEDS\n",
    "latent_size = 10"
   ]
  },
  {
   "cell_type": "code",
   "execution_count": 4,
   "id": "9de9473f-a5f7-4f9e-b432-b5933427db21",
   "metadata": {
    "tags": []
   },
   "outputs": [
    {
     "name": "stderr",
     "output_type": "stream",
     "text": [
      "/homes/gws/ewein/miniconda3/envs/contrastiveVI/lib/python3.9/site-packages/anndata/_core/anndata.py:1828: UserWarning: Observation names are not unique. To make them unique, call `.obs_names_make_unique`.\n",
      "  utils.warn_names_duplicates(\"obs\")\n",
      "100%|█████████████████████████████████████████████| 2/2 [00:06<00:00,  3.31s/it]\n",
      "100%|█████████████████████████████████████████████| 2/2 [00:18<00:00,  9.10s/it]\n",
      "100%|█████████████████████████████████████████████| 2/2 [00:19<00:00,  9.54s/it]\n",
      "100%|█████████████████████████████████████████████| 2/2 [00:08<00:00,  4.39s/it]\n",
      "100%|█████████████████████████████████████████████| 2/2 [00:09<00:00,  4.82s/it]\n"
     ]
    }
   ],
   "source": [
    "from collections import defaultdict\n",
    "\n",
    "split_key = constants.DATASET_SPLIT_LOOKUP[dataset][\"split_key\"]\n",
    "background_value = constants.DATASET_SPLIT_LOOKUP[dataset][\"background_value\"]\n",
    "label_key = constants.DATASET_SPLIT_LOOKUP[dataset][\"label_key\"]\n",
    "\n",
    "adata = sc.read_h5ad(\n",
    "    os.path.join(\n",
    "        constants.DEFAULT_DATA_PATH,\n",
    "        f\"{dataset}/preprocessed/adata_top_2000_genes_tc.h5ad\",\n",
    "    )\n",
    ")\n",
    "ContrastiveVIModel.setup_anndata(adata, layer=\"count\")\n",
    "\n",
    "target_indices = np.where(adata.obs[split_key] != background_value)[0]\n",
    "target_adata = adata[target_indices]\n",
    "background_indices = np.where(adata.obs[split_key] == background_value)[0]\n",
    "background_adata = adata[background_indices]\n",
    "\n",
    "\n",
    "contrastiveVI_model_list = []\n",
    "scVI_model_list = []\n",
    "for seed in tqdm(seeds[:2]):\n",
    "    result_dir = os.path.join(\n",
    "        constants.DEFAULT_RESULTS_PATH,\n",
    "        f\"{dataset}/contrastiveVI/latent_{latent_size}\",\n",
    "        f\"{seed}\",\n",
    "    )\n",
    "    contrastiveVI_model_list.append(\n",
    "        torch.load(\n",
    "            os.path.join(result_dir, \"model.ckpt\"),\n",
    "            map_location=device,\n",
    "        ),\n",
    "    )\n",
    "\n",
    "    scvi_result_dir = os.path.join(\n",
    "        constants.DEFAULT_RESULTS_PATH,\n",
    "        f\"{dataset}/scVI_with_background/latent_{latent_size}\",\n",
    "        f\"{seed}\",\n",
    "    )\n",
    "\n",
    "    scVI_model_list.append(\n",
    "        torch.load(\n",
    "            os.path.join(scvi_result_dir, \"model.ckpt\"),\n",
    "            map_location=device,\n",
    "        ),\n",
    "    )\n",
    "\n",
    "contrastiveVI_background_imputed_total= [\n",
    "    model.get_normalized_expression(background_adata, n_samples=100)[\"background\"].values for model in tqdm(contrastiveVI_model_list)]\n",
    "contrastiveVI_target_imputed_total = [\n",
    "    model.get_normalized_expression(target_adata, n_samples=100)[\"salient\"].values for model in tqdm(contrastiveVI_model_list)]\n",
    "\n",
    "scVI_background_imputed_total = [\n",
    "    model.get_normalized_expression(background_adata, n_samples=100).values for model in tqdm(scVI_model_list)]\n",
    "scVI_target_imputed_total = [\n",
    "    model.get_normalized_expression(target_adata, n_samples=100).values for model in tqdm(scVI_model_list)]"
   ]
  },
  {
   "cell_type": "code",
   "execution_count": 5,
   "id": "b9137b09-6693-4b78-9f9c-e513cdcbd325",
   "metadata": {},
   "outputs": [
    {
     "name": "stderr",
     "output_type": "stream",
     "text": [
      "100%|█████████████████████████████████████| 2000/2000 [00:01<00:00, 1447.35it/s]\n"
     ]
    }
   ],
   "source": [
    "from sklearn.metrics import mean_absolute_error\n",
    "\n",
    "metric = mean_absolute_error\n",
    "\n",
    "scVI_vs_scVI_background = []\n",
    "contrastiveVI_vs_scVI_background = []\n",
    "scVI_vs_scVI_target = []\n",
    "contrastiveVI_vs_scVI_target = []\n",
    "\n",
    "scVI_background_adata_reference = scVI_background_imputed_total[0]\n",
    "scVI_background_adata_imputed = scVI_background_imputed_total[1]\n",
    "contrastiveVI_background_adata_imputed = contrastiveVI_background_imputed_total[1]\n",
    "\n",
    "scVI_target_adata_reference = scVI_target_imputed_total[0]\n",
    "scVI_target_adata_imputed = scVI_target_imputed_total[1]\n",
    "contrastiveVI_target_adata_imputed = contrastiveVI_target_imputed_total[1]\n",
    "\n",
    "for idx in tqdm(range(adata.shape[1])):\n",
    "    scVI_vs_scVI_background.append(metric(\n",
    "        scVI_background_adata_reference[:, idx], scVI_background_adata_imputed[:, idx]\n",
    "    ))\n",
    "\n",
    "    contrastiveVI_vs_scVI_background.append(metric(\n",
    "        scVI_background_adata_reference[:, idx], contrastiveVI_background_adata_imputed[:, idx]\n",
    "    ))\n",
    "\n",
    "    scVI_vs_scVI_target.append(metric(\n",
    "        scVI_target_adata_reference[:, idx], scVI_target_adata_imputed[:, idx]\n",
    "    ))\n",
    "\n",
    "    contrastiveVI_vs_scVI_target.append(metric(\n",
    "        scVI_target_adata_reference[:, idx], contrastiveVI_target_adata_imputed[:, idx]\n",
    "    ))"
   ]
  },
  {
   "cell_type": "markdown",
   "id": "cadd9f9c-5143-42ca-be79-1aeda32d9321",
   "metadata": {},
   "source": [
    "The formula for $R^2$ is\n",
    "\n",
    "$$ R^2 = 1 - \\frac{\\sum_{i}(y_i - \\hat{y_i})^2}{\\sum_{i}(y_i - \\bar{y}_i)^2}$$\n",
    "\n",
    "In our case, since we want to compute $R^2$ with respect to the line $y = x$, $\\hat{y}_i$ can be replaced with $x_i$. "
   ]
  },
  {
   "cell_type": "code",
   "execution_count": 6,
   "id": "98851382-465c-4b26-8c7d-f1353cd26b3b",
   "metadata": {},
   "outputs": [],
   "source": [
    "def calc_r_squared(x, y):\n",
    "    residuals = np.array(y) - np.array(x)\n",
    "    abs_residuals = np.abs(residuals)\n",
    "\n",
    "    diff_from_mean = np.array(y) - np.mean(y)\n",
    "    abs_diff_from_mean = np.abs(diff_from_mean)\n",
    "\n",
    "    r_squared = 1 - np.sum(abs_residuals**2) / np.sum(abs_diff_from_mean**2)\n",
    "    return r_squared"
   ]
  },
  {
   "cell_type": "code",
   "execution_count": 7,
   "id": "62e33f1a-5273-4770-b7d9-ea3e4b7bc251",
   "metadata": {},
   "outputs": [
    {
     "data": {
      "image/png": "[encoded data removed]",
      "text/plain": [
       "<Figure size 720x360 with 2 Axes>"
      ]
     },
     "metadata": {
      "needs_background": "light"
     },
     "output_type": "display_data"
    }
   ],
   "source": [
    "import matplotlib.pyplot as plt\n",
    "from scipy.stats import spearmanr\n",
    "from matplotlib.ticker import FormatStrFormatter\n",
    "\n",
    "\n",
    "fig, full_axes = plt.subplots(1, 2, figsize=(10, 5))\n",
    "\n",
    "ax = full_axes[0]\n",
    "\n",
    "ax.scatter(\n",
    "    scVI_vs_scVI_background,\n",
    "    contrastiveVI_vs_scVI_background,\n",
    "    alpha=0.25\n",
    ")\n",
    "\n",
    "dataset_name_formatted = dataset.replace('_', ' ').capitalize()\n",
    "\n",
    "ax.set_ylabel(\"contrastiveVI vs. scVI Error\")\n",
    "ax.set_xlabel(\"Inter-scVI Error\")\n",
    "\n",
    "ax.set_title(f\"{dataset_name_formatted} background imputation\")\n",
    "\n",
    "lims = [\n",
    "    np.min([ax.get_xlim(), ax.get_ylim()]),  # min of both axes\n",
    "    np.max([ax.get_xlim(), ax.get_ylim()]),  # max of both axes\n",
    "]\n",
    "ax.set_xlim(lims)\n",
    "ax.set_ylim(lims)\n",
    "\n",
    "r_squared = calc_r_squared(scVI_vs_scVI_background, contrastiveVI_vs_scVI_background)\n",
    "\n",
    "ax.plot(lims, lims, 'k--', alpha=0.75, zorder=0)\n",
    "ax.annotate(\"$R^2$: {:.3f}\".format(r_squared), xy=(0.025, 0.95), xycoords='axes fraction')\n",
    "\n",
    "ax.xaxis.set_major_formatter(FormatStrFormatter('%.3f'))\n",
    "\n",
    "ax = full_axes[1]\n",
    "\n",
    "ax.scatter(\n",
    "    scVI_vs_scVI_target,\n",
    "    contrastiveVI_vs_scVI_target,\n",
    "    alpha=0.25\n",
    ")\n",
    "dataset_name_formatted = dataset.replace('_', ' ').capitalize()\n",
    "\n",
    "ax.set_ylabel(\"contrastiveVI vs. scVI Error\")\n",
    "ax.set_xlabel(\"Inter-scVI Error\")\n",
    "\n",
    "ax.set_title(f\"{dataset_name_formatted} target imputation\")\n",
    "\n",
    "lims = [\n",
    "    np.min([ax.get_xlim(), ax.get_ylim()]),  # min of both axes\n",
    "    np.max([ax.get_xlim(), ax.get_ylim()]),  # max of both axes\n",
    "]\n",
    "ax.set_xlim(lims)\n",
    "ax.set_ylim(lims)\n",
    "\n",
    "r_squared = calc_r_squared(scVI_vs_scVI_target, contrastiveVI_vs_scVI_target)\n",
    "\n",
    "\n",
    "ax.plot(lims, lims, 'k--', alpha=0.75, zorder=0)\n",
    "ax.annotate(\"$R^2$: {:.3f}\".format(r_squared), xy=(0.025, 0.95), xycoords='axes fraction')\n",
    "\n",
    "ax.xaxis.set_major_formatter(FormatStrFormatter('%.3f'))\n",
    "\n",
    "plt.tight_layout()"
   ]
  },
  {
   "cell_type": "code",
   "execution_count": null,
   "id": "e09520b4-77b1-4227-9e2f-42b42764d649",
   "metadata": {},
   "outputs": [],
   "source": []
  }
 ],
 "metadata": {
  "kernelspec": {
   "display_name": "Python 3",
   "language": "python",
   "name": "python3"
  },
  "language_info": {
   "codemirror_mode": {
    "name": "ipython",
    "version": 3
   },
   "file_extension": ".py",
   "mimetype": "text/x-python",
   "name": "python",
   "nbconvert_exporter": "python",
   "pygments_lexer": "ipython3",
   "version": "3.9.12"
  }
 },
 "nbformat": 4,
 "nbformat_minor": 5
}
