{
 "cells": [
  {
   "cell_type": "code",
   "execution_count": 1,
   "id": "95409e76-7d17-4e55-818a-31b03a418c4f",
   "metadata": {},
   "outputs": [
    {
     "name": "stderr",
     "output_type": "stream",
     "text": [
      "Global seed set to 0\n"
     ]
    }
   ],
   "source": [
    "import os\n",
    "import torch\n",
    "\n",
    "import scanpy as sc\n",
    "import numpy as np\n",
    "import pandas as pd\n",
    "import gseapy as gp\n",
    "\n",
    "from tqdm import tqdm\n",
    "from sklearn.cluster import KMeans\n",
    "from contrastive_vi.model.contrastive_vi import ContrastiveVIModel\n",
    "from scripts import constants\n",
    "from scvi._settings import settings"
   ]
  },
  {
   "cell_type": "code",
   "execution_count": 2,
   "id": "69e38f98-0a04-43cf-a485-6c33386e2ac8",
   "metadata": {},
   "outputs": [
    {
     "name": "stderr",
     "output_type": "stream",
     "text": [
      "Global seed set to 0\n"
     ]
    }
   ],
   "source": [
    "settings.seed = 0\n",
    "device = \"cuda:1\"\n",
    "dataset = \"zheng_2017\""
   ]
  },
  {
   "cell_type": "code",
   "execution_count": 3,
   "id": "68a33cdd-766e-4bce-97e8-845997ced3c8",
   "metadata": {},
   "outputs": [],
   "source": [
    "pathway_enr_fdr = 0.05"
   ]
  },
  {
   "cell_type": "code",
   "execution_count": 4,
   "id": "1298aa8a-1bb7-4888-89f5-abe6a15a461b",
   "metadata": {},
   "outputs": [],
   "source": [
    "split_key = constants.DATASET_SPLIT_LOOKUP[dataset][\"split_key\"]\n",
    "background_value = constants.DATASET_SPLIT_LOOKUP[dataset][\"background_value\"]\n",
    "label_key = constants.DATASET_SPLIT_LOOKUP[dataset][\"label_key\"]\n",
    "seeds = constants.DEFAULT_SEEDS\n",
    "latent_size = 10"
   ]
  },
  {
   "cell_type": "code",
   "execution_count": 5,
   "id": "56bbb7e9-13e5-4399-8032-330c0467e3c2",
   "metadata": {},
   "outputs": [
    {
     "name": "stdout",
     "output_type": "stream",
     "text": [
      "\u001b[34mINFO    \u001b[0m No batch_key inputted, assuming all cells are same batch                            \n",
      "\u001b[34mINFO    \u001b[0m No label_key inputted, assuming all cells have same label                           \n",
      "\u001b[34mINFO    \u001b[0m Using data from adata.layers\u001b[1m[\u001b[0m\u001b[32m\"count\"\u001b[0m\u001b[1m]\u001b[0m                                               \n",
      "\u001b[34mINFO    \u001b[0m Successfully registered anndata object containing \u001b[1;36m16856\u001b[0m cells, \u001b[1;36m2000\u001b[0m vars, \u001b[1;36m1\u001b[0m batches,\n",
      "         \u001b[1;36m1\u001b[0m labels, and \u001b[1;36m0\u001b[0m proteins. Also registered \u001b[1;36m0\u001b[0m extra categorical covariates and \u001b[1;36m0\u001b[0m extra\n",
      "         continuous covariates.                                                              \n",
      "\u001b[34mINFO    \u001b[0m Please do not further modify adata until model is trained.                          \n"
     ]
    }
   ],
   "source": [
    "adata = sc.read_h5ad(\n",
    "    os.path.join(\n",
    "        constants.DEFAULT_DATA_PATH,\n",
    "        f\"{dataset}/preprocessed/adata_top_2000_genes_tc.h5ad\",\n",
    "    )\n",
    ")\n",
    "ContrastiveVIModel.setup_anndata(adata, layer=\"count\")"
   ]
  },
  {
   "cell_type": "code",
   "execution_count": 6,
   "id": "2c819b82-1b72-44f9-ab3b-5fac7d0b0a54",
   "metadata": {},
   "outputs": [],
   "source": [
    "target_indices = np.where(adata.obs[split_key] != background_value)[0]\n",
    "target_adata = adata[target_indices]\n",
    "background_indices = np.where(adata.obs[split_key] == background_value)[0]\n",
    "background_adata = adata[background_indices]"
   ]
  },
  {
   "cell_type": "code",
   "execution_count": 7,
   "id": "6179e3e0-0aa3-438a-a001-8c0ef27c5636",
   "metadata": {},
   "outputs": [
    {
     "name": "stderr",
     "output_type": "stream",
     "text": [
      "100%|███████████████████████████████████████████████████████████████████████████████| 5/5 [00:30<00:00,  6.17s/it]\n"
     ]
    }
   ],
   "source": [
    "contrastiveVI_model_list = []\n",
    "contrastiveVI_latent_rep_list = []\n",
    "scVI_model_list = []\n",
    "for seed in tqdm(seeds):\n",
    "    contrastiveVI_result_dir = os.path.join(\n",
    "        constants.DEFAULT_RESULTS_PATH,\n",
    "        f\"{dataset}/contrastiveVI/latent_{latent_size}\",\n",
    "        f\"{seed}\",\n",
    "    )\n",
    "    contrastiveVI_model_list.append(\n",
    "        torch.load(\n",
    "            os.path.join(contrastiveVI_result_dir, \"model.ckpt\"),\n",
    "            map_location=device,\n",
    "        ),\n",
    "    )\n",
    "    \n",
    "    contrastiveVI_latent_rep_list.append(\n",
    "        np.load(os.path.join(contrastiveVI_result_dir, \"latent_representations.npy\")),\n",
    "    )\n",
    "\n",
    "    scVI_result_dir = os.path.join(\n",
    "        constants.DEFAULT_RESULTS_PATH,\n",
    "        f\"{dataset}/scVI/latent_{latent_size}\",\n",
    "        f\"{seed}\",\n",
    "    )\n",
    "\n",
    "    scVI_model_list.append(\n",
    "        torch.load(\n",
    "            os.path.join(scVI_result_dir, \"model.ckpt\"),\n",
    "            map_location=device,\n",
    "        ),\n",
    "    )"
   ]
  },
  {
   "cell_type": "code",
   "execution_count": 8,
   "id": "6889d6d5-662b-4a19-822e-5d2a2da52986",
   "metadata": {
    "tags": []
   },
   "outputs": [
    {
     "name": "stdout",
     "output_type": "stream",
     "text": [
      "DE...: 100%|████████████████████████████████████████████████████████████████████████| 1/1 [00:00<00:00,  1.17it/s]\n",
      "DE...: 100%|████████████████████████████████████████████████████████████████████████| 1/1 [00:01<00:00,  1.29s/it]\n",
      "DE...: 100%|████████████████████████████████████████████████████████████████████████| 1/1 [00:00<00:00,  4.87it/s]\n",
      "DE...: 100%|████████████████████████████████████████████████████████████████████████| 1/1 [00:01<00:00,  1.39s/it]\n",
      "DE...: 100%|████████████████████████████████████████████████████████████████████████| 1/1 [00:00<00:00,  5.45it/s]\n",
      "DE...: 100%|████████████████████████████████████████████████████████████████████████| 1/1 [00:01<00:00,  1.27s/it]\n",
      "DE...: 100%|████████████████████████████████████████████████████████████████████████| 1/1 [00:00<00:00,  4.84it/s]\n",
      "DE...: 100%|████████████████████████████████████████████████████████████████████████| 1/1 [00:01<00:00,  1.29s/it]\n",
      "DE...: 100%|████████████████████████████████████████████████████████████████████████| 1/1 [00:00<00:00,  5.22it/s]\n",
      "DE...: 100%|████████████████████████████████████████████████████████████████████████| 1/1 [00:01<00:00,  1.37s/it]\n"
     ]
    }
   ],
   "source": [
    "from scipy.stats import spearmanr\n",
    "\n",
    "correlations = []\n",
    "labels = [\"post_transplant\", \"pre_transplant\"]\n",
    "condition_label = [\"condition\"]\n",
    "\n",
    "for (scVI_model, contrastiveVI_model, latent_rep) in zip(\n",
    "    scVI_model_list, contrastiveVI_model_list, contrastiveVI_latent_rep_list\n",
    "):\n",
    "    latent_clusters = KMeans(n_clusters=2, random_state=123).fit(latent_rep).labels_\n",
    "    cluster_label = f\"cluster\"\n",
    "    \n",
    "    tmp_target_adata = target_adata.copy()\n",
    "    tmp_target_adata.obs[cluster_label] = latent_clusters.astype(str)\n",
    "\n",
    "\n",
    "    scVI_de_result = scVI_model.differential_expression(\n",
    "        adata=tmp_target_adata,\n",
    "        groupby=cluster_label,\n",
    "        group1=\"0\",\n",
    "        group2=\"1\",\n",
    "        idx1=None,\n",
    "        idx2=None,\n",
    "        mode=\"change\",\n",
    "        delta=0.25,\n",
    "        batch_size=128,\n",
    "        all_stats=True,\n",
    "        batch_correction=False,\n",
    "        batchid1=None,\n",
    "        batchid2=None,\n",
    "        fdr_target=0.05,\n",
    "        silent=False,\n",
    "        n_samples=100,\n",
    "    )\n",
    "\n",
    "    contrastiveVI_de_result = contrastiveVI_model.differential_expression(\n",
    "        adata=tmp_target_adata,\n",
    "        groupby=cluster_label,\n",
    "        group1=\"0\",\n",
    "        group2=\"1\",\n",
    "        idx1=None,\n",
    "        idx2=None,\n",
    "        mode=\"change\",\n",
    "        delta=0.25,\n",
    "        batch_size=128,\n",
    "        all_stats=True,\n",
    "        batch_correction=False,\n",
    "        batchid1=None,\n",
    "        batchid2=None,\n",
    "        fdr_target=0.05,\n",
    "        silent=False,\n",
    "    )\n",
    "\n",
    "    correlations.append(spearmanr(\n",
    "        scVI_de_result['bayes_factor'].values,\n",
    "        contrastiveVI_de_result['bayes_factor'].values\n",
    "    )[0])"
   ]
  },
  {
   "cell_type": "code",
   "execution_count": 9,
   "id": "7fa9b6f5-3590-4163-b841-314800d7de3a",
   "metadata": {},
   "outputs": [
    {
     "data": {
      "text/plain": [
       "[0.9984884217645608,\n",
       " 0.9984980532500395,\n",
       " 0.9985154552884273,\n",
       " 0.9987561837871823,\n",
       " 0.9982017288261604]"
      ]
     },
     "execution_count": 9,
     "metadata": {},
     "output_type": "execute_result"
    }
   ],
   "source": [
    "correlations"
   ]
  },
  {
   "cell_type": "code",
   "execution_count": 10,
   "id": "585c115d-9b3d-4ebe-8c60-26590506013f",
   "metadata": {},
   "outputs": [
    {
     "data": {
      "text/plain": [
       "0.9984919685832739"
      ]
     },
     "execution_count": 10,
     "metadata": {},
     "output_type": "execute_result"
    }
   ],
   "source": [
    "np.mean(correlations)"
   ]
  }
 ],
 "metadata": {
  "kernelspec": {
   "display_name": "Python 3",
   "language": "python",
   "name": "python3"
  },
  "language_info": {
   "codemirror_mode": {
    "name": "ipython",
    "version": 3
   },
   "file_extension": ".py",
   "mimetype": "text/x-python",
   "name": "python",
   "nbconvert_exporter": "python",
   "pygments_lexer": "ipython3",
   "version": "3.9.12"
  }
 },
 "nbformat": 4,
 "nbformat_minor": 5
}
